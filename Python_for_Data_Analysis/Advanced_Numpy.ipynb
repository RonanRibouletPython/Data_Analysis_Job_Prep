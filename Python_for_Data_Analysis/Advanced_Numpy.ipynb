{
 "cells": [
  {
   "cell_type": "markdown",
   "metadata": {},
   "source": [
    "Start: Numpy Basics from Python for Data Analysis book by Wes McKinney"
   ]
  },
  {
   "cell_type": "code",
   "execution_count": 2,
   "metadata": {},
   "outputs": [],
   "source": [
    "import numpy as np"
   ]
  },
  {
   "cell_type": "markdown",
   "metadata": {},
   "source": [
    "Topics for Data Analysis:\n",
    "- Fast vectorized array operations for data munging and cleaning, subsetting and\n",
    "filtering, transformation, and any other kinds of computations\n",
    "- Common array algorithms like sorting, unique, and set operations\n",
    "- Efficient descriptive statistics and aggregating/summarizing data\n",
    "- Data alignment and relational data manipulations for merging and joining\n",
    "together heterogeneous datasets\n",
    "- Expressing conditional logic as array expressions instead of loops with if-elifelse\n",
    "branches\n",
    "- Group-wise data manipulations (aggregation, transformation, function application)"
   ]
  },
  {
   "cell_type": "markdown",
   "metadata": {},
   "source": [
    "4.1 The NumPy ndarray: A Multidimensional Array Object"
   ]
  },
  {
   "cell_type": "code",
   "execution_count": 3,
   "metadata": {},
   "outputs": [
    {
     "name": "stdout",
     "output_type": "stream",
     "text": [
      "[[0.88858052 0.7520688  0.45499294]\n",
      " [0.97589812 0.15466148 0.47364846]]\n"
     ]
    }
   ],
   "source": [
    "# Generate a random set of data\n",
    "data = np.random.rand(2, 3)\n",
    "print(data)"
   ]
  },
  {
   "cell_type": "code",
   "execution_count": 4,
   "metadata": {},
   "outputs": [
    {
     "name": "stdout",
     "output_type": "stream",
     "text": [
      "[[8.88580518 7.52068798 4.54992944]\n",
      " [9.75898115 1.54661477 4.73648456]]\n",
      "[[1.77716104 1.5041376  0.90998589]\n",
      " [1.95179623 0.30932295 0.94729691]]\n"
     ]
    }
   ],
   "source": [
    "# Mathematical operations on the data\n",
    "mul = data * 10\n",
    "print(mul)\n",
    "\n",
    "add = data + data\n",
    "print(add)"
   ]
  },
  {
   "cell_type": "code",
   "execution_count": 5,
   "metadata": {},
   "outputs": [
    {
     "name": "stdout",
     "output_type": "stream",
     "text": [
      "(2, 3)\n",
      "float64\n"
     ]
    }
   ],
   "source": [
    "# Get the shape and type of the array\n",
    "shape = data.shape\n",
    "print(shape)\n",
    "\n",
    "type = data.dtype\n",
    "print(type)"
   ]
  },
  {
   "cell_type": "code",
   "execution_count": 6,
   "metadata": {},
   "outputs": [
    {
     "name": "stdout",
     "output_type": "stream",
     "text": [
      "[  1.    1.2   3.    5.5 -12.   -7.8]\n"
     ]
    }
   ],
   "source": [
    "# Creating ndarrays with one dimension\n",
    "data1 = [1, 1.2, 3, 5.5, -12, -7.8]\n",
    "data1 = np.array(data1)\n",
    "print(data1)"
   ]
  },
  {
   "cell_type": "code",
   "execution_count": 7,
   "metadata": {},
   "outputs": [
    {
     "name": "stdout",
     "output_type": "stream",
     "text": [
      "[[1 2 3 4]\n",
      " [5 6 7 8]]\n",
      "Dimension of the array [[1 2 3 4]\n",
      " [5 6 7 8]]: 2 \n",
      "Shape of the array [[1 2 3 4]\n",
      " [5 6 7 8]]: (2, 4) \n"
     ]
    }
   ],
   "source": [
    "# Creating ndarrays with multiple dimensions\n",
    "data2 = [[1, 2, 3, 4], [5, 6, 7, 8]]\n",
    "data2 = np.array(data2)\n",
    "print(data2)\n",
    "\n",
    "print(f\"Dimension of the array {data2}: {data2.ndim} \")\n",
    "print(f\"Shape of the array {data2}: {data2.shape} \")"
   ]
  },
  {
   "cell_type": "code",
   "execution_count": 8,
   "metadata": {},
   "outputs": [
    {
     "name": "stdout",
     "output_type": "stream",
     "text": [
      " Type of [  1.    1.2   3.    5.5 -12.   -7.8] is float64\n",
      " Type of [[1 2 3 4]\n",
      " [5 6 7 8]] is int64\n"
     ]
    }
   ],
   "source": [
    "# The ndarrays are automatically typed\n",
    "print(f\" Type of {data1} is {data1.dtype}\")\n",
    "print(f\" Type of {data2} is {data2.dtype}\")"
   ]
  },
  {
   "cell_type": "code",
   "execution_count": 9,
   "metadata": {},
   "outputs": [
    {
     "name": "stdout",
     "output_type": "stream",
     "text": [
      "[0. 0. 0. 0. 0. 0. 0. 0. 0. 0.]\n",
      "[[1. 1.]\n",
      " [1. 1.]\n",
      " [1. 1.]\n",
      " [1. 1.]\n",
      " [1. 1.]\n",
      " [1. 1.]\n",
      " [1. 1.]\n",
      " [1. 1.]\n",
      " [1. 1.]\n",
      " [1. 1.]]\n"
     ]
    }
   ],
   "source": [
    "# Create array of zeros\n",
    "print(np.zeros(10))\n",
    "# Create array of ones (tuple as a shape)\n",
    "print(np.ones((10,2)))\n",
    "\n"
   ]
  },
  {
   "cell_type": "code",
   "execution_count": 10,
   "metadata": {},
   "outputs": [
    {
     "data": {
      "text/plain": [
       "array([[[9.47799446e-312, 3.16202013e-322],\n",
       "        [0.00000000e+000, 0.00000000e+000],\n",
       "        [1.11260619e-306, 8.23009093e-067]],\n",
       "\n",
       "       [[2.59834267e-056, 1.18779705e-075],\n",
       "        [3.95373276e+179, 1.21544159e-046],\n",
       "        [1.50195669e-076, 8.03394082e-042]]])"
      ]
     },
     "execution_count": 10,
     "metadata": {},
     "output_type": "execute_result"
    }
   ],
   "source": [
    "# Create an array without initializing its values\n",
    "np.empty((2, 3, 2))"
   ]
  },
  {
   "cell_type": "code",
   "execution_count": 11,
   "metadata": {},
   "outputs": [
    {
     "data": {
      "text/plain": [
       "array([ 5., 10., 15., 20., 25., 30., 35., 40., 45., 50., 55., 60., 65.,\n",
       "       70., 75., 80., 85., 90., 95.])"
      ]
     },
     "execution_count": 11,
     "metadata": {},
     "output_type": "execute_result"
    }
   ],
   "source": [
    "# Create an array-valued version of the built-in Python range function\n",
    "np.arange(start=5, stop=100, step=5, dtype=float)"
   ]
  },
  {
   "cell_type": "code",
   "execution_count": 12,
   "metadata": {},
   "outputs": [
    {
     "data": {
      "text/plain": [
       "array([[12, 12],\n",
       "       [12, 12],\n",
       "       [12, 12],\n",
       "       [12, 12],\n",
       "       [12, 12]])"
      ]
     },
     "execution_count": 12,
     "metadata": {},
     "output_type": "execute_result"
    }
   ],
   "source": [
    "# Produce an array of the given shape and dtype with all values set to the indicated “fill value”\n",
    "np.full((5,2), 12)"
   ]
  },
  {
   "cell_type": "code",
   "execution_count": 13,
   "metadata": {},
   "outputs": [
    {
     "name": "stdout",
     "output_type": "stream",
     "text": [
      "(2, 3) (2, 3)\n",
      "[[0. 0. 0.]\n",
      " [0. 0. 0.]]\n",
      "[[2. 2. 2.]\n",
      " [2. 2. 2.]]\n"
     ]
    }
   ],
   "source": [
    "arrray_zeros = np.zeros((2,3))\n",
    "# full_like takes another array and produces a filled array of the same shape and dtype\n",
    "filled_array_twos = np.full_like(arrray_zeros, 2)\n",
    "print(arrray_zeros.shape, filled_array_twos.shape)\n",
    "print(arrray_zeros)\n",
    "print(filled_array_twos)"
   ]
  },
  {
   "cell_type": "code",
   "execution_count": 14,
   "metadata": {},
   "outputs": [
    {
     "name": "stdout",
     "output_type": "stream",
     "text": [
      "[[1. 0. 0. 0. 0. 0. 0. 0. 0. 0.]\n",
      " [0. 1. 0. 0. 0. 0. 0. 0. 0. 0.]\n",
      " [0. 0. 1. 0. 0. 0. 0. 0. 0. 0.]\n",
      " [0. 0. 0. 1. 0. 0. 0. 0. 0. 0.]\n",
      " [0. 0. 0. 0. 1. 0. 0. 0. 0. 0.]\n",
      " [0. 0. 0. 0. 0. 1. 0. 0. 0. 0.]\n",
      " [0. 0. 0. 0. 0. 0. 1. 0. 0. 0.]\n",
      " [0. 0. 0. 0. 0. 0. 0. 1. 0. 0.]\n",
      " [0. 0. 0. 0. 0. 0. 0. 0. 1. 0.]\n",
      " [0. 0. 0. 0. 0. 0. 0. 0. 0. 1.]]\n",
      "[[1. 0. 0. 0. 0. 0. 0. 0. 0. 0.]\n",
      " [0. 1. 0. 0. 0. 0. 0. 0. 0. 0.]\n",
      " [0. 0. 1. 0. 0. 0. 0. 0. 0. 0.]\n",
      " [0. 0. 0. 1. 0. 0. 0. 0. 0. 0.]\n",
      " [0. 0. 0. 0. 1. 0. 0. 0. 0. 0.]\n",
      " [0. 0. 0. 0. 0. 1. 0. 0. 0. 0.]\n",
      " [0. 0. 0. 0. 0. 0. 1. 0. 0. 0.]\n",
      " [0. 0. 0. 0. 0. 0. 0. 1. 0. 0.]\n",
      " [0. 0. 0. 0. 0. 0. 0. 0. 1. 0.]\n",
      " [0. 0. 0. 0. 0. 0. 0. 0. 0. 1.]]\n"
     ]
    }
   ],
   "source": [
    "# Create identity matrices\n",
    "identity_matrix1 = np.eye(10,10)\n",
    "identity_matrix2 = np.identity(10)\n",
    "print(identity_matrix1)\n",
    "print(identity_matrix2)\n"
   ]
  },
  {
   "cell_type": "markdown",
   "metadata": {},
   "source": [
    "Data Types for ndarrays"
   ]
  },
  {
   "cell_type": "code",
   "execution_count": 15,
   "metadata": {},
   "outputs": [
    {
     "name": "stdout",
     "output_type": "stream",
     "text": [
      "[1.+0.j 2.+0.j 3.+0.j]\n"
     ]
    }
   ],
   "source": [
    "arr1 = np.array([1, 2, 3], dtype=np.complex128,)\n",
    "arr1.dtype\n",
    "print(arr1)"
   ]
  },
  {
   "cell_type": "code",
   "execution_count": 16,
   "metadata": {},
   "outputs": [
    {
     "data": {
      "text/plain": [
       "dtype('int32')"
      ]
     },
     "execution_count": 16,
     "metadata": {},
     "output_type": "execute_result"
    }
   ],
   "source": [
    "arr2 = np.array([1, 2, 3], dtype=np.int32)\n",
    "arr2.dtype"
   ]
  },
  {
   "cell_type": "markdown",
   "metadata": {},
   "source": [
    "List of types supported by NumPy:\n",
    "- int8 (i1), uint8 (u1): Signed and unsigned 8-bit (1 byte) integer types\n",
    "- int16 (i2), uint16 (u2): Signed and unsigned 16-bit integer types\n",
    "- int32 (i4), uint32 (u4): Signed and unsigned 32-bit integer types\n",
    "- int64 (i8), uint64 (u8): Signed and unsigned 64-bit integer types\n",
    "- float16 (f2): Half-precision floating point\n",
    "- float32 (f4 or f): Standard single-precision floating point; compatible with C float\n",
    "- float64 (f8 or d): Standard double-precision floating point; compatible with C double and Python float object\n",
    "- float128 (f16 or g): Extended-precision floating point\n",
    "- complex64 (c8), complex128 (c16), complex256 (c32): Complex numbers represented by two 32, 64, or 128 floats, respectively\n",
    "- bool (?): Boolean type storing True and False values\n",
    "- object (O): Python object type; a value can be any Python object\n",
    "- string (S): Fixed-length ASCII string type (1 byte per character); for example, to create a string dtype with length 10, use 'S10'\n",
    "- unicode (U): Fixed-length Unicode type (number of bytes platform specific); same\n",
    "specification semantics as string_ (e.g., 'U10')"
   ]
  },
  {
   "cell_type": "code",
   "execution_count": 17,
   "metadata": {},
   "outputs": [
    {
     "name": "stdout",
     "output_type": "stream",
     "text": [
      "First type of the array int64\n",
      "Casted type of the array float64\n"
     ]
    }
   ],
   "source": [
    "# Cast an array explicitly\n",
    "arr = np.array([1, 2, 3, 4, 5])\n",
    "print(f\"First type of the array {arr.dtype}\")\n",
    "float_arr = arr.astype(np.float64)\n",
    "print(f\"Casted type of the array {float_arr.dtype}\")"
   ]
  },
  {
   "cell_type": "code",
   "execution_count": 18,
   "metadata": {},
   "outputs": [
    {
     "name": "stdout",
     "output_type": "stream",
     "text": [
      "Information of the array with floating points [ 3.7 -1.2 -2.6  0.5 12.9 10.1]\n",
      "Information of the array with integers [ 3 -1 -2  0 12 10]\n"
     ]
    }
   ],
   "source": [
    "# Loss of information during cast\n",
    "arr = np.array([3.7, -1.2, -2.6, 0.5, 12.9, 10.1])\n",
    "print(f\"Information of the array with floating points {arr}\")\n",
    "# Cast of the array to integers\n",
    "int_arr = arr.astype(np.int32)\n",
    "print(f\"Information of the array with integers {int_arr}\")"
   ]
  },
  {
   "cell_type": "code",
   "execution_count": 19,
   "metadata": {},
   "outputs": [
    {
     "name": "stdout",
     "output_type": "stream",
     "text": [
      "Casted string to numerical floating point values float64\n"
     ]
    }
   ],
   "source": [
    "# Cast array of strings representing numeric values (use np.bytes_ instead of np.string since NumPy 2.0)\n",
    "numeric_strings = np.array(['1.25', '-9.6', '42'], dtype=np.bytes_)\n",
    "numeric_strings = numeric_strings.astype(float)\n",
    "print(f\"Casted string to numerical floating point values {numeric_strings.dtype}\")"
   ]
  },
  {
   "cell_type": "code",
   "execution_count": 20,
   "metadata": {},
   "outputs": [
    {
     "name": "stdout",
     "output_type": "stream",
     "text": [
      "[         0          0 2794633008        446 2794629888        446\n",
      " 2794629968        446] uint32\n"
     ]
    }
   ],
   "source": [
    "# Use shorthand as dtypes\n",
    "empty_uint32 = np.empty(8, dtype='u4')\n",
    "print(empty_uint32, empty_uint32.dtype)\n",
    "\n"
   ]
  },
  {
   "cell_type": "markdown",
   "metadata": {},
   "source": [
    "Arithmetic with NumPy arrays"
   ]
  },
  {
   "cell_type": "code",
   "execution_count": 21,
   "metadata": {},
   "outputs": [
    {
     "data": {
      "text/plain": [
       "array([[ 1.,  4.,  9.],\n",
       "       [16., 25., 36.]])"
      ]
     },
     "execution_count": 21,
     "metadata": {},
     "output_type": "execute_result"
    }
   ],
   "source": [
    "# Use batch operations without loops\n",
    "arr = np.array([[1., 2., 3.], [4., 5., 6.]])\n",
    "\n",
    "arr ** 2"
   ]
  },
  {
   "cell_type": "code",
   "execution_count": 22,
   "metadata": {},
   "outputs": [
    {
     "name": "stdout",
     "output_type": "stream",
     "text": [
      "[[ True False  True]\n",
      " [False  True False]]\n"
     ]
    }
   ],
   "source": [
    "# Comparison between two arrays create a new array with boolean values\n",
    "arr1 = np.array([[1., 2., 3.], [4., 5., 6.]])\n",
    "arr2 = np.array([[0., 4., 1.], [7., 2., 12.]])\n",
    "\n",
    "print(arr1 > arr2)"
   ]
  },
  {
   "cell_type": "markdown",
   "metadata": {},
   "source": [
    "Boolean indexing"
   ]
  },
  {
   "cell_type": "code",
   "execution_count": 23,
   "metadata": {},
   "outputs": [
    {
     "name": "stdout",
     "output_type": "stream",
     "text": [
      "['Bob' 'Joe' 'Will' 'Bob' 'Will' 'Joe' 'Joe'] <U4 (7,)\n",
      "[[ 2.72029814  1.0460852   0.18522771  0.01946102]\n",
      " [-0.87208698 -3.36461117  0.93769823  0.73371306]\n",
      " [-0.33607918 -0.67318552  0.29474069 -0.54601805]\n",
      " [-0.61497639 -2.04792625 -0.05170833 -0.92930583]\n",
      " [ 0.38734891 -0.50578761 -0.17594827 -0.01480459]\n",
      " [ 0.09930235  1.91556529 -1.08454362 -0.97803802]\n",
      " [ 0.60509287  0.57622709  0.44878758  0.69129616]] float64 (7, 4)\n"
     ]
    }
   ],
   "source": [
    "names = np.array(['Bob', 'Joe', 'Will', 'Bob', 'Will', 'Joe', 'Joe'])\n",
    "data = np.random.randn(7, 4)\n",
    "print(names, names.dtype, names.shape)\n",
    "print(data, data.dtype, data.shape)\n"
   ]
  },
  {
   "cell_type": "code",
   "execution_count": 24,
   "metadata": {},
   "outputs": [
    {
     "name": "stdout",
     "output_type": "stream",
     "text": [
      "[ True False False  True False False False]\n",
      "[[ 2.72029814  1.0460852   0.18522771  0.01946102]\n",
      " [-0.61497639 -2.04792625 -0.05170833 -0.92930583]]\n",
      "[[ 0.18522771  0.01946102]\n",
      " [-0.05170833 -0.92930583]]\n"
     ]
    }
   ],
   "source": [
    "# Boolean selection\n",
    "print(names == \"Bob\")\n",
    "print(data[names == \"Bob\"])\n",
    "# Boolean selection with indexing\n",
    "print(data[names == \"Bob\", 2:])"
   ]
  },
  {
   "cell_type": "code",
   "execution_count": 25,
   "metadata": {},
   "outputs": [
    {
     "name": "stdout",
     "output_type": "stream",
     "text": [
      "[[-0.87208698 -3.36461117  0.93769823  0.73371306]\n",
      " [-0.33607918 -0.67318552  0.29474069 -0.54601805]\n",
      " [ 0.38734891 -0.50578761 -0.17594827 -0.01480459]\n",
      " [ 0.09930235  1.91556529 -1.08454362 -0.97803802]\n",
      " [ 0.60509287  0.57622709  0.44878758  0.69129616]]\n"
     ]
    }
   ],
   "source": [
    "# Selection with inverted condition\n",
    "cond = names == 'Bob'\n",
    "print(data[~cond])"
   ]
  },
  {
   "cell_type": "code",
   "execution_count": 26,
   "metadata": {},
   "outputs": [
    {
     "name": "stdout",
     "output_type": "stream",
     "text": [
      "[[-0.87208698 -3.36461117  0.93769823  0.73371306]\n",
      " [ 0.09930235  1.91556529 -1.08454362 -0.97803802]\n",
      " [ 0.60509287  0.57622709  0.44878758  0.69129616]]\n"
     ]
    }
   ],
   "source": [
    "# Selection with inverted condition with creation of a mask\n",
    "mask = (names == 'Bob') | (names == 'Will')\n",
    "print(data[~mask])\n",
    "\n",
    "## The Python keywords and and or do not work with boolean arrays we have to use & (and) and | (or) instead ##"
   ]
  },
  {
   "cell_type": "code",
   "execution_count": 27,
   "metadata": {},
   "outputs": [
    {
     "name": "stdout",
     "output_type": "stream",
     "text": [
      "[[0.         0.0478897  0.90944899 0.12402133]\n",
      " [0.04248635 0.         1.76956796 0.91642999]\n",
      " [0.         0.77396051 0.         0.        ]\n",
      " [0.         0.         0.19429904 1.75393729]\n",
      " [0.15895959 0.         0.62658654 0.58401748]\n",
      " [0.         0.         0.66601036 0.        ]\n",
      " [0.7339389  0.06325991 0.         0.        ]]\n"
     ]
    }
   ],
   "source": [
    "# Example of boolean condition: set the negative values to 0\n",
    "data = np.random.randn(7, 4)\n",
    "data[data < 0] = 0\n",
    "print(data)\n"
   ]
  },
  {
   "cell_type": "markdown",
   "metadata": {},
   "source": [
    "Fancy indexing:\n",
    "* Definition: it is a term adopted by NumPy to describe indexing using integer arrays"
   ]
  },
  {
   "cell_type": "code",
   "execution_count": 28,
   "metadata": {},
   "outputs": [
    {
     "name": "stdout",
     "output_type": "stream",
     "text": [
      "[[0 0 0 0]\n",
      " [1 1 1 1]\n",
      " [2 2 2 2]\n",
      " [3 3 3 3]\n",
      " [4 4 4 4]\n",
      " [5 5 5 5]\n",
      " [6 6 6 6]\n",
      " [7 7 7 7]]\n"
     ]
    }
   ],
   "source": [
    "arr = np.empty((8, 4), dtype=int)\n",
    "for i in range(8):\n",
    "    arr[i] = i\n",
    "\n",
    "print(arr)"
   ]
  },
  {
   "cell_type": "code",
   "execution_count": 29,
   "metadata": {},
   "outputs": [
    {
     "name": "stdout",
     "output_type": "stream",
     "text": [
      "[[4 4 4 4]\n",
      " [3 3 3 3]\n",
      " [0 0 0 0]\n",
      " [6 6 6 6]]\n"
     ]
    },
    {
     "data": {
      "text/plain": [
       "array([[5, 5, 5, 5],\n",
       "       [3, 3, 3, 3],\n",
       "       [1, 1, 1, 1]])"
      ]
     },
     "execution_count": 29,
     "metadata": {},
     "output_type": "execute_result"
    }
   ],
   "source": [
    "# In order to select out a subset of the rows in a particular order, you can simply pass a list or\n",
    "#ndarray of integers specifying the desired order\n",
    "print(arr[[4, 3, 0, 6]])\n",
    "\n",
    "# Using negative indices specify the rows to select in reverse order\n",
    "arr[[-3, -5, -7]]\n",
    "# Indices: 8-3=5  8-5=3 8-7=1"
   ]
  },
  {
   "cell_type": "code",
   "execution_count": 30,
   "metadata": {},
   "outputs": [
    {
     "name": "stdout",
     "output_type": "stream",
     "text": [
      "[[ 0  1  2  3]\n",
      " [ 4  5  6  7]\n",
      " [ 8  9 10 11]\n",
      " [12 13 14 15]\n",
      " [16 17 18 19]\n",
      " [20 21 22 23]\n",
      " [24 25 26 27]\n",
      " [28 29 30 31]]\n",
      "[ 4 23 29 10]\n"
     ]
    }
   ],
   "source": [
    "# Passing multiple index arrays does something slightly different; it selects a onedimensional\n",
    "#array of elements corresponding to each tuple of indices:\n",
    "arr = np.arange(32).reshape((8, 4))\n",
    "print(arr)\n",
    "\n",
    "select_arr = arr[[1, 5, 7, 2], [0, 3, 1, 2]]\n",
    "print(select_arr)  # Output: [4, 23, 29, 10] -> positions of the values = [(0,1), (3,5), (1,7), (2,2)]\n",
    "\n"
   ]
  },
  {
   "cell_type": "markdown",
   "metadata": {},
   "source": [
    "Transposing Arrays and Swapping Axes"
   ]
  },
  {
   "cell_type": "code",
   "execution_count": 31,
   "metadata": {},
   "outputs": [
    {
     "name": "stdout",
     "output_type": "stream",
     "text": [
      "[[0 1 2]\n",
      " [3 4 5]\n",
      " [6 7 8]]\n",
      "[[0 3 6]\n",
      " [1 4 7]\n",
      " [2 5 8]]\n",
      "[[0 3 6]\n",
      " [1 4 7]\n",
      " [2 5 8]]\n"
     ]
    }
   ],
   "source": [
    "arr = np.arange(9).reshape((3, 3))\n",
    "print(arr)\n",
    "\n",
    "# Transpose the array\n",
    "arr_t1 = np.transpose(arr)\n",
    "print(arr_t1)\n",
    "\n",
    "arr_t2 = arr.T\n",
    "print(arr_t2)"
   ]
  },
  {
   "cell_type": "code",
   "execution_count": 32,
   "metadata": {},
   "outputs": [
    {
     "name": "stdout",
     "output_type": "stream",
     "text": [
      "[[[ 0  1  2  3]\n",
      "  [ 4  5  6  7]]\n",
      "\n",
      " [[ 8  9 10 11]\n",
      "  [12 13 14 15]]]\n",
      "[[[ 0  4]\n",
      "  [ 1  5]\n",
      "  [ 2  6]\n",
      "  [ 3  7]]\n",
      "\n",
      " [[ 8 12]\n",
      "  [ 9 13]\n",
      "  [10 14]\n",
      "  [11 15]]]\n"
     ]
    }
   ],
   "source": [
    "# Swap axes\n",
    "arr = np.arange(16).reshape((2, 2, 4))\n",
    "print(arr)\n",
    "swap_ax = arr.swapaxes(1,2)\n",
    "print(swap_ax)"
   ]
  },
  {
   "cell_type": "markdown",
   "metadata": {},
   "source": [
    "## Universal Functions: Fast Element-Wise Array Functions:\n",
    "* A universal function, or ufunc, is a function that performs element-wise operations on data in ndarrays\n",
    "* You can think of them as fast vectorized wrappers for simple\n",
    "functions that take one or more scalar values and produce one or more scalar results"
   ]
  },
  {
   "cell_type": "code",
   "execution_count": 34,
   "metadata": {},
   "outputs": [
    {
     "name": "stdout",
     "output_type": "stream",
     "text": [
      "[0 1 2 3 4 5 6 7 8 9]\n"
     ]
    }
   ],
   "source": [
    "array = np.arange(10)\n",
    "print(array)"
   ]
  },
  {
   "cell_type": "code",
   "execution_count": 36,
   "metadata": {},
   "outputs": [
    {
     "name": "stdout",
     "output_type": "stream",
     "text": [
      "[0.         1.         1.41421356 1.73205081 2.         2.23606798\n",
      " 2.44948974 2.64575131 2.82842712 3.        ]\n"
     ]
    }
   ],
   "source": [
    "# Perform the square root on all items of the np.array\n",
    "array = np.sqrt(array)\n",
    "print(array)"
   ]
  },
  {
   "cell_type": "code",
   "execution_count": 37,
   "metadata": {},
   "outputs": [
    {
     "name": "stdout",
     "output_type": "stream",
     "text": [
      "[ 1.          2.71828183  4.11325038  5.65223367  7.3890561   9.35646902\n",
      " 11.58243519 14.09403011 16.91882868 20.08553692]\n"
     ]
    }
   ],
   "source": [
    "# Perform the exponential on all items of the nd.array\n",
    "array = np.exp(array)\n",
    "print(array)"
   ]
  },
  {
   "cell_type": "markdown",
   "metadata": {},
   "source": [
    "* ***unary***: Others functions, such as add or maximum, take two arrays (thus, binary ufuncs) and return a single array as the result"
   ]
  },
  {
   "cell_type": "code",
   "execution_count": 39,
   "metadata": {},
   "outputs": [
    {
     "name": "stdout",
     "output_type": "stream",
     "text": [
      "[-0.61353843 -0.53915955  1.50271319  1.79970101  2.18844309 -0.72009134\n",
      "  0.50101919 -0.32461596]\n",
      "[-0.81240752 -0.97099821  1.49635335  1.47699218  0.63893209 -0.92272442\n",
      "  1.76376202  1.06246533]\n"
     ]
    }
   ],
   "source": [
    "# Create two np.arrays\n",
    "x = np.random.randn(8)\n",
    "y = np.random.randn(8)\n",
    "\n",
    "print(x)\n",
    "print(y)"
   ]
  },
  {
   "cell_type": "code",
   "execution_count": 40,
   "metadata": {},
   "outputs": [
    {
     "name": "stdout",
     "output_type": "stream",
     "text": [
      "[-0.61353843 -0.53915955  1.50271319  1.79970101  2.18844309 -0.72009134\n",
      "  1.76376202  1.06246533]\n"
     ]
    }
   ],
   "source": [
    "max_arr = np.maximum(x, y)\n",
    "print(max_arr)"
   ]
  },
  {
   "cell_type": "markdown",
   "metadata": {},
   "source": [
    "* While not common, a ufunc can return multiple arrays. modf is one example, a vectorized version of the built-in Python divmod; it returns the fractional and integral parts of a floating-point array"
   ]
  },
  {
   "cell_type": "code",
   "execution_count": 42,
   "metadata": {},
   "outputs": [
    {
     "name": "stdout",
     "output_type": "stream",
     "text": [
      "[  4.92347651  -0.23923073   0.82358909  -5.56702421   1.36602415\n",
      " -11.70924824   0.3201148 ]\n"
     ]
    }
   ],
   "source": [
    "array = np.random.randn(7) * 5\n",
    "print(array)"
   ]
  },
  {
   "cell_type": "code",
   "execution_count": 45,
   "metadata": {},
   "outputs": [
    {
     "name": "stdout",
     "output_type": "stream",
     "text": [
      "[ 0.92347651 -0.23923073  0.82358909 -0.56702421  0.36602415 -0.70924824\n",
      "  0.3201148 ]\n",
      "[  4.  -0.   0.  -5.   1. -11.   0.]\n"
     ]
    }
   ],
   "source": [
    "remainder, whole_part = np.modf(array)\n",
    "print(remainder)\n",
    "print(whole_part)"
   ]
  }
 ],
 "metadata": {
  "kernelspec": {
   "display_name": "py_env_analysis",
   "language": "python",
   "name": "python3"
  },
  "language_info": {
   "codemirror_mode": {
    "name": "ipython",
    "version": 3
   },
   "file_extension": ".py",
   "mimetype": "text/x-python",
   "name": "python",
   "nbconvert_exporter": "python",
   "pygments_lexer": "ipython3",
   "version": "3.11.9"
  }
 },
 "nbformat": 4,
 "nbformat_minor": 2
}
