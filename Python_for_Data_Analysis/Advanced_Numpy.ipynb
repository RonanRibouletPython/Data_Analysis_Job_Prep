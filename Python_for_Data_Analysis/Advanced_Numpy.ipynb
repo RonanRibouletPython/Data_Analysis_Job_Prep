{
 "cells": [
  {
   "cell_type": "markdown",
   "metadata": {},
   "source": [
    "Start: Numpy Basics from Python for Data Analysis book by Wes McKinney"
   ]
  },
  {
   "cell_type": "code",
   "execution_count": 1,
   "metadata": {},
   "outputs": [],
   "source": [
    "import numpy as np"
   ]
  },
  {
   "cell_type": "markdown",
   "metadata": {},
   "source": [
    "Topics for Data Analysis:\n",
    "- Fast vectorized array operations for data munging and cleaning, subsetting and\n",
    "filtering, transformation, and any other kinds of computations\n",
    "- Common array algorithms like sorting, unique, and set operations\n",
    "- Efficient descriptive statistics and aggregating/summarizing data\n",
    "- Data alignment and relational data manipulations for merging and joining\n",
    "together heterogeneous datasets\n",
    "- Expressing conditional logic as array expressions instead of loops with if-elifelse\n",
    "branches\n",
    "- Group-wise data manipulations (aggregation, transformation, function application)"
   ]
  },
  {
   "cell_type": "markdown",
   "metadata": {},
   "source": [
    "4.1 The NumPy ndarray: A Multidimensional Array Object"
   ]
  },
  {
   "cell_type": "code",
   "execution_count": 3,
   "metadata": {},
   "outputs": [
    {
     "name": "stdout",
     "output_type": "stream",
     "text": [
      "[[0.53695294 0.62550069 0.2824244 ]\n",
      " [0.3290826  0.45521543 0.51167884]]\n"
     ]
    }
   ],
   "source": [
    "# Generate a random set of data\n",
    "data = np.random.rand(2, 3)\n",
    "print(data)"
   ]
  },
  {
   "cell_type": "code",
   "execution_count": 6,
   "metadata": {},
   "outputs": [
    {
     "name": "stdout",
     "output_type": "stream",
     "text": [
      "[[5.36952936 6.25500694 2.82424403]\n",
      " [3.29082604 4.55215429 5.11678844]]\n",
      "[[1.07390587 1.25100139 0.56484881]\n",
      " [0.65816521 0.91043086 1.02335769]]\n"
     ]
    }
   ],
   "source": [
    "# Mathematical operations on the data\n",
    "mul = data * 10\n",
    "print(mul)\n",
    "\n",
    "add = data + data\n",
    "print(add)"
   ]
  },
  {
   "cell_type": "code",
   "execution_count": 11,
   "metadata": {},
   "outputs": [
    {
     "name": "stdout",
     "output_type": "stream",
     "text": [
      "(2, 3)\n",
      "float64\n"
     ]
    }
   ],
   "source": [
    "# Get the shape and type of the array\n",
    "shape = data.shape\n",
    "print(shape)\n",
    "\n",
    "type = data.dtype\n",
    "print(type)"
   ]
  },
  {
   "cell_type": "code",
   "execution_count": 14,
   "metadata": {},
   "outputs": [
    {
     "name": "stdout",
     "output_type": "stream",
     "text": [
      "[  1.    1.2   3.    5.5 -12.   -7.8]\n"
     ]
    }
   ],
   "source": [
    "# Creating ndarrays with one dimension\n",
    "data1 = [1, 1.2, 3, 5.5, -12, -7.8]\n",
    "data1 = np.array(data1)\n",
    "print(data1)"
   ]
  },
  {
   "cell_type": "code",
   "execution_count": 17,
   "metadata": {},
   "outputs": [
    {
     "name": "stdout",
     "output_type": "stream",
     "text": [
      "[[1 2 3 4]\n",
      " [5 6 7 8]]\n",
      "Dimension of the array [[1 2 3 4]\n",
      " [5 6 7 8]]: 2 \n",
      "Shape of the array [[1 2 3 4]\n",
      " [5 6 7 8]]: (2, 4) \n"
     ]
    }
   ],
   "source": [
    "# Creating ndarrays with multiple dimensions\n",
    "data2 = [[1, 2, 3, 4], [5, 6, 7, 8]]\n",
    "data2 = np.array(data2)\n",
    "print(data2)\n",
    "\n",
    "print(f\"Dimension of the array {data2}: {data2.ndim} \")\n",
    "print(f\"Shape of the array {data2}: {data2.shape} \")"
   ]
  },
  {
   "cell_type": "code",
   "execution_count": 18,
   "metadata": {},
   "outputs": [
    {
     "name": "stdout",
     "output_type": "stream",
     "text": [
      " Type of [  1.    1.2   3.    5.5 -12.   -7.8] is float64\n",
      " Type of [[1 2 3 4]\n",
      " [5 6 7 8]] is int64\n"
     ]
    }
   ],
   "source": [
    "# The ndarrays are automatically typed\n",
    "print(f\" Type of {data1} is {data1.dtype}\")\n",
    "print(f\" Type of {data2} is {data2.dtype}\")"
   ]
  },
  {
   "cell_type": "code",
   "execution_count": 25,
   "metadata": {},
   "outputs": [
    {
     "name": "stdout",
     "output_type": "stream",
     "text": [
      "[0. 0. 0. 0. 0. 0. 0. 0. 0. 0.]\n",
      "[[1. 1.]\n",
      " [1. 1.]\n",
      " [1. 1.]\n",
      " [1. 1.]\n",
      " [1. 1.]\n",
      " [1. 1.]\n",
      " [1. 1.]\n",
      " [1. 1.]\n",
      " [1. 1.]\n",
      " [1. 1.]]\n"
     ]
    }
   ],
   "source": [
    "# Create array of zeros\n",
    "print(np.zeros(10))\n",
    "# Create array of ones (tuple as a shape)\n",
    "print(np.ones((10,2)))\n",
    "\n"
   ]
  },
  {
   "cell_type": "code",
   "execution_count": 32,
   "metadata": {},
   "outputs": [
    {
     "data": {
      "text/plain": [
       "array([[[6.95335390e-310, 1.07686503e-311],\n",
       "        [0.00000000e+000, 1.07686503e-311],\n",
       "        [1.89146896e-307, 1.07686503e-311]],\n",
       "\n",
       "       [[9.82205330e+252, 0.00000000e+000],\n",
       "        [1.07686503e-311, 1.07686503e-311],\n",
       "        [1.07686503e-311, 0.00000000e+000]]])"
      ]
     },
     "execution_count": 32,
     "metadata": {},
     "output_type": "execute_result"
    }
   ],
   "source": [
    "# Create an array without initializing its values\n",
    "np.empty((2, 3, 2))"
   ]
  },
  {
   "cell_type": "code",
   "execution_count": 31,
   "metadata": {},
   "outputs": [
    {
     "data": {
      "text/plain": [
       "array([ 5., 10., 15., 20., 25., 30., 35., 40., 45., 50., 55., 60., 65.,\n",
       "       70., 75., 80., 85., 90., 95.])"
      ]
     },
     "execution_count": 31,
     "metadata": {},
     "output_type": "execute_result"
    }
   ],
   "source": [
    "# Create an array-valued version of the built-in Python range function\n",
    "np.arange(start=5, stop=100, step=5, dtype=float)"
   ]
  },
  {
   "cell_type": "code",
   "execution_count": 34,
   "metadata": {},
   "outputs": [
    {
     "data": {
      "text/plain": [
       "array([[12, 12],\n",
       "       [12, 12],\n",
       "       [12, 12],\n",
       "       [12, 12],\n",
       "       [12, 12]])"
      ]
     },
     "execution_count": 34,
     "metadata": {},
     "output_type": "execute_result"
    }
   ],
   "source": [
    "# Produce an array of the given shape and dtype with all values set to the indicated “fill value”\n",
    "np.full((5,2), 12)"
   ]
  },
  {
   "cell_type": "code",
   "execution_count": 41,
   "metadata": {},
   "outputs": [
    {
     "name": "stdout",
     "output_type": "stream",
     "text": [
      "(2, 3) (2, 3)\n",
      "[[0. 0. 0.]\n",
      " [0. 0. 0.]]\n",
      "[[2. 2. 2.]\n",
      " [2. 2. 2.]]\n"
     ]
    }
   ],
   "source": [
    "arrray_zeros = np.zeros((2,3))\n",
    "# full_like takes another array and produces a filled array of the same shape and dtype\n",
    "filled_array_twos = np.full_like(arrray_zeros, 2)\n",
    "print(arrray_zeros.shape, filled_array_twos.shape)\n",
    "print(arrray_zeros)\n",
    "print(filled_array_twos)"
   ]
  },
  {
   "cell_type": "code",
   "execution_count": 46,
   "metadata": {},
   "outputs": [
    {
     "name": "stdout",
     "output_type": "stream",
     "text": [
      "[[1. 0. 0. 0. 0. 0. 0. 0. 0. 0.]\n",
      " [0. 1. 0. 0. 0. 0. 0. 0. 0. 0.]\n",
      " [0. 0. 1. 0. 0. 0. 0. 0. 0. 0.]\n",
      " [0. 0. 0. 1. 0. 0. 0. 0. 0. 0.]\n",
      " [0. 0. 0. 0. 1. 0. 0. 0. 0. 0.]\n",
      " [0. 0. 0. 0. 0. 1. 0. 0. 0. 0.]\n",
      " [0. 0. 0. 0. 0. 0. 1. 0. 0. 0.]\n",
      " [0. 0. 0. 0. 0. 0. 0. 1. 0. 0.]\n",
      " [0. 0. 0. 0. 0. 0. 0. 0. 1. 0.]\n",
      " [0. 0. 0. 0. 0. 0. 0. 0. 0. 1.]]\n",
      "[[1. 0. 0. 0. 0. 0. 0. 0. 0. 0.]\n",
      " [0. 1. 0. 0. 0. 0. 0. 0. 0. 0.]\n",
      " [0. 0. 1. 0. 0. 0. 0. 0. 0. 0.]\n",
      " [0. 0. 0. 1. 0. 0. 0. 0. 0. 0.]\n",
      " [0. 0. 0. 0. 1. 0. 0. 0. 0. 0.]\n",
      " [0. 0. 0. 0. 0. 1. 0. 0. 0. 0.]\n",
      " [0. 0. 0. 0. 0. 0. 1. 0. 0. 0.]\n",
      " [0. 0. 0. 0. 0. 0. 0. 1. 0. 0.]\n",
      " [0. 0. 0. 0. 0. 0. 0. 0. 1. 0.]\n",
      " [0. 0. 0. 0. 0. 0. 0. 0. 0. 1.]]\n"
     ]
    }
   ],
   "source": [
    "# Create identity matrices\n",
    "identity_matrix1 = np.eye(10,10)\n",
    "identity_matrix2 = np.identity(10)\n",
    "print(identity_matrix1)\n",
    "print(identity_matrix2)\n"
   ]
  },
  {
   "cell_type": "markdown",
   "metadata": {},
   "source": [
    "Data Types for ndarrays"
   ]
  },
  {
   "cell_type": "code",
   "execution_count": 54,
   "metadata": {},
   "outputs": [
    {
     "name": "stdout",
     "output_type": "stream",
     "text": [
      "[1.+0.j 2.+0.j 3.+0.j]\n"
     ]
    }
   ],
   "source": [
    "arr1 = np.array([1, 2, 3], dtype=np.complex128,)\n",
    "arr1.dtype\n",
    "print(arr1)"
   ]
  },
  {
   "cell_type": "code",
   "execution_count": 50,
   "metadata": {},
   "outputs": [
    {
     "data": {
      "text/plain": [
       "dtype('int32')"
      ]
     },
     "execution_count": 50,
     "metadata": {},
     "output_type": "execute_result"
    }
   ],
   "source": [
    "arr2 = np.array([1, 2, 3], dtype=np.int32)\n",
    "arr2.dtype"
   ]
  },
  {
   "cell_type": "markdown",
   "metadata": {},
   "source": [
    "List of types supported by NumPy:\n",
    "- int8 (i1), uint8 (u1): Signed and unsigned 8-bit (1 byte) integer types\n",
    "- int16 (i2), uint16 (u2): Signed and unsigned 16-bit integer types\n",
    "- int32 (i4), uint32 (u4): Signed and unsigned 32-bit integer types\n",
    "- int64 (i8), uint64 (u8): Signed and unsigned 64-bit integer types\n",
    "- float16 (f2): Half-precision floating point\n",
    "- float32 (f4 or f): Standard single-precision floating point; compatible with C float\n",
    "- float64 (f8 or d): Standard double-precision floating point; compatible with C double and Python float object\n",
    "- float128 (f16 or g): Extended-precision floating point\n",
    "- complex64 (c8), complex128 (c16), complex256 (c32): Complex numbers represented by two 32, 64, or 128 floats, respectively\n",
    "- bool (?): Boolean type storing True and False values\n",
    "- object (O): Python object type; a value can be any Python object\n",
    "- string (S): Fixed-length ASCII string type (1 byte per character); for example, to create a string dtype with length 10, use 'S10'\n",
    "- unicode (U): Fixed-length Unicode type (number of bytes platform specific); same\n",
    "specification semantics as string_ (e.g., 'U10')"
   ]
  },
  {
   "cell_type": "code",
   "execution_count": 58,
   "metadata": {},
   "outputs": [
    {
     "name": "stdout",
     "output_type": "stream",
     "text": [
      "First type of the array int64\n",
      "Casted type of the array float64\n"
     ]
    }
   ],
   "source": [
    "# Cast an array explicitly\n",
    "arr = np.array([1, 2, 3, 4, 5])\n",
    "print(f\"First type of the array {arr.dtype}\")\n",
    "float_arr = arr.astype(np.float64)\n",
    "print(f\"Casted type of the array {float_arr.dtype}\")"
   ]
  },
  {
   "cell_type": "code",
   "execution_count": 61,
   "metadata": {},
   "outputs": [
    {
     "name": "stdout",
     "output_type": "stream",
     "text": [
      "Information of the array with floating points [ 3.7 -1.2 -2.6  0.5 12.9 10.1]\n",
      "Information of the array with integers [ 3 -1 -2  0 12 10]\n"
     ]
    }
   ],
   "source": [
    "# Loss of information during cast\n",
    "arr = np.array([3.7, -1.2, -2.6, 0.5, 12.9, 10.1])\n",
    "print(f\"Information of the array with floating points {arr}\")\n",
    "# Cast of the array to integers\n",
    "int_arr = arr.astype(np.int32)\n",
    "print(f\"Information of the array with integers {int_arr}\")"
   ]
  },
  {
   "cell_type": "code",
   "execution_count": 66,
   "metadata": {},
   "outputs": [
    {
     "name": "stdout",
     "output_type": "stream",
     "text": [
      "Casted string to numerical floating point values float64\n"
     ]
    }
   ],
   "source": [
    "# Cast array of strings representing numeric values (use np.bytes_ instead of np.string since NumPy 2.0)\n",
    "numeric_strings = np.array(['1.25', '-9.6', '42'], dtype=np.bytes_)\n",
    "numeric_strings = numeric_strings.astype(float)\n",
    "print(f\"Casted string to numerical floating point values {numeric_strings.dtype}\")"
   ]
  },
  {
   "cell_type": "code",
   "execution_count": 68,
   "metadata": {},
   "outputs": [
    {
     "name": "stdout",
     "output_type": "stream",
     "text": [
      "[4128860 6029375 3801155 5570652 6619251 7536754 5374044 7209071] uint32\n"
     ]
    }
   ],
   "source": [
    "# Use shorthand as dtypes\n",
    "empty_uint32 = np.empty(8, dtype='u4')\n",
    "print(empty_uint32, empty_uint32.dtype)\n",
    "\n"
   ]
  },
  {
   "cell_type": "markdown",
   "metadata": {},
   "source": [
    "Arithmetic with NumPy arrays"
   ]
  },
  {
   "cell_type": "code",
   "execution_count": 71,
   "metadata": {},
   "outputs": [
    {
     "data": {
      "text/plain": [
       "array([[ 1.,  4.,  9.],\n",
       "       [16., 25., 36.]])"
      ]
     },
     "execution_count": 71,
     "metadata": {},
     "output_type": "execute_result"
    }
   ],
   "source": [
    "# Use batch operations without loops\n",
    "arr = np.array([[1., 2., 3.], [4., 5., 6.]])\n",
    "\n",
    "arr ** 2"
   ]
  },
  {
   "cell_type": "code",
   "execution_count": 75,
   "metadata": {},
   "outputs": [
    {
     "name": "stdout",
     "output_type": "stream",
     "text": [
      "[[ True False  True]\n",
      " [False  True False]]\n"
     ]
    }
   ],
   "source": [
    "# Comparison between two arrays create a new array with boolean values\n",
    "arr1 = np.array([[1., 2., 3.], [4., 5., 6.]])\n",
    "arr2 = np.array([[0., 4., 1.], [7., 2., 12.]])\n",
    "\n",
    "print(arr1 > arr2)"
   ]
  },
  {
   "cell_type": "markdown",
   "metadata": {},
   "source": [
    "Boolean indexing"
   ]
  },
  {
   "cell_type": "code",
   "execution_count": 78,
   "metadata": {},
   "outputs": [
    {
     "name": "stdout",
     "output_type": "stream",
     "text": [
      "['Bob' 'Joe' 'Will' 'Bob' 'Will' 'Joe' 'Joe'] <U4 (7,)\n",
      "[[-0.40764714  0.64944915  0.80999119  1.35200816]\n",
      " [ 0.1371835   2.44639993 -1.33397374  2.49283723]\n",
      " [-0.63690989  0.0305682  -0.57360816  0.44265198]\n",
      " [ 0.97810634  0.13622451  1.45709524 -1.45656612]\n",
      " [ 0.12199499  1.09693251 -0.7735349  -0.46272407]\n",
      " [-1.76299447  0.4496139  -0.43320698 -0.34583841]\n",
      " [ 0.27405261 -1.35493529 -0.12472201 -0.37040436]] float64 (7, 4)\n"
     ]
    }
   ],
   "source": [
    "names = np.array(['Bob', 'Joe', 'Will', 'Bob', 'Will', 'Joe', 'Joe'])\n",
    "data = np.random.randn(7, 4)\n",
    "print(names, names.dtype, names.shape)\n",
    "print(data, data.dtype, data.shape)\n"
   ]
  },
  {
   "cell_type": "code",
   "execution_count": 86,
   "metadata": {},
   "outputs": [
    {
     "name": "stdout",
     "output_type": "stream",
     "text": [
      "[ True False False  True False False False]\n",
      "[[-0.40764714  0.64944915  0.80999119  1.35200816]\n",
      " [ 0.97810634  0.13622451  1.45709524 -1.45656612]]\n",
      "[[ 0.80999119  1.35200816]\n",
      " [ 1.45709524 -1.45656612]]\n"
     ]
    }
   ],
   "source": [
    "# Boolean selection\n",
    "print(names == \"Bob\")\n",
    "print(data[names == \"Bob\"])\n",
    "# Boolean selection with indexing\n",
    "print(data[names == \"Bob\", 2:])"
   ]
  },
  {
   "cell_type": "code",
   "execution_count": 87,
   "metadata": {},
   "outputs": [
    {
     "name": "stdout",
     "output_type": "stream",
     "text": [
      "[[ 0.1371835   2.44639993 -1.33397374  2.49283723]\n",
      " [-0.63690989  0.0305682  -0.57360816  0.44265198]\n",
      " [ 0.12199499  1.09693251 -0.7735349  -0.46272407]\n",
      " [-1.76299447  0.4496139  -0.43320698 -0.34583841]\n",
      " [ 0.27405261 -1.35493529 -0.12472201 -0.37040436]]\n"
     ]
    }
   ],
   "source": [
    "# Selection with inverted condition\n",
    "cond = names == 'Bob'\n",
    "print(data[~cond])"
   ]
  },
  {
   "cell_type": "code",
   "execution_count": 89,
   "metadata": {},
   "outputs": [
    {
     "name": "stdout",
     "output_type": "stream",
     "text": [
      "[[ 0.1371835   2.44639993 -1.33397374  2.49283723]\n",
      " [-1.76299447  0.4496139  -0.43320698 -0.34583841]\n",
      " [ 0.27405261 -1.35493529 -0.12472201 -0.37040436]]\n"
     ]
    }
   ],
   "source": [
    "# Selection with inverted condition with creation of a mask\n",
    "mask = (names == 'Bob') | (names == 'Will')\n",
    "print(data[~mask])\n",
    "\n",
    "## The Python keywords and and or do not work with boolean arrays we have to use & (and) and | (or) instead ##"
   ]
  },
  {
   "cell_type": "code",
   "execution_count": 99,
   "metadata": {},
   "outputs": [
    {
     "name": "stdout",
     "output_type": "stream",
     "text": [
      "[[0.29604812 0.         0.10107219 0.        ]\n",
      " [0.16545129 1.04071659 0.99937298 0.16557564]\n",
      " [0.         1.84016877 0.         0.        ]\n",
      " [0.55462928 0.         0.         0.        ]\n",
      " [0.         1.84531366 2.0720518  0.        ]\n",
      " [0.81644163 0.         0.92927285 0.        ]\n",
      " [0.58252577 1.44615643 0.68798249 0.        ]]\n"
     ]
    }
   ],
   "source": [
    "# Example of boolean condition: set the negative values to 0\n",
    "data = np.random.randn(7, 4)\n",
    "data[data < 0] = 0\n",
    "print(data)\n"
   ]
  },
  {
   "cell_type": "markdown",
   "metadata": {},
   "source": [
    "Fancy indexing\\\n",
    "- Definition: it is a term adopted by NumPy to describe indexing using integer arrays"
   ]
  },
  {
   "cell_type": "code",
   "execution_count": 103,
   "metadata": {},
   "outputs": [
    {
     "name": "stdout",
     "output_type": "stream",
     "text": [
      "[[0 0 0 0]\n",
      " [1 1 1 1]\n",
      " [2 2 2 2]\n",
      " [3 3 3 3]\n",
      " [4 4 4 4]\n",
      " [5 5 5 5]\n",
      " [6 6 6 6]\n",
      " [7 7 7 7]]\n"
     ]
    }
   ],
   "source": [
    "arr = np.empty((8, 4), dtype=int)\n",
    "for i in range(8):\n",
    "    arr[i] = i\n",
    "\n",
    "print(arr)"
   ]
  },
  {
   "cell_type": "code",
   "execution_count": 106,
   "metadata": {},
   "outputs": [
    {
     "name": "stdout",
     "output_type": "stream",
     "text": [
      "[[4 4 4 4]\n",
      " [3 3 3 3]\n",
      " [0 0 0 0]\n",
      " [6 6 6 6]]\n"
     ]
    },
    {
     "data": {
      "text/plain": [
       "array([[5, 5, 5, 5],\n",
       "       [3, 3, 3, 3],\n",
       "       [1, 1, 1, 1]])"
      ]
     },
     "execution_count": 106,
     "metadata": {},
     "output_type": "execute_result"
    }
   ],
   "source": [
    "# In order to select out a subset of the rows in a particular order, you can simply pass a list or\n",
    "#ndarray of integers specifying the desired order\n",
    "print(arr[[4, 3, 0, 6]])\n",
    "\n",
    "# Using negative indices specify the rows to select in reverse order\n",
    "arr[[-3, -5, -7]]\n",
    "# Indices: 8-3=5  8-5=3 8-7=1"
   ]
  },
  {
   "cell_type": "code",
   "execution_count": 109,
   "metadata": {},
   "outputs": [
    {
     "name": "stdout",
     "output_type": "stream",
     "text": [
      "[[ 0  1  2  3]\n",
      " [ 4  5  6  7]\n",
      " [ 8  9 10 11]\n",
      " [12 13 14 15]\n",
      " [16 17 18 19]\n",
      " [20 21 22 23]\n",
      " [24 25 26 27]\n",
      " [28 29 30 31]]\n",
      "[ 4 23 29 10]\n"
     ]
    }
   ],
   "source": [
    "# Passing multiple index arrays does something slightly different; it selects a onedimensional\n",
    "#array of elements corresponding to each tuple of indices:\n",
    "arr = np.arange(32).reshape((8, 4))\n",
    "print(arr)\n",
    "\n",
    "select_arr = arr[[1, 5, 7, 2], [0, 3, 1, 2]]\n",
    "print(select_arr)  # Output: [4, 23, 29, 10] -> positions of the values = [(0,1), (3,5), (1,7), (2,2)]\n",
    "\n"
   ]
  },
  {
   "cell_type": "markdown",
   "metadata": {},
   "source": [
    "Transposing Arrays and Swapping Axes"
   ]
  },
  {
   "cell_type": "code",
   "execution_count": 115,
   "metadata": {},
   "outputs": [
    {
     "name": "stdout",
     "output_type": "stream",
     "text": [
      "[[0 1 2]\n",
      " [3 4 5]\n",
      " [6 7 8]]\n",
      "[[0 3 6]\n",
      " [1 4 7]\n",
      " [2 5 8]]\n",
      "[[0 3 6]\n",
      " [1 4 7]\n",
      " [2 5 8]]\n"
     ]
    }
   ],
   "source": [
    "arr = np.arange(9).reshape((3, 3))\n",
    "print(arr)\n",
    "\n",
    "# Transpose the array\n",
    "arr_t1 = np.transpose(arr)\n",
    "print(arr_t1)\n",
    "\n",
    "arr_t2 = arr.T\n",
    "print(arr_t2)"
   ]
  },
  {
   "cell_type": "code",
   "execution_count": 122,
   "metadata": {},
   "outputs": [
    {
     "name": "stdout",
     "output_type": "stream",
     "text": [
      "[[[ 0  1  2  3]\n",
      "  [ 4  5  6  7]]\n",
      "\n",
      " [[ 8  9 10 11]\n",
      "  [12 13 14 15]]]\n",
      "[[[ 0  4]\n",
      "  [ 1  5]\n",
      "  [ 2  6]\n",
      "  [ 3  7]]\n",
      "\n",
      " [[ 8 12]\n",
      "  [ 9 13]\n",
      "  [10 14]\n",
      "  [11 15]]]\n"
     ]
    }
   ],
   "source": [
    "# Swap axes\n",
    "arr = np.arange(16).reshape((2, 2, 4))\n",
    "print(arr)\n",
    "swap_ax = arr.swapaxes(1,2)\n",
    "print(swap_ax)"
   ]
  }
 ],
 "metadata": {
  "kernelspec": {
   "display_name": "py_env_analysis",
   "language": "python",
   "name": "python3"
  },
  "language_info": {
   "codemirror_mode": {
    "name": "ipython",
    "version": 3
   },
   "file_extension": ".py",
   "mimetype": "text/x-python",
   "name": "python",
   "nbconvert_exporter": "python",
   "pygments_lexer": "ipython3",
   "version": "3.11.9"
  }
 },
 "nbformat": 4,
 "nbformat_minor": 2
}
