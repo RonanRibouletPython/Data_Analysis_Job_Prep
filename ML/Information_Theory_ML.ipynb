{
 "cells": [
  {
   "cell_type": "markdown",
   "metadata": {},
   "source": [
    "# Information Theory in the world of Machine Learning"
   ]
  },
  {
   "cell_type": "markdown",
   "metadata": {},
   "source": [
    "## Entropy"
   ]
  },
  {
   "cell_type": "markdown",
   "metadata": {},
   "source": [
    "The entropy of a random variable is the average level of uncertainty associated with the variables potential state\\\n",
    "The measure of the expected amount of information to describe the state of the variable condisering the distribution of probabilities across all potential states"
   ]
  },
  {
   "cell_type": "code",
   "execution_count": 27,
   "metadata": {},
   "outputs": [],
   "source": [
    "from typing import List\n",
    "from math import log2\n",
    "import numpy as np\n",
    "\n",
    "def entropy(probabilities: List[float]) -> float:\n",
    "    \n",
    "    H = -sum(p * log2(p) for p in probabilities if p > 0)\n",
    "    \n",
    "    return np.round(H, 3)\n",
    "    "
   ]
  },
  {
   "cell_type": "code",
   "execution_count": 28,
   "metadata": {},
   "outputs": [
    {
     "name": "stdout",
     "output_type": "stream",
     "text": [
      "2.0\n"
     ]
    }
   ],
   "source": [
    "probabilities: List[float] = [0.25, 0.25, 0.25,0.25]\n",
    "\n",
    "try:\n",
    "    sum(probabilities) == 1\n",
    "except:\n",
    "    print(\"Error: The probabilities are not valid\")\n",
    "    \n",
    "print(entropy(probabilities=probabilities))\n",
    "    \n",
    "    "
   ]
  },
  {
   "cell_type": "markdown",
   "metadata": {},
   "source": [
    "## Shanon Entropy"
   ]
  },
  {
   "cell_type": "markdown",
   "metadata": {},
   "source": [
    "This is the measure of the average amount of information contained in a message\\\n",
    "It quantifies the unpredictability of info content"
   ]
  },
  {
   "cell_type": "code",
   "execution_count": 29,
   "metadata": {},
   "outputs": [
    {
     "name": "stdout",
     "output_type": "stream",
     "text": [
      "Count of the unique characters in the message:\n",
      "(' ', 1)\n",
      "('H', 1)\n",
      "('d', 1)\n",
      "('e', 1)\n",
      "('l', 3)\n",
      "('o', 2)\n",
      "('r', 1)\n",
      "('w', 1)\n",
      "Shannon entropy of 'Hello world': 2.845 bits\n",
      "Count of the unique characters in the message:\n",
      "('0', 3)\n",
      "('1', 5)\n",
      "Shannon entropy of 'Hello world': 0.954 bits\n"
     ]
    }
   ],
   "source": [
    "from typing import Union\n",
    "\n",
    "def shannon_entropy(data: Union[List[Union[float, str, int]], str])->float:\n",
    "    \n",
    "    chars, counts = np.unique(data, return_counts=True)\n",
    "\n",
    "    # Count of the unique characters in the message\n",
    "    char_counts: list = list(zip(chars, counts))\n",
    "    print(\"Count of the unique characters in the message:\")\n",
    "    for char, count in char_counts:\n",
    "        print(f\"('{char}', {count})\")\n",
    "\n",
    "    # Compute Shannon entropy\n",
    "    probabilities: float = counts / len(data)\n",
    "    \n",
    "    return np.round(-np.sum(probabilities * np.log2(probabilities)), 3)\n",
    "\n",
    "# Example: Calculate Shannon entropy for a text message\n",
    "message1 = \"Hello world\"\n",
    "# Example: Calculate Shannon entropy for a boolean message\n",
    "message2 = [1,0,1,1,0,1,1,0]\n",
    "\n",
    "print(f\"Shannon entropy of '{message1}': {shannon_entropy(list(message1))} bits\")\n",
    "print(f\"Shannon entropy of '{message1}': {shannon_entropy(list(message2))} bits\")\n"
   ]
  },
  {
   "cell_type": "markdown",
   "metadata": {},
   "source": [
    "## Entropy in Machine Learning"
   ]
  },
  {
   "cell_type": "markdown",
   "metadata": {},
   "source": [
    "Since entropy is the measure of uncertainty and the objective of ML is to minimize the uncertainty the two are linked"
   ]
  },
  {
   "cell_type": "markdown",
   "metadata": {},
   "source": [
    "### Information gain"
   ]
  },
  {
   "cell_type": "markdown",
   "metadata": {},
   "source": [
    "This is the measure of the reduction in Entropy achieved by splitting a dataset according to a particular feature (this is used in tree algorithms to select the features)\\\n",
    "This is the amount of information a feature can provide about a class"
   ]
  },
  {
   "cell_type": "markdown",
   "metadata": {},
   "source": [
    "Example:\\\n",
    "We have a dataset with cancerous (C) and non cancerous cells (NC)\n"
   ]
  },
  {
   "cell_type": "code",
   "execution_count": 30,
   "metadata": {},
   "outputs": [
    {
     "name": "stdout",
     "output_type": "stream",
     "text": [
      "  Samples  Mutation 1  Mutation 2  Mutation 3  Mutation 4\n",
      "0      C1           1           1           1           0\n",
      "1      C2           1           1           0           1\n",
      "2      C3           1           0           1           1\n",
      "3      C4           0           1           1           0\n",
      "4     NC1           0           0           0           0\n",
      "5     NC2           0           1           0           0\n",
      "6     NC3           1           1           0           0\n"
     ]
    }
   ],
   "source": [
    "import pandas as pd\n",
    "import numpy as np\n",
    "from typing import Dict\n",
    "\n",
    "# Data for the DataFrame\n",
    "data: Dict[str, Union[str, float]] = {\n",
    "    'Samples': ['C1', 'C2', 'C3', 'C4', 'NC1', 'NC2', 'NC3'],\n",
    "    'Mutation 1': [1, 1, 1, 0, 0, 0, 1],\n",
    "    'Mutation 2': [1, 1, 0, 1, 0, 1, 1],\n",
    "    'Mutation 3': [1, 0, 1, 1, 0, 0, 0],\n",
    "    'Mutation 4': [0, 1, 1, 0, 0, 0, 0]\n",
    "}\n",
    "\n",
    "# Create the DataFrame\n",
    "df: pd.DataFrame = pd.DataFrame(data, index=None)\n",
    "\n",
    "# Print the DataFrame\n",
    "print(df)"
   ]
  },
  {
   "cell_type": "markdown",
   "metadata": {},
   "source": [
    "We can create a very simple decision tree with 1 parent node which is highly impute with all the features and 2 pure child nodes one with just the cancerous cells and the other one all the non cancerous cells\\\n",
    "Then we wanna know how to split the data in order to classify the future nodes the best we can (which means than the node childs 1 and 2 must be as pure a possible)\n",
    "\n",
    " **Parent Node:** The parent node is represented with its high impurity (4C + 3NC)\n",
    "* **Child Nodes Left:** Pure node with only Cancerous cells (P=4/7)\n",
    "* **Child Nodes Right:** Pure node with only Non Cancerous cells (P=3/7)"
   ]
  },
  {
   "cell_type": "code",
   "execution_count": 31,
   "metadata": {},
   "outputs": [
    {
     "name": "stdout",
     "output_type": "stream",
     "text": [
      "Probabilities of the cancerous cells for Mutation 1: 0.571\n",
      "Probabilities of the cancerous cells for Mutation 1: 0.429\n",
      "\n",
      "The entropy of the parent node is 0.985\n"
     ]
    }
   ],
   "source": [
    "# Definition of the variables to calculate the entropy\n",
    "sum_elements_mut1: int = df['Mutation 1'].shape[0]\n",
    "sum_zeros_in_mut1: int = (df['Mutation 1'] == 0).sum()\n",
    "sum_ones_in_mut1: int = (df['Mutation 1'] == 1).sum()\n",
    "\n",
    "prob_NC_mut1: float  = sum_zeros_in_mut1 / sum_elements_mut1\n",
    "prob_C_mut1: float = sum_ones_in_mut1 / sum_elements_mut1\n",
    "\n",
    "# Display the probabilities for the cancerous and non cancerous cells\n",
    "print(f\"Probabilities of the cancerous cells for {df['Mutation 1'].name}: {np.round(prob_C_mut1, 3)}\")\n",
    "print(f\"Probabilities of the cancerous cells for {df['Mutation 1'].name}: {np.round(prob_NC_mut1, 3)}\")\n",
    "\n",
    "try:\n",
    "    prob_C_mut1 + prob_NC_mut1 == 1.0\n",
    "except:\n",
    "    print(\"Error: The probabilities do not add up to 1\")\n",
    "    \n",
    "# Calculate the entropy of the parent node\n",
    "feature_nodes_mut1: List[float] = [prob_C_mut1, prob_NC_mut1]\n",
    "H_parent_node_mut1: float = entropy(feature_nodes_mut1)\n",
    "print(f\"\\nThe entropy of the parent node is {np.round(H_parent_node_mut1, 3)}\") "
   ]
  },
  {
   "cell_type": "code",
   "execution_count": 32,
   "metadata": {},
   "outputs": [
    {
     "name": "stdout",
     "output_type": "stream",
     "text": [
      "The entropy of the parent node is 0.985\n",
      "The entropy of the parent node is 0.863\n",
      "The entropy of the parent node is 0.985\n",
      "The entropy of the parent node is 0.863\n"
     ]
    }
   ],
   "source": [
    "# Create a function to calculate the entopy of a node of a tree\n",
    "def calculate_entropy_mutations(dataframe: pd.DataFrame, feature: str, verbose: bool = False)-> float:\n",
    "    # Definition of the variables to calculate the entropy\n",
    "    sum_elements_mut: int = dataframe[feature].shape[0]\n",
    "    sum_zeros_in_mut: int = (dataframe[feature] == 0).sum()\n",
    "    sum_ones_in_mut: int = (dataframe[feature] == 1).sum()\n",
    "    \n",
    "    if verbose == True:\n",
    "        print(f\"Sum of elements in {feature}: {sum_elements_mut}\")\n",
    "        print(f\"Sum of zeros in {feature}: {sum_zeros_in_mut}\")\n",
    "        print(f\"Sum of ones in {feature}: {sum_ones_in_mut}\")\n",
    "    \n",
    "    prob_NC_mut: float  = sum_zeros_in_mut / sum_elements_mut\n",
    "    prob_C_mut: float = sum_ones_in_mut / sum_elements_mut\n",
    "    \n",
    "    # Display the probabilities for the cancerous and non cancerous cells\n",
    "    if verbose == True:\n",
    "        print(f\"Probabilities of the cancerous cells for {dataframe[feature].name}: {prob_C_mut1}\")\n",
    "        print(f\"Probabilities of the cancerous cells for {dataframe[feature].name}: {prob_NC_mut1}\")\n",
    "    \n",
    "    try:\n",
    "        prob_C_mut + prob_NC_mut == 1.0\n",
    "    except:\n",
    "        print(\"Error: The probabilities do not add up to 1\")\n",
    "    \n",
    "    # Calculate the entropy of the parent node\n",
    "    feature_nodes_mut: List[float] = [prob_C_mut, prob_NC_mut]\n",
    "    H_parent_node_mut: float = entropy(feature_nodes_mut)\n",
    "    \n",
    "    return np.round(H_parent_node_mut, 3)\n",
    "\n",
    "mut_1 = \"Mutation 1\"\n",
    "mut_2 = \"Mutation 2\"\n",
    "mut_3 = \"Mutation 3\"\n",
    "mut_4 = \"Mutation 4\"\n",
    "\n",
    "H_parent_node_mut1 = calculate_entropy_mutations(df, mut_1)\n",
    "H_parent_node_mut2 = calculate_entropy_mutations(df, mut_2)\n",
    "H_parent_node_mut3 = calculate_entropy_mutations(df, mut_3)\n",
    "H_parent_node_mut4 = calculate_entropy_mutations(df, mut_4)\n",
    "\n",
    "print(f\"The entropy of the parent node is {H_parent_node_mut1}\") \n",
    "print(f\"The entropy of the parent node is {H_parent_node_mut2}\") \n",
    "print(f\"The entropy of the parent node is {H_parent_node_mut3}\") \n",
    "print(f\"The entropy of the parent node is {H_parent_node_mut4}\") \n",
    "    \n",
    "    \n",
    "    "
   ]
  },
  {
   "cell_type": "markdown",
   "metadata": {},
   "source": [
    "The entropy of the parent node (0.985) is very close to 1 which means that the variables in the parent nodes are highly mixed but this means that this is good for learning attributes to the features"
   ]
  },
  {
   "cell_type": "markdown",
   "metadata": {},
   "source": [
    "Now we can calculate the entropy of the child nodes for the 4 Mutations features:\n",
    "* **Child Nodes Left:** Its content is exclusively cells with mutation from the Mutation 1 which means that we have the first 3 cancerous cells and the last non cancerous cell \n",
    "* **Child Nodes Right:** Its content is exclusively cells without mutation from the Mutation 1 feature which means that we have the last cancerous cell and the first two cancerous cell \n",
    "\n",
    "We need to calculate the average entropy of the child nodes which is a variable of the Information Gain formula:\n",
    "\n",
    "*Information Gain* = *Entropy of the parent node* - *Average Entropy of the child nodes* "
   ]
  },
  {
   "cell_type": "code",
   "execution_count": 33,
   "metadata": {},
   "outputs": [
    {
     "data": {
      "text/html": [
       "<div>\n",
       "<style scoped>\n",
       "    .dataframe tbody tr th:only-of-type {\n",
       "        vertical-align: middle;\n",
       "    }\n",
       "\n",
       "    .dataframe tbody tr th {\n",
       "        vertical-align: top;\n",
       "    }\n",
       "\n",
       "    .dataframe thead th {\n",
       "        text-align: right;\n",
       "    }\n",
       "</style>\n",
       "<table border=\"1\" class=\"dataframe\">\n",
       "  <thead>\n",
       "    <tr style=\"text-align: right;\">\n",
       "      <th></th>\n",
       "      <th>Samples</th>\n",
       "      <th>Mutation 1</th>\n",
       "      <th>Mutation 2</th>\n",
       "      <th>Mutation 3</th>\n",
       "      <th>Mutation 4</th>\n",
       "    </tr>\n",
       "  </thead>\n",
       "  <tbody>\n",
       "    <tr>\n",
       "      <th>0</th>\n",
       "      <td>C1</td>\n",
       "      <td>1</td>\n",
       "      <td>1</td>\n",
       "      <td>1</td>\n",
       "      <td>0</td>\n",
       "    </tr>\n",
       "    <tr>\n",
       "      <th>1</th>\n",
       "      <td>C2</td>\n",
       "      <td>1</td>\n",
       "      <td>1</td>\n",
       "      <td>0</td>\n",
       "      <td>1</td>\n",
       "    </tr>\n",
       "    <tr>\n",
       "      <th>2</th>\n",
       "      <td>C3</td>\n",
       "      <td>1</td>\n",
       "      <td>0</td>\n",
       "      <td>1</td>\n",
       "      <td>1</td>\n",
       "    </tr>\n",
       "    <tr>\n",
       "      <th>3</th>\n",
       "      <td>C4</td>\n",
       "      <td>0</td>\n",
       "      <td>1</td>\n",
       "      <td>1</td>\n",
       "      <td>0</td>\n",
       "    </tr>\n",
       "  </tbody>\n",
       "</table>\n",
       "</div>"
      ],
      "text/plain": [
       "  Samples  Mutation 1  Mutation 2  Mutation 3  Mutation 4\n",
       "0      C1           1           1           1           0\n",
       "1      C2           1           1           0           1\n",
       "2      C3           1           0           1           1\n",
       "3      C4           0           1           1           0"
      ]
     },
     "execution_count": 33,
     "metadata": {},
     "output_type": "execute_result"
    }
   ],
   "source": [
    "# Filter the column of the dataframe just for the cancerous cells\n",
    "cancerous_cells_df: pd.DataFrame = df[df['Samples'].str.startswith('C')]\n",
    "cancerous_cells_df.head(4)"
   ]
  },
  {
   "cell_type": "markdown",
   "metadata": {},
   "source": [
    "Calculate the entropy of Child Node Left with only cancerous cells for all the mutation features"
   ]
  },
  {
   "cell_type": "code",
   "execution_count": 34,
   "metadata": {},
   "outputs": [
    {
     "name": "stdout",
     "output_type": "stream",
     "text": [
      "The entropy of the Child Node Left for Mutation 1 feature is 0.811\n",
      "The entropy of the Child Node Left for Mutation 2 feature is 0.811\n",
      "The entropy of the Child Node Left for Mutation 3 feature is 0.811\n",
      "The entropy of the Child Node Left for Mutation 4 feature is 1.0\n"
     ]
    }
   ],
   "source": [
    "mut_1: str = \"Mutation 1\"\n",
    "mut_2: str = \"Mutation 2\"\n",
    "mut_3: str = \"Mutation 3\"\n",
    "mut_4: str = \"Mutation 4\"\n",
    "\n",
    "H_child_left_mut1 = calculate_entropy_mutations(cancerous_cells_df, mut_1)\n",
    "H_child_left_mut2 = calculate_entropy_mutations(cancerous_cells_df, mut_2)\n",
    "H_child_left_mut3 = calculate_entropy_mutations(cancerous_cells_df, mut_3)\n",
    "H_child_left_mut4 = calculate_entropy_mutations(cancerous_cells_df, mut_4)\n",
    "\n",
    "print(f\"The entropy of the Child Node Left for Mutation 1 feature is {H_child_left_mut1}\") \n",
    "print(f\"The entropy of the Child Node Left for Mutation 2 feature is {H_child_left_mut2}\") \n",
    "print(f\"The entropy of the Child Node Left for Mutation 3 feature is {H_child_left_mut3}\") \n",
    "print(f\"The entropy of the Child Node Left for Mutation 4 feature is {H_child_left_mut4}\") "
   ]
  },
  {
   "cell_type": "markdown",
   "metadata": {},
   "source": [
    "Calculate the entropy of Child Node Right with only cancerous cells for all the mutation features"
   ]
  },
  {
   "cell_type": "code",
   "execution_count": 35,
   "metadata": {},
   "outputs": [
    {
     "name": "stdout",
     "output_type": "stream",
     "text": [
      "The entropy of the Child Node Right for Mutation 1 feature is 0.918\n",
      "The entropy of the Child Node Right for Mutation 2 feature is 0.918\n",
      "The entropy of the Child Node Right for Mutation 3 feature is -0.0\n",
      "The entropy of the Child Node Right for Mutation 4 feature is -0.0\n"
     ]
    }
   ],
   "source": [
    "# Filter the column of the dataframe just for the non cancerous cells\n",
    "non_cancerous_cells_df = df[df['Samples'].str.startswith('NC')]\n",
    "non_cancerous_cells_df.head(3)\n",
    "\n",
    "\n",
    "mut_1 = \"Mutation 1\"\n",
    "mut_2 = \"Mutation 2\"\n",
    "mut_3 = \"Mutation 3\"\n",
    "mut_4 = \"Mutation 4\"\n",
    "\n",
    "H_child_right_mut1 = calculate_entropy_mutations(non_cancerous_cells_df, mut_1)\n",
    "H_child_right_mut2 = calculate_entropy_mutations(non_cancerous_cells_df, mut_2)\n",
    "H_child_right_mut3 = calculate_entropy_mutations(non_cancerous_cells_df, mut_3)\n",
    "H_child_right_mut4 = calculate_entropy_mutations(non_cancerous_cells_df, mut_4)\n",
    "\n",
    "print(f\"The entropy of the Child Node Right for Mutation 1 feature is {H_child_right_mut1}\") \n",
    "print(f\"The entropy of the Child Node Right for Mutation 2 feature is {H_child_right_mut2}\") \n",
    "print(f\"The entropy of the Child Node Right for Mutation 3 feature is {H_child_right_mut3}\") \n",
    "print(f\"The entropy of the Child Node Right for Mutation 4 feature is {H_child_right_mut4}\") "
   ]
  },
  {
   "cell_type": "markdown",
   "metadata": {},
   "source": [
    "Calculate the average entropy of the two child nodes"
   ]
  },
  {
   "cell_type": "code",
   "execution_count": 36,
   "metadata": {},
   "outputs": [],
   "source": [
    "def calc_avg_entropy(entropy_node1: float, entropy_node2: float, verbose: bool = False)->float:\n",
    "    \n",
    "    avg_entropy: float = np.round(((4/7 * entropy_node1) + (3/7 * entropy_node2)), 3)\n",
    "    \n",
    "    if verbose:\n",
    "        print(f\"Average entropy: {avg_entropy}\")\n",
    "\n",
    "    return np.round(avg_entropy, 3)"
   ]
  },
  {
   "cell_type": "code",
   "execution_count": 37,
   "metadata": {},
   "outputs": [],
   "source": [
    "avg_entropy_mut1 = calc_avg_entropy(H_child_left_mut1, H_child_right_mut1)\n",
    "avg_entropy_mut2 = calc_avg_entropy(H_child_left_mut2, H_child_right_mut2)\n",
    "avg_entropy_mut3 = calc_avg_entropy(H_child_left_mut3, H_child_right_mut3)\n",
    "avg_entropy_mut4 = calc_avg_entropy(H_child_left_mut4, H_child_right_mut4)\n"
   ]
  },
  {
   "cell_type": "markdown",
   "metadata": {},
   "source": [
    "Calculate the information theory"
   ]
  },
  {
   "cell_type": "code",
   "execution_count": 38,
   "metadata": {},
   "outputs": [],
   "source": [
    "def calc_inf_gain(entropy_parent: float, avg_entropy_childs: float, verbose: bool = False)->float:\n",
    "    \n",
    "    information_gain_mut: float = np.round(entropy_parent - avg_entropy_childs, 3)\n",
    "    \n",
    "    if verbose:\n",
    "        print(f\"Average entropy: {information_gain_mut}\")\n",
    "\n",
    "    return np.round(information_gain_mut, 3)"
   ]
  },
  {
   "cell_type": "code",
   "execution_count": 39,
   "metadata": {},
   "outputs": [
    {
     "name": "stdout",
     "output_type": "stream",
     "text": [
      "Average entropy: 0.128\n",
      "Average entropy: 0.006\n",
      "Average entropy: 0.522\n",
      "Average entropy: 0.292\n"
     ]
    }
   ],
   "source": [
    "information_gain_mut1 = calc_inf_gain(H_parent_node_mut1, avg_entropy_mut1, True)\n",
    "information_gain_mut2 = calc_inf_gain(H_parent_node_mut2, avg_entropy_mut2, True)\n",
    "information_gain_mut3 = calc_inf_gain(H_parent_node_mut3, avg_entropy_mut3, True)\n",
    "information_gain_mut4 = calc_inf_gain(H_parent_node_mut4, avg_entropy_mut4, True)"
   ]
  },
  {
   "cell_type": "markdown",
   "metadata": {},
   "source": [
    "The greatest information gain from the feature Mutation 3 means that the dataframe can be splitted with the information from this feature to be the purest possible"
   ]
  },
  {
   "cell_type": "code",
   "execution_count": 40,
   "metadata": {},
   "outputs": [],
   "source": [
    "def split_dataframe(df: pd.DataFrame, mutation_column: str, verbose: bool = False) -> tuple:\n",
    "\n",
    "    left_child: pd.DataFrame = df[df[mutation_column] == 1]\n",
    "    right_child: pd.DataFrame = df[df[mutation_column] == 0]\n",
    "    \n",
    "    if verbose:\n",
    "        print(\"Left Child:\")\n",
    "        print(left_child)\n",
    "        print(\"\\nRight Child:\")\n",
    "        print(right_child)\n",
    "\n",
    "    return left_child, right_child\n",
    "\n"
   ]
  },
  {
   "cell_type": "code",
   "execution_count": 41,
   "metadata": {},
   "outputs": [
    {
     "name": "stdout",
     "output_type": "stream",
     "text": [
      "Left Child:\n",
      "  Samples  Mutation 1  Mutation 2  Mutation 3  Mutation 4\n",
      "0      C1           1           1           1           0\n",
      "2      C3           1           0           1           1\n",
      "3      C4           0           1           1           0\n",
      "\n",
      "Right Child:\n",
      "  Samples  Mutation 1  Mutation 2  Mutation 3  Mutation 4\n",
      "1      C2           1           1           0           1\n",
      "4     NC1           0           0           0           0\n",
      "5     NC2           0           1           0           0\n",
      "6     NC3           1           1           0           0\n"
     ]
    }
   ],
   "source": [
    "# Split the DataFrame based on 'Mutation 3'\n",
    "left_child, right_child = split_dataframe(df, 'Mutation 3', True)"
   ]
  },
  {
   "cell_type": "markdown",
   "metadata": {},
   "source": [
    "As we can see the Right child is has one variable from the cancerous which means that we could reiterate the calculations for this dataframe to find a new optimal split of the child node\\\n",
    "In order to resolve this missclassification we will create a new split after the Right Node"
   ]
  },
  {
   "cell_type": "code",
   "execution_count": 42,
   "metadata": {},
   "outputs": [],
   "source": [
    "# We need to drop the Mutation 3 feature because we cannot split another time with it\n",
    "right_child = right_child.drop('Mutation 3', axis=1)"
   ]
  },
  {
   "cell_type": "code",
   "execution_count": 43,
   "metadata": {},
   "outputs": [
    {
     "name": "stdout",
     "output_type": "stream",
     "text": [
      "The entropy of the parent node is 1.0\n",
      "The entropy of the parent node is 0.811\n",
      "The entropy of the parent node is 0.811\n"
     ]
    }
   ],
   "source": [
    "# We will calculate the new parent entropy\n",
    "\n",
    "mut_1 = \"Mutation 1\"\n",
    "mut_2 = \"Mutation 2\"\n",
    "mut_4 = \"Mutation 4\"\n",
    "\n",
    "H_parent_node_mut1 = calculate_entropy_mutations(right_child, mut_1)\n",
    "H_parent_node_mut2 = calculate_entropy_mutations(right_child, mut_2)\n",
    "H_parent_node_mut4 = calculate_entropy_mutations(right_child, mut_4)\n",
    "\n",
    "print(f\"The entropy of the parent node is {H_parent_node_mut1}\") \n",
    "print(f\"The entropy of the parent node is {H_parent_node_mut2}\") \n",
    "print(f\"The entropy of the parent node is {H_parent_node_mut4}\") "
   ]
  },
  {
   "cell_type": "code",
   "execution_count": 44,
   "metadata": {},
   "outputs": [],
   "source": [
    "def filter_with_name(dataframe: pd.DataFrame, cat_name: str, name_to_filter: str)-> tuple:\n",
    "    \n",
    "    filtered_df: pd.DataFrame = dataframe[dataframe[cat_name].str.startswith(name_to_filter)]\n",
    "        \n",
    "    return filtered_df\n"
   ]
  },
  {
   "cell_type": "code",
   "execution_count": 45,
   "metadata": {},
   "outputs": [
    {
     "data": {
      "text/html": [
       "<div>\n",
       "<style scoped>\n",
       "    .dataframe tbody tr th:only-of-type {\n",
       "        vertical-align: middle;\n",
       "    }\n",
       "\n",
       "    .dataframe tbody tr th {\n",
       "        vertical-align: top;\n",
       "    }\n",
       "\n",
       "    .dataframe thead th {\n",
       "        text-align: right;\n",
       "    }\n",
       "</style>\n",
       "<table border=\"1\" class=\"dataframe\">\n",
       "  <thead>\n",
       "    <tr style=\"text-align: right;\">\n",
       "      <th></th>\n",
       "      <th>Samples</th>\n",
       "      <th>Mutation 1</th>\n",
       "      <th>Mutation 2</th>\n",
       "      <th>Mutation 4</th>\n",
       "    </tr>\n",
       "  </thead>\n",
       "  <tbody>\n",
       "    <tr>\n",
       "      <th>1</th>\n",
       "      <td>C2</td>\n",
       "      <td>1</td>\n",
       "      <td>1</td>\n",
       "      <td>1</td>\n",
       "    </tr>\n",
       "  </tbody>\n",
       "</table>\n",
       "</div>"
      ],
      "text/plain": [
       "  Samples  Mutation 1  Mutation 2  Mutation 4\n",
       "1      C2           1           1           1"
      ]
     },
     "execution_count": 45,
     "metadata": {},
     "output_type": "execute_result"
    }
   ],
   "source": [
    "# Filter the column of the dataframe just for the cancerous cells\n",
    "cancerous_cells_df: pd.DataFrame = filter_with_name(right_child, \"Samples\", \"C\")\n",
    "cancerous_cells_df.head(4)"
   ]
  },
  {
   "cell_type": "code",
   "execution_count": 46,
   "metadata": {},
   "outputs": [
    {
     "data": {
      "text/html": [
       "<div>\n",
       "<style scoped>\n",
       "    .dataframe tbody tr th:only-of-type {\n",
       "        vertical-align: middle;\n",
       "    }\n",
       "\n",
       "    .dataframe tbody tr th {\n",
       "        vertical-align: top;\n",
       "    }\n",
       "\n",
       "    .dataframe thead th {\n",
       "        text-align: right;\n",
       "    }\n",
       "</style>\n",
       "<table border=\"1\" class=\"dataframe\">\n",
       "  <thead>\n",
       "    <tr style=\"text-align: right;\">\n",
       "      <th></th>\n",
       "      <th>Samples</th>\n",
       "      <th>Mutation 1</th>\n",
       "      <th>Mutation 2</th>\n",
       "      <th>Mutation 4</th>\n",
       "    </tr>\n",
       "  </thead>\n",
       "  <tbody>\n",
       "    <tr>\n",
       "      <th>4</th>\n",
       "      <td>NC1</td>\n",
       "      <td>0</td>\n",
       "      <td>0</td>\n",
       "      <td>0</td>\n",
       "    </tr>\n",
       "    <tr>\n",
       "      <th>5</th>\n",
       "      <td>NC2</td>\n",
       "      <td>0</td>\n",
       "      <td>1</td>\n",
       "      <td>0</td>\n",
       "    </tr>\n",
       "    <tr>\n",
       "      <th>6</th>\n",
       "      <td>NC3</td>\n",
       "      <td>1</td>\n",
       "      <td>1</td>\n",
       "      <td>0</td>\n",
       "    </tr>\n",
       "  </tbody>\n",
       "</table>\n",
       "</div>"
      ],
      "text/plain": [
       "  Samples  Mutation 1  Mutation 2  Mutation 4\n",
       "4     NC1           0           0           0\n",
       "5     NC2           0           1           0\n",
       "6     NC3           1           1           0"
      ]
     },
     "execution_count": 46,
     "metadata": {},
     "output_type": "execute_result"
    }
   ],
   "source": [
    "# Filter the column of the dataframe just for the non cancerous cells\n",
    "non_cancerous_cells_df: pd.DataFrame = filter_with_name(right_child, \"Samples\", \"NC\")\n",
    "non_cancerous_cells_df.head(4)"
   ]
  },
  {
   "cell_type": "code",
   "execution_count": 47,
   "metadata": {},
   "outputs": [
    {
     "name": "stdout",
     "output_type": "stream",
     "text": [
      "The entropy of the Child Node Left for Mutation 1 feature is -0.0\n",
      "The entropy of the Child Node Left for Mutation 2 feature is -0.0\n",
      "The entropy of the Child Node Left for Mutation 4 feature is -0.0\n"
     ]
    }
   ],
   "source": [
    "# Calculate the new left node\n",
    "mut_1: str = \"Mutation 1\"\n",
    "mut_2: str = \"Mutation 2\"\n",
    "mut_4: str = \"Mutation 4\"\n",
    "\n",
    "H_child_left_mut1 = calculate_entropy_mutations(cancerous_cells_df, mut_1)\n",
    "H_child_left_mut2 = calculate_entropy_mutations(cancerous_cells_df, mut_2)\n",
    "H_child_left_mut4 = calculate_entropy_mutations(cancerous_cells_df, mut_4)\n",
    "\n",
    "print(f\"The entropy of the Child Node Left for Mutation 1 feature is {H_child_left_mut1}\") \n",
    "print(f\"The entropy of the Child Node Left for Mutation 2 feature is {H_child_left_mut2}\") \n",
    "print(f\"The entropy of the Child Node Left for Mutation 4 feature is {H_child_left_mut4}\") "
   ]
  },
  {
   "cell_type": "code",
   "execution_count": 48,
   "metadata": {},
   "outputs": [
    {
     "name": "stdout",
     "output_type": "stream",
     "text": [
      "The entropy of the Child Node Right for Mutation 1 feature is 0.918\n",
      "The entropy of the Child Node Right for Mutation 2 feature is 0.918\n",
      "The entropy of the Child Node Right for Mutation 4 feature is -0.0\n"
     ]
    }
   ],
   "source": [
    "# Calculate the new right node\n",
    "mut_1: str = \"Mutation 1\"\n",
    "mut_2: str = \"Mutation 2\"\n",
    "mut_4: str = \"Mutation 4\"\n",
    "\n",
    "H_child_right_mut1 = calculate_entropy_mutations(non_cancerous_cells_df, mut_1)\n",
    "H_child_right_mut2 = calculate_entropy_mutations(non_cancerous_cells_df, mut_2)\n",
    "H_child_right_mut4 = calculate_entropy_mutations(non_cancerous_cells_df, mut_4)\n",
    "\n",
    "print(f\"The entropy of the Child Node Right for Mutation 1 feature is {H_child_right_mut1}\") \n",
    "print(f\"The entropy of the Child Node Right for Mutation 2 feature is {H_child_right_mut2}\") \n",
    "print(f\"The entropy of the Child Node Right for Mutation 4 feature is {H_child_right_mut4}\") "
   ]
  },
  {
   "cell_type": "code",
   "execution_count": 49,
   "metadata": {},
   "outputs": [
    {
     "name": "stdout",
     "output_type": "stream",
     "text": [
      "Average entropy: 0.393\n",
      "Average entropy: 0.393\n",
      "Average entropy: -0.0\n"
     ]
    }
   ],
   "source": [
    "# calculate the new average entropies\n",
    "avg_entropy_mut1 = calc_avg_entropy(H_child_left_mut1, H_child_right_mut1, True)\n",
    "avg_entropy_mut2 = calc_avg_entropy(H_child_left_mut2, H_child_right_mut2, True)\n",
    "avg_entropy_mut4 = calc_avg_entropy(H_child_left_mut4, H_child_right_mut4, True)"
   ]
  },
  {
   "cell_type": "code",
   "execution_count": 50,
   "metadata": {},
   "outputs": [
    {
     "name": "stdout",
     "output_type": "stream",
     "text": [
      "Average entropy: 0.607\n",
      "Average entropy: 0.418\n",
      "Average entropy: 0.811\n"
     ]
    }
   ],
   "source": [
    "# Calculate the new information gains\n",
    "information_gain_mut1 = calc_inf_gain(H_parent_node_mut1, avg_entropy_mut1, True)\n",
    "information_gain_mut2 = calc_inf_gain(H_parent_node_mut2, avg_entropy_mut2, True)\n",
    "information_gain_mut4 = calc_inf_gain(H_parent_node_mut4, avg_entropy_mut4, True)"
   ]
  },
  {
   "cell_type": "code",
   "execution_count": 51,
   "metadata": {},
   "outputs": [
    {
     "name": "stdout",
     "output_type": "stream",
     "text": [
      "Left Child:\n",
      "  Samples  Mutation 1  Mutation 2  Mutation 4\n",
      "1      C2           1           1           1\n",
      "\n",
      "Right Child:\n",
      "  Samples  Mutation 1  Mutation 2  Mutation 4\n",
      "4     NC1           0           0           0\n",
      "5     NC2           0           1           0\n",
      "6     NC3           1           1           0\n"
     ]
    }
   ],
   "source": [
    "# Now we can split the righ node with the feature mutation 4\n",
    "new_left_child, new_right_child = split_dataframe(right_child, 'Mutation 4', True)"
   ]
  },
  {
   "cell_type": "markdown",
   "metadata": {},
   "source": [
    "## We get an accuracy of 100% with our very simple dataset but it is a case of overfitting because the model learns too much specifications of the dataset and will struggle to generelize to new unseen data\n",
    "## Solution:\n",
    "### We can chose the attribute with the highest information gain ratio from the attributes whose info gain is average of higher -> biases against considering attributes with a large number of distinct values while not gibing an unfair avantage to attributes with very little value"
   ]
  },
  {
   "cell_type": "markdown",
   "metadata": {},
   "source": [
    "# Code for feature selection\n",
    "### We can use already built functions that calculate very efficiently all our previous calculations"
   ]
  },
  {
   "cell_type": "code",
   "execution_count": 60,
   "metadata": {},
   "outputs": [
    {
     "name": "stdout",
     "output_type": "stream",
     "text": [
      "Information gain for Mutation 1: 0.0714\n",
      "Information gain for Mutation 2: 0.0000\n",
      "Information gain for Mutation 3: 0.1952\n",
      "Information gain for Mutation 4: 0.0238\n"
     ]
    }
   ],
   "source": [
    "from sklearn.feature_selection import mutual_info_classif\n",
    "\n",
    "# Data for the DataFrame\n",
    "data: Dict[str, Union[str, float]] = {\n",
    "    'Samples': ['C1', 'C2', 'C3', 'C4', 'NC1', 'NC2', 'NC3'],\n",
    "    'Mutation 1': [1, 1, 1, 0, 0, 0, 1],\n",
    "    'Mutation 2': [1, 1, 0, 1, 0, 1, 1],\n",
    "    'Mutation 3': [1, 0, 1, 1, 0, 0, 0],\n",
    "    'Mutation 4': [0, 1, 1, 0, 0, 0, 0]\n",
    "}\n",
    "\n",
    "# Modify the 'Samples' column\n",
    "data['Samples'] = [1 if s.startswith('C') else 0 for s in data['Samples']]\n",
    "\n",
    "# Create the DataFrame\n",
    "df: pd.DataFrame = pd.DataFrame(data, index=None)\n",
    "\n",
    "# Calculate information gain\n",
    "X = df[['Mutation 1', 'Mutation 2', \"Mutation 3\", \"Mutation 4\"]]\n",
    "y = df['Samples']\n",
    "info_gain = mutual_info_classif(X, y)\n",
    "\n",
    "for feature, gain in zip(X.columns, info_gain):\n",
    "    print(f\"Information gain for {feature}: {gain:.4f}\")\n"
   ]
  },
  {
   "cell_type": "markdown",
   "metadata": {},
   "source": [
    "# Code for Mutual Information\n",
    "## It measures the amount of information obtained about one random variable through another random variable\n",
    "## It gives the quantity of dependency between two variable X and Y\n",
    "## Mutual information is intimately linked to that of entropy of a random variable"
   ]
  },
  {
   "cell_type": "code",
   "execution_count": 63,
   "metadata": {},
   "outputs": [
    {
     "name": "stdout",
     "output_type": "stream",
     "text": [
      "Mutual information between the target and feature_1: 0.089\n",
      "Mutual information between the target and feature_2: 0.004\n",
      "Mutual information between the target and feature_3: 0.362\n",
      "Mutual information between the target and feature_4: 0.202\n"
     ]
    }
   ],
   "source": [
    "from sklearn.metrics import mutual_info_score\n",
    "\n",
    "def mutual_information(x: List[int], y: List[int])->float:\n",
    "    \n",
    "    return np.round(mutual_info_score(x, y), 3)\n",
    "\n",
    "# Example: Calculate mutual information between two variables\n",
    "target = np.array(data['Samples'])\n",
    "feature_1 = np.array(data['Mutation 1'])\n",
    "feature_2 = np.array(data['Mutation 2'])\n",
    "feature_3 = np.array(data['Mutation 3'])\n",
    "feature_4 = np.array(data['Mutation 4'])\n",
    "\n",
    "print(f\"Mutual information between the target and feature_1: {mutual_information(feature_1, target)}\")\n",
    "print(f\"Mutual information between the target and feature_2: {mutual_information(feature_2, target)}\")\n",
    "print(f\"Mutual information between the target and feature_3: {mutual_information(feature_3, target)}\")\n",
    "print(f\"Mutual information between the target and feature_4: {mutual_information(feature_4, target)}\")\n"
   ]
  },
  {
   "cell_type": "markdown",
   "metadata": {},
   "source": [
    "# Code for Kullback-Leibler Divergence (Relative Entropy)\n",
    "## This is the measure of the difference between two probability distributions"
   ]
  },
  {
   "cell_type": "code",
   "execution_count": 66,
   "metadata": {},
   "outputs": [
    {
     "name": "stdout",
     "output_type": "stream",
     "text": [
      "KL divergence: 0.097\n"
     ]
    }
   ],
   "source": [
    "import numpy as np\n",
    "from scipy.stats import entropy\n",
    "\n",
    "def kl_divergence(p: List[float], q: List[float])->float:\n",
    "    \n",
    "    return np.round(entropy(p, q), 3)\n",
    "\n",
    "# Example: Compare two probability distributions\n",
    "p = np.array([0.2, 0.5, 0.3])\n",
    "q = np.array([0.1, 0.4, 0.5])\n",
    "\n",
    "print(f\"KL divergence: {kl_divergence(p, q)}\")\n"
   ]
  }
 ],
 "metadata": {
  "kernelspec": {
   "display_name": "py_env_analysis",
   "language": "python",
   "name": "python3"
  },
  "language_info": {
   "codemirror_mode": {
    "name": "ipython",
    "version": 3
   },
   "file_extension": ".py",
   "mimetype": "text/x-python",
   "name": "python",
   "nbconvert_exporter": "python",
   "pygments_lexer": "ipython3",
   "version": "3.11.9"
  }
 },
 "nbformat": 4,
 "nbformat_minor": 2
}
