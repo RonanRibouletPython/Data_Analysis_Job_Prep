{
 "cells": [
  {
   "cell_type": "markdown",
   "metadata": {},
   "source": [
    "GOAL1: Find if the size of the city have an impact on what people are voting for in the anticipated legislative election of 2024"
   ]
  },
  {
   "cell_type": "markdown",
   "metadata": {},
   "source": [
    "Importation of the librairies for this EDA project"
   ]
  },
  {
   "cell_type": "code",
   "execution_count": 1,
   "metadata": {},
   "outputs": [],
   "source": [
    "import pandas as pd\n",
    "import numpy as np\n",
    "from matplotlib import pyplot as plt\n",
    "import scipy as sp\n",
    "from pyspark.sql import SparkSession\n",
    "import warnings\n",
    "warnings.filterwarnings('ignore')\n",
    "\n",
    "from pyspark.sql.functions import regexp_replace, col, when\n",
    "\n",
    "from pyspark.sql.types import FloatType, IntegerType\n"
   ]
  },
  {
   "cell_type": "markdown",
   "metadata": {},
   "source": [
    "This is a simple EDA project with data coming from the official french government website about the results of the legislative elections from 2002 to 2024\n",
    "Source of the files: https://www.data.gouv.fr/fr/pages/donnees-des-elections/"
   ]
  },
  {
   "cell_type": "markdown",
   "metadata": {},
   "source": [
    "We will use PySpark for to handle the csv file of the year 2024"
   ]
  },
  {
   "cell_type": "markdown",
   "metadata": {},
   "source": [
    "Tuto for the installation of Pyspark: https://www.datacamp.com/tutorial/pyspark-tutorial-getting-started-with-pyspark"
   ]
  },
  {
   "cell_type": "markdown",
   "metadata": {},
   "source": [
    "Create the Pyspark session"
   ]
  },
  {
   "cell_type": "code",
   "execution_count": 2,
   "metadata": {},
   "outputs": [],
   "source": [
    "spark = SparkSession.builder.appName(\"Pyspark Election Project\").config(\"spark.memory.offHeap.enabled\",\"true\").config(\"spark.memory.offHeap.size\",\"10g\").getOrCreate()"
   ]
  },
  {
   "cell_type": "markdown",
   "metadata": {},
   "source": [
    "Read the csv file for the election of 2024 with options:\n",
    " - delimiter as \";\" because we use a CSV file\n",
    " - keep the Header of the file "
   ]
  },
  {
   "cell_type": "code",
   "execution_count": 3,
   "metadata": {},
   "outputs": [],
   "source": [
    "df_res_2024_communes = spark.read.option(\"delimiter\", \";\").option(\"header\", True).csv(\"../Data/2024/resultats-definitifs-par-commune.csv\")"
   ]
  },
  {
   "cell_type": "markdown",
   "metadata": {},
   "source": [
    "Show the first 10 rows of the dataset"
   ]
  },
  {
   "cell_type": "code",
   "execution_count": 4,
   "metadata": {},
   "outputs": [
    {
     "name": "stdout",
     "output_type": "stream",
     "text": [
      "+----------------+-------------------+------------+--------------------+--------+-------+---------+-----------+-------------+--------+-------------------+------------------+------+-----------------+----------------+----+---------------+--------------+-------------------+-----------------+--------------+-----------------+---------------+------+-----------------+-----------------+-----+-------------------+-----------------+--------------+-----------------+---------------+------+-----------------+-----------------+-----+-------------------+-----------------+--------------+-----------------+---------------+------+-----------------+-----------------+-----+-------------------+-----------------+--------------+-----------------+---------------+------+-----------------+-----------------+-----+-------------------+-----------------+--------------+-----------------+---------------+------+-----------------+-----------------+-----+-------------------+-----------------+--------------+-----------------+---------------+------+-----------------+-----------------+-----+-------------------+-----------------+--------------+-----------------+---------------+------+-----------------+-----------------+-----+-------------------+-----------------+--------------+-----------------+---------------+------+-----------------+-----------------+-----+-------------------+-----------------+--------------+-----------------+---------------+------+-----------------+-----------------+-----+--------------------+------------------+---------------+------------------+----------------+-------+------------------+------------------+------+--------------------+------------------+---------------+------------------+----------------+-------+------------------+------------------+------+--------------------+------------------+---------------+------------------+----------------+-------+------------------+------------------+------+--------------------+------------------+---------------+------------------+----------------+-------+------------------+------------------+------+--------------------+------------------+---------------+------------------+----------------+-------+------------------+------------------+------+--------------------+------------------+---------------+------------------+----------------+-------+------------------+------------------+------+--------------------+------------------+---------------+------------------+----------------+-------+------------------+------------------+------+--------------------+------------------+---------------+------------------+----------------+-------+------------------+------------------+------+--------------------+------------------+---------------+------------------+----------------+-------+------------------+------------------+------+\n",
      "|Code département|Libellé département|Code commune|     Libellé commune|Inscrits|Votants|% Votants|Abstentions|% Abstentions|Exprimés|% Exprimés/inscrits|% Exprimés/votants|Blancs|% Blancs/inscrits|% Blancs/votants|Nuls|% Nuls/inscrits|% Nuls/votants|Numéro de panneau 1|Nuance candidat 1|Nom candidat 1|Prénom candidat 1|Sexe candidat 1|Voix 1|% Voix/inscrits 1|% Voix/exprimés 1|Elu 1|Numéro de panneau 2|Nuance candidat 2|Nom candidat 2|Prénom candidat 2|Sexe candidat 2|Voix 2|% Voix/inscrits 2|% Voix/exprimés 2|Elu 2|Numéro de panneau 3|Nuance candidat 3|Nom candidat 3|Prénom candidat 3|Sexe candidat 3|Voix 3|% Voix/inscrits 3|% Voix/exprimés 3|Elu 3|Numéro de panneau 4|Nuance candidat 4|Nom candidat 4|Prénom candidat 4|Sexe candidat 4|Voix 4|% Voix/inscrits 4|% Voix/exprimés 4|Elu 4|Numéro de panneau 5|Nuance candidat 5|Nom candidat 5|Prénom candidat 5|Sexe candidat 5|Voix 5|% Voix/inscrits 5|% Voix/exprimés 5|Elu 5|Numéro de panneau 6|Nuance candidat 6|Nom candidat 6|Prénom candidat 6|Sexe candidat 6|Voix 6|% Voix/inscrits 6|% Voix/exprimés 6|Elu 6|Numéro de panneau 7|Nuance candidat 7|Nom candidat 7|Prénom candidat 7|Sexe candidat 7|Voix 7|% Voix/inscrits 7|% Voix/exprimés 7|Elu 7|Numéro de panneau 8|Nuance candidat 8|Nom candidat 8|Prénom candidat 8|Sexe candidat 8|Voix 8|% Voix/inscrits 8|% Voix/exprimés 8|Elu 8|Numéro de panneau 9|Nuance candidat 9|Nom candidat 9|Prénom candidat 9|Sexe candidat 9|Voix 9|% Voix/inscrits 9|% Voix/exprimés 9|Elu 9|Numéro de panneau 10|Nuance candidat 10|Nom candidat 10|Prénom candidat 10|Sexe candidat 10|Voix 10|% Voix/inscrits 10|% Voix/exprimés 10|Elu 10|Numéro de panneau 11|Nuance candidat 11|Nom candidat 11|Prénom candidat 11|Sexe candidat 11|Voix 11|% Voix/inscrits 11|% Voix/exprimés 11|Elu 11|Numéro de panneau 12|Nuance candidat 12|Nom candidat 12|Prénom candidat 12|Sexe candidat 12|Voix 12|% Voix/inscrits 12|% Voix/exprimés 12|Elu 12|Numéro de panneau 13|Nuance candidat 13|Nom candidat 13|Prénom candidat 13|Sexe candidat 13|Voix 13|% Voix/inscrits 13|% Voix/exprimés 13|Elu 13|Numéro de panneau 14|Nuance candidat 14|Nom candidat 14|Prénom candidat 14|Sexe candidat 14|Voix 14|% Voix/inscrits 14|% Voix/exprimés 14|Elu 14|Numéro de panneau 15|Nuance candidat 15|Nom candidat 15|Prénom candidat 15|Sexe candidat 15|Voix 15|% Voix/inscrits 15|% Voix/exprimés 15|Elu 15|Numéro de panneau 16|Nuance candidat 16|Nom candidat 16|Prénom candidat 16|Sexe candidat 16|Voix 16|% Voix/inscrits 16|% Voix/exprimés 16|Elu 16|Numéro de panneau 17|Nuance candidat 17|Nom candidat 17|Prénom candidat 17|Sexe candidat 17|Voix 17|% Voix/inscrits 17|% Voix/exprimés 17|Elu 17|Numéro de panneau 18|Nuance candidat 18|Nom candidat 18|Prénom candidat 18|Sexe candidat 18|Voix 18|% Voix/inscrits 18|% Voix/exprimés 18|Elu 18|\n",
      "+----------------+-------------------+------------+--------------------+--------+-------+---------+-----------+-------------+--------+-------------------+------------------+------+-----------------+----------------+----+---------------+--------------+-------------------+-----------------+--------------+-----------------+---------------+------+-----------------+-----------------+-----+-------------------+-----------------+--------------+-----------------+---------------+------+-----------------+-----------------+-----+-------------------+-----------------+--------------+-----------------+---------------+------+-----------------+-----------------+-----+-------------------+-----------------+--------------+-----------------+---------------+------+-----------------+-----------------+-----+-------------------+-----------------+--------------+-----------------+---------------+------+-----------------+-----------------+-----+-------------------+-----------------+--------------+-----------------+---------------+------+-----------------+-----------------+-----+-------------------+-----------------+--------------+-----------------+---------------+------+-----------------+-----------------+-----+-------------------+-----------------+--------------+-----------------+---------------+------+-----------------+-----------------+-----+-------------------+-----------------+--------------+-----------------+---------------+------+-----------------+-----------------+-----+--------------------+------------------+---------------+------------------+----------------+-------+------------------+------------------+------+--------------------+------------------+---------------+------------------+----------------+-------+------------------+------------------+------+--------------------+------------------+---------------+------------------+----------------+-------+------------------+------------------+------+--------------------+------------------+---------------+------------------+----------------+-------+------------------+------------------+------+--------------------+------------------+---------------+------------------+----------------+-------+------------------+------------------+------+--------------------+------------------+---------------+------------------+----------------+-------+------------------+------------------+------+--------------------+------------------+---------------+------------------+----------------+-------+------------------+------------------+------+--------------------+------------------+---------------+------------------+----------------+-------+------------------+------------------+------+--------------------+------------------+---------------+------------------+----------------+-------+------------------+------------------+------+\n",
      "|              01|                Ain|       01001|L'Abergement-Clém...|     662|    494|   74,62%|        168|       25,38%|     476|             71,90%|            96,36%|    14|            2,11%|           2,83%|   4|          0,60%|         0,81%|                  5|              ENS|      COQUELET|       Christophe|       MASCULIN|   203|           30,66%|           42,65%| NULL|                  6|               RN|       BUISSON|           Jérôme|       MASCULIN|   273|           41,24%|           57,35%|  élu|               NULL|             NULL|          NULL|             NULL|           NULL|  NULL|             NULL|             NULL| NULL|               NULL|             NULL|          NULL|             NULL|           NULL|  NULL|             NULL|             NULL| NULL|               NULL|             NULL|          NULL|             NULL|           NULL|  NULL|             NULL|             NULL| NULL|               NULL|             NULL|          NULL|             NULL|           NULL|  NULL|             NULL|             NULL| NULL|               NULL|             NULL|          NULL|             NULL|           NULL|  NULL|             NULL|             NULL| NULL|               NULL|             NULL|          NULL|             NULL|           NULL|  NULL|             NULL|             NULL| NULL|               NULL|             NULL|          NULL|             NULL|           NULL|  NULL|             NULL|             NULL| NULL|                NULL|              NULL|           NULL|              NULL|            NULL|   NULL|              NULL|              NULL|  NULL|                NULL|              NULL|           NULL|              NULL|            NULL|   NULL|              NULL|              NULL|  NULL|                NULL|              NULL|           NULL|              NULL|            NULL|   NULL|              NULL|              NULL|  NULL|                NULL|              NULL|           NULL|              NULL|            NULL|   NULL|              NULL|              NULL|  NULL|                NULL|              NULL|           NULL|              NULL|            NULL|   NULL|              NULL|              NULL|  NULL|                NULL|              NULL|           NULL|              NULL|            NULL|   NULL|              NULL|              NULL|  NULL|                NULL|              NULL|           NULL|              NULL|            NULL|   NULL|              NULL|              NULL|  NULL|                NULL|              NULL|           NULL|              NULL|            NULL|   NULL|              NULL|              NULL|  NULL|                NULL|              NULL|           NULL|              NULL|            NULL|   NULL|              NULL|              NULL|  NULL|\n",
      "|              01|                Ain|       01002|L'Abergement-de-V...|     228|    187|   82,02%|         41|       17,98%|     166|             72,81%|            88,77%|    17|            7,46%|           9,09%|   4|          1,75%|         2,14%|                  4|               UG|        PISANI|         Florence|        FEMININ|    93|           40,79%|           56,02%| NULL|                  8|              UXD|       CHAVENT|             Marc|       MASCULIN|    73|           32,02%|           43,98%|  élu|               NULL|             NULL|          NULL|             NULL|           NULL|  NULL|             NULL|             NULL| NULL|               NULL|             NULL|          NULL|             NULL|           NULL|  NULL|             NULL|             NULL| NULL|               NULL|             NULL|          NULL|             NULL|           NULL|  NULL|             NULL|             NULL| NULL|               NULL|             NULL|          NULL|             NULL|           NULL|  NULL|             NULL|             NULL| NULL|               NULL|             NULL|          NULL|             NULL|           NULL|  NULL|             NULL|             NULL| NULL|               NULL|             NULL|          NULL|             NULL|           NULL|  NULL|             NULL|             NULL| NULL|               NULL|             NULL|          NULL|             NULL|           NULL|  NULL|             NULL|             NULL| NULL|                NULL|              NULL|           NULL|              NULL|            NULL|   NULL|              NULL|              NULL|  NULL|                NULL|              NULL|           NULL|              NULL|            NULL|   NULL|              NULL|              NULL|  NULL|                NULL|              NULL|           NULL|              NULL|            NULL|   NULL|              NULL|              NULL|  NULL|                NULL|              NULL|           NULL|              NULL|            NULL|   NULL|              NULL|              NULL|  NULL|                NULL|              NULL|           NULL|              NULL|            NULL|   NULL|              NULL|              NULL|  NULL|                NULL|              NULL|           NULL|              NULL|            NULL|   NULL|              NULL|              NULL|  NULL|                NULL|              NULL|           NULL|              NULL|            NULL|   NULL|              NULL|              NULL|  NULL|                NULL|              NULL|           NULL|              NULL|            NULL|   NULL|              NULL|              NULL|  NULL|                NULL|              NULL|           NULL|              NULL|            NULL|   NULL|              NULL|              NULL|  NULL|\n",
      "|              01|                Ain|       01004|   Ambérieu-en-Bugey|    8745|   5887|   67,32%|       2858|       32,68%|    5348|             61,15%|            90,84%|   403|            4,61%|           6,85%| 136|          1,56%|         2,31%|                  4|               UG|        PISANI|         Florence|        FEMININ|  2606|           29,80%|           48,73%| NULL|                  8|              UXD|       CHAVENT|             Marc|       MASCULIN|  2742|           31,36%|           51,27%|  élu|               NULL|             NULL|          NULL|             NULL|           NULL|  NULL|             NULL|             NULL| NULL|               NULL|             NULL|          NULL|             NULL|           NULL|  NULL|             NULL|             NULL| NULL|               NULL|             NULL|          NULL|             NULL|           NULL|  NULL|             NULL|             NULL| NULL|               NULL|             NULL|          NULL|             NULL|           NULL|  NULL|             NULL|             NULL| NULL|               NULL|             NULL|          NULL|             NULL|           NULL|  NULL|             NULL|             NULL| NULL|               NULL|             NULL|          NULL|             NULL|           NULL|  NULL|             NULL|             NULL| NULL|               NULL|             NULL|          NULL|             NULL|           NULL|  NULL|             NULL|             NULL| NULL|                NULL|              NULL|           NULL|              NULL|            NULL|   NULL|              NULL|              NULL|  NULL|                NULL|              NULL|           NULL|              NULL|            NULL|   NULL|              NULL|              NULL|  NULL|                NULL|              NULL|           NULL|              NULL|            NULL|   NULL|              NULL|              NULL|  NULL|                NULL|              NULL|           NULL|              NULL|            NULL|   NULL|              NULL|              NULL|  NULL|                NULL|              NULL|           NULL|              NULL|            NULL|   NULL|              NULL|              NULL|  NULL|                NULL|              NULL|           NULL|              NULL|            NULL|   NULL|              NULL|              NULL|  NULL|                NULL|              NULL|           NULL|              NULL|            NULL|   NULL|              NULL|              NULL|  NULL|                NULL|              NULL|           NULL|              NULL|            NULL|   NULL|              NULL|              NULL|  NULL|                NULL|              NULL|           NULL|              NULL|            NULL|   NULL|              NULL|              NULL|  NULL|\n",
      "|              01|                Ain|       01005| Ambérieux-en-Dombes|    1337|    979|   73,22%|        358|       26,78%|     926|             69,26%|            94,59%|    46|            3,44%|           4,70%|   7|          0,52%|         0,72%|                  5|              ENS|      COQUELET|       Christophe|       MASCULIN|   388|           29,02%|           41,90%| NULL|                  6|               RN|       BUISSON|           Jérôme|       MASCULIN|   538|           40,24%|           58,10%|  élu|               NULL|             NULL|          NULL|             NULL|           NULL|  NULL|             NULL|             NULL| NULL|               NULL|             NULL|          NULL|             NULL|           NULL|  NULL|             NULL|             NULL| NULL|               NULL|             NULL|          NULL|             NULL|           NULL|  NULL|             NULL|             NULL| NULL|               NULL|             NULL|          NULL|             NULL|           NULL|  NULL|             NULL|             NULL| NULL|               NULL|             NULL|          NULL|             NULL|           NULL|  NULL|             NULL|             NULL| NULL|               NULL|             NULL|          NULL|             NULL|           NULL|  NULL|             NULL|             NULL| NULL|               NULL|             NULL|          NULL|             NULL|           NULL|  NULL|             NULL|             NULL| NULL|                NULL|              NULL|           NULL|              NULL|            NULL|   NULL|              NULL|              NULL|  NULL|                NULL|              NULL|           NULL|              NULL|            NULL|   NULL|              NULL|              NULL|  NULL|                NULL|              NULL|           NULL|              NULL|            NULL|   NULL|              NULL|              NULL|  NULL|                NULL|              NULL|           NULL|              NULL|            NULL|   NULL|              NULL|              NULL|  NULL|                NULL|              NULL|           NULL|              NULL|            NULL|   NULL|              NULL|              NULL|  NULL|                NULL|              NULL|           NULL|              NULL|            NULL|   NULL|              NULL|              NULL|  NULL|                NULL|              NULL|           NULL|              NULL|            NULL|   NULL|              NULL|              NULL|  NULL|                NULL|              NULL|           NULL|              NULL|            NULL|   NULL|              NULL|              NULL|  NULL|                NULL|              NULL|           NULL|              NULL|            NULL|   NULL|              NULL|              NULL|  NULL|\n",
      "|              01|                Ain|       01006|             Ambléon|      98|     65|   66,33%|         33|       33,67%|      59|             60,20%|            90,77%|     6|            6,12%|           9,23%|   0|          0,00%|         0,00%|                  1|              ENS|      GIVERNET|             Olga|        FEMININ|    32|           32,65%|           54,24%|  élu|                  6|               RN|       DUBARRY|           Karine|        FEMININ|    27|           27,55%|           45,76%| NULL|               NULL|             NULL|          NULL|             NULL|           NULL|  NULL|             NULL|             NULL| NULL|               NULL|             NULL|          NULL|             NULL|           NULL|  NULL|             NULL|             NULL| NULL|               NULL|             NULL|          NULL|             NULL|           NULL|  NULL|             NULL|             NULL| NULL|               NULL|             NULL|          NULL|             NULL|           NULL|  NULL|             NULL|             NULL| NULL|               NULL|             NULL|          NULL|             NULL|           NULL|  NULL|             NULL|             NULL| NULL|               NULL|             NULL|          NULL|             NULL|           NULL|  NULL|             NULL|             NULL| NULL|               NULL|             NULL|          NULL|             NULL|           NULL|  NULL|             NULL|             NULL| NULL|                NULL|              NULL|           NULL|              NULL|            NULL|   NULL|              NULL|              NULL|  NULL|                NULL|              NULL|           NULL|              NULL|            NULL|   NULL|              NULL|              NULL|  NULL|                NULL|              NULL|           NULL|              NULL|            NULL|   NULL|              NULL|              NULL|  NULL|                NULL|              NULL|           NULL|              NULL|            NULL|   NULL|              NULL|              NULL|  NULL|                NULL|              NULL|           NULL|              NULL|            NULL|   NULL|              NULL|              NULL|  NULL|                NULL|              NULL|           NULL|              NULL|            NULL|   NULL|              NULL|              NULL|  NULL|                NULL|              NULL|           NULL|              NULL|            NULL|   NULL|              NULL|              NULL|  NULL|                NULL|              NULL|           NULL|              NULL|            NULL|   NULL|              NULL|              NULL|  NULL|                NULL|              NULL|           NULL|              NULL|            NULL|   NULL|              NULL|              NULL|  NULL|\n",
      "|              01|                Ain|       01007|            Ambronay|    2076|   1518|   73,12%|        558|       26,88%|    1338|             64,45%|            88,14%|   137|            6,60%|           9,03%|  43|          2,07%|         2,83%|                  4|               UG|        PISANI|         Florence|        FEMININ|   534|           25,72%|           39,91%| NULL|                  8|              UXD|       CHAVENT|             Marc|       MASCULIN|   804|           38,73%|           60,09%|  élu|               NULL|             NULL|          NULL|             NULL|           NULL|  NULL|             NULL|             NULL| NULL|               NULL|             NULL|          NULL|             NULL|           NULL|  NULL|             NULL|             NULL| NULL|               NULL|             NULL|          NULL|             NULL|           NULL|  NULL|             NULL|             NULL| NULL|               NULL|             NULL|          NULL|             NULL|           NULL|  NULL|             NULL|             NULL| NULL|               NULL|             NULL|          NULL|             NULL|           NULL|  NULL|             NULL|             NULL| NULL|               NULL|             NULL|          NULL|             NULL|           NULL|  NULL|             NULL|             NULL| NULL|               NULL|             NULL|          NULL|             NULL|           NULL|  NULL|             NULL|             NULL| NULL|                NULL|              NULL|           NULL|              NULL|            NULL|   NULL|              NULL|              NULL|  NULL|                NULL|              NULL|           NULL|              NULL|            NULL|   NULL|              NULL|              NULL|  NULL|                NULL|              NULL|           NULL|              NULL|            NULL|   NULL|              NULL|              NULL|  NULL|                NULL|              NULL|           NULL|              NULL|            NULL|   NULL|              NULL|              NULL|  NULL|                NULL|              NULL|           NULL|              NULL|            NULL|   NULL|              NULL|              NULL|  NULL|                NULL|              NULL|           NULL|              NULL|            NULL|   NULL|              NULL|              NULL|  NULL|                NULL|              NULL|           NULL|              NULL|            NULL|   NULL|              NULL|              NULL|  NULL|                NULL|              NULL|           NULL|              NULL|            NULL|   NULL|              NULL|              NULL|  NULL|                NULL|              NULL|           NULL|              NULL|            NULL|   NULL|              NULL|              NULL|  NULL|\n",
      "|              01|                Ain|       01008|            Ambutrix|     568|    413|   72,71%|        155|       27,29%|     402|             70,77%|            97,34%|     8|            1,41%|           1,94%|   3|          0,53%|         0,73%|                  1|               RN|       KOTARAC|           Andréa|       MASCULIN|   198|           34,86%|           49,25%| NULL|                  2|              ENS|        DAUBIÉ|           Romain|       MASCULIN|   204|           35,92%|           50,75%|  élu|               NULL|             NULL|          NULL|             NULL|           NULL|  NULL|             NULL|             NULL| NULL|               NULL|             NULL|          NULL|             NULL|           NULL|  NULL|             NULL|             NULL| NULL|               NULL|             NULL|          NULL|             NULL|           NULL|  NULL|             NULL|             NULL| NULL|               NULL|             NULL|          NULL|             NULL|           NULL|  NULL|             NULL|             NULL| NULL|               NULL|             NULL|          NULL|             NULL|           NULL|  NULL|             NULL|             NULL| NULL|               NULL|             NULL|          NULL|             NULL|           NULL|  NULL|             NULL|             NULL| NULL|               NULL|             NULL|          NULL|             NULL|           NULL|  NULL|             NULL|             NULL| NULL|                NULL|              NULL|           NULL|              NULL|            NULL|   NULL|              NULL|              NULL|  NULL|                NULL|              NULL|           NULL|              NULL|            NULL|   NULL|              NULL|              NULL|  NULL|                NULL|              NULL|           NULL|              NULL|            NULL|   NULL|              NULL|              NULL|  NULL|                NULL|              NULL|           NULL|              NULL|            NULL|   NULL|              NULL|              NULL|  NULL|                NULL|              NULL|           NULL|              NULL|            NULL|   NULL|              NULL|              NULL|  NULL|                NULL|              NULL|           NULL|              NULL|            NULL|   NULL|              NULL|              NULL|  NULL|                NULL|              NULL|           NULL|              NULL|            NULL|   NULL|              NULL|              NULL|  NULL|                NULL|              NULL|           NULL|              NULL|            NULL|   NULL|              NULL|              NULL|  NULL|                NULL|              NULL|           NULL|              NULL|            NULL|   NULL|              NULL|              NULL|  NULL|\n",
      "|              01|                Ain|       01009|    Andert-et-Condon|     287|    209|   72,82%|         78|       27,18%|     196|             68,29%|            93,78%|    12|            4,18%|           5,74%|   1|          0,35%|         0,48%|                  1|              ENS|      GIVERNET|             Olga|        FEMININ|   110|           38,33%|           56,12%|  élu|                  6|               RN|       DUBARRY|           Karine|        FEMININ|    86|           29,97%|           43,88%| NULL|               NULL|             NULL|          NULL|             NULL|           NULL|  NULL|             NULL|             NULL| NULL|               NULL|             NULL|          NULL|             NULL|           NULL|  NULL|             NULL|             NULL| NULL|               NULL|             NULL|          NULL|             NULL|           NULL|  NULL|             NULL|             NULL| NULL|               NULL|             NULL|          NULL|             NULL|           NULL|  NULL|             NULL|             NULL| NULL|               NULL|             NULL|          NULL|             NULL|           NULL|  NULL|             NULL|             NULL| NULL|               NULL|             NULL|          NULL|             NULL|           NULL|  NULL|             NULL|             NULL| NULL|               NULL|             NULL|          NULL|             NULL|           NULL|  NULL|             NULL|             NULL| NULL|                NULL|              NULL|           NULL|              NULL|            NULL|   NULL|              NULL|              NULL|  NULL|                NULL|              NULL|           NULL|              NULL|            NULL|   NULL|              NULL|              NULL|  NULL|                NULL|              NULL|           NULL|              NULL|            NULL|   NULL|              NULL|              NULL|  NULL|                NULL|              NULL|           NULL|              NULL|            NULL|   NULL|              NULL|              NULL|  NULL|                NULL|              NULL|           NULL|              NULL|            NULL|   NULL|              NULL|              NULL|  NULL|                NULL|              NULL|           NULL|              NULL|            NULL|   NULL|              NULL|              NULL|  NULL|                NULL|              NULL|           NULL|              NULL|            NULL|   NULL|              NULL|              NULL|  NULL|                NULL|              NULL|           NULL|              NULL|            NULL|   NULL|              NULL|              NULL|  NULL|                NULL|              NULL|           NULL|              NULL|            NULL|   NULL|              NULL|              NULL|  NULL|\n",
      "|              01|                Ain|       01010|           Anglefort|     827|    558|   67,47%|        269|       32,53%|     533|             64,45%|            95,52%|    18|            2,18%|           3,23%|   7|          0,85%|         1,25%|                  1|              ENS|      GIVERNET|             Olga|        FEMININ|   238|           28,78%|           44,65%|  élu|                  6|               RN|       DUBARRY|           Karine|        FEMININ|   295|           35,67%|           55,35%| NULL|               NULL|             NULL|          NULL|             NULL|           NULL|  NULL|             NULL|             NULL| NULL|               NULL|             NULL|          NULL|             NULL|           NULL|  NULL|             NULL|             NULL| NULL|               NULL|             NULL|          NULL|             NULL|           NULL|  NULL|             NULL|             NULL| NULL|               NULL|             NULL|          NULL|             NULL|           NULL|  NULL|             NULL|             NULL| NULL|               NULL|             NULL|          NULL|             NULL|           NULL|  NULL|             NULL|             NULL| NULL|               NULL|             NULL|          NULL|             NULL|           NULL|  NULL|             NULL|             NULL| NULL|               NULL|             NULL|          NULL|             NULL|           NULL|  NULL|             NULL|             NULL| NULL|                NULL|              NULL|           NULL|              NULL|            NULL|   NULL|              NULL|              NULL|  NULL|                NULL|              NULL|           NULL|              NULL|            NULL|   NULL|              NULL|              NULL|  NULL|                NULL|              NULL|           NULL|              NULL|            NULL|   NULL|              NULL|              NULL|  NULL|                NULL|              NULL|           NULL|              NULL|            NULL|   NULL|              NULL|              NULL|  NULL|                NULL|              NULL|           NULL|              NULL|            NULL|   NULL|              NULL|              NULL|  NULL|                NULL|              NULL|           NULL|              NULL|            NULL|   NULL|              NULL|              NULL|  NULL|                NULL|              NULL|           NULL|              NULL|            NULL|   NULL|              NULL|              NULL|  NULL|                NULL|              NULL|           NULL|              NULL|            NULL|   NULL|              NULL|              NULL|  NULL|                NULL|              NULL|           NULL|              NULL|            NULL|   NULL|              NULL|              NULL|  NULL|\n",
      "|              01|                Ain|       01011|            Apremont|     296|    229|   77,36%|         67|       22,64%|     206|             69,59%|            89,96%|    20|            6,76%|           8,73%|   3|          1,01%|         1,31%|                  4|               UG|        PISANI|         Florence|        FEMININ|    70|           23,65%|           33,98%| NULL|                  8|              UXD|       CHAVENT|             Marc|       MASCULIN|   136|           45,95%|           66,02%|  élu|               NULL|             NULL|          NULL|             NULL|           NULL|  NULL|             NULL|             NULL| NULL|               NULL|             NULL|          NULL|             NULL|           NULL|  NULL|             NULL|             NULL| NULL|               NULL|             NULL|          NULL|             NULL|           NULL|  NULL|             NULL|             NULL| NULL|               NULL|             NULL|          NULL|             NULL|           NULL|  NULL|             NULL|             NULL| NULL|               NULL|             NULL|          NULL|             NULL|           NULL|  NULL|             NULL|             NULL| NULL|               NULL|             NULL|          NULL|             NULL|           NULL|  NULL|             NULL|             NULL| NULL|               NULL|             NULL|          NULL|             NULL|           NULL|  NULL|             NULL|             NULL| NULL|                NULL|              NULL|           NULL|              NULL|            NULL|   NULL|              NULL|              NULL|  NULL|                NULL|              NULL|           NULL|              NULL|            NULL|   NULL|              NULL|              NULL|  NULL|                NULL|              NULL|           NULL|              NULL|            NULL|   NULL|              NULL|              NULL|  NULL|                NULL|              NULL|           NULL|              NULL|            NULL|   NULL|              NULL|              NULL|  NULL|                NULL|              NULL|           NULL|              NULL|            NULL|   NULL|              NULL|              NULL|  NULL|                NULL|              NULL|           NULL|              NULL|            NULL|   NULL|              NULL|              NULL|  NULL|                NULL|              NULL|           NULL|              NULL|            NULL|   NULL|              NULL|              NULL|  NULL|                NULL|              NULL|           NULL|              NULL|            NULL|   NULL|              NULL|              NULL|  NULL|                NULL|              NULL|           NULL|              NULL|            NULL|   NULL|              NULL|              NULL|  NULL|\n",
      "+----------------+-------------------+------------+--------------------+--------+-------+---------+-----------+-------------+--------+-------------------+------------------+------+-----------------+----------------+----+---------------+--------------+-------------------+-----------------+--------------+-----------------+---------------+------+-----------------+-----------------+-----+-------------------+-----------------+--------------+-----------------+---------------+------+-----------------+-----------------+-----+-------------------+-----------------+--------------+-----------------+---------------+------+-----------------+-----------------+-----+-------------------+-----------------+--------------+-----------------+---------------+------+-----------------+-----------------+-----+-------------------+-----------------+--------------+-----------------+---------------+------+-----------------+-----------------+-----+-------------------+-----------------+--------------+-----------------+---------------+------+-----------------+-----------------+-----+-------------------+-----------------+--------------+-----------------+---------------+------+-----------------+-----------------+-----+-------------------+-----------------+--------------+-----------------+---------------+------+-----------------+-----------------+-----+-------------------+-----------------+--------------+-----------------+---------------+------+-----------------+-----------------+-----+--------------------+------------------+---------------+------------------+----------------+-------+------------------+------------------+------+--------------------+------------------+---------------+------------------+----------------+-------+------------------+------------------+------+--------------------+------------------+---------------+------------------+----------------+-------+------------------+------------------+------+--------------------+------------------+---------------+------------------+----------------+-------+------------------+------------------+------+--------------------+------------------+---------------+------------------+----------------+-------+------------------+------------------+------+--------------------+------------------+---------------+------------------+----------------+-------+------------------+------------------+------+--------------------+------------------+---------------+------------------+----------------+-------+------------------+------------------+------+--------------------+------------------+---------------+------------------+----------------+-------+------------------+------------------+------+--------------------+------------------+---------------+------------------+----------------+-------+------------------+------------------+------+\n",
      "only showing top 10 rows\n",
      "\n"
     ]
    }
   ],
   "source": [
    "df_res_2024_communes.show(10)"
   ]
  },
  {
   "cell_type": "code",
   "execution_count": 5,
   "metadata": {},
   "outputs": [],
   "source": [
    "# Replace spaces with underscores in column names\n",
    "for name in df_res_2024_communes.columns:\n",
    "    df_res_2024_communes = df_res_2024_communes.withColumnRenamed(name, name.replace(\" \", \"_\"))\n"
   ]
  },
  {
   "cell_type": "code",
   "execution_count": 6,
   "metadata": {},
   "outputs": [],
   "source": [
    "# Replace spaces with underscores in column names\n",
    "for name in df_res_2024_communes.columns:\n",
    "    df_res_2024_communes = df_res_2024_communes.withColumnRenamed(name, name.replace(\"%\", \"Pourcentage\"))"
   ]
  },
  {
   "cell_type": "code",
   "execution_count": 7,
   "metadata": {},
   "outputs": [
    {
     "name": "stdout",
     "output_type": "stream",
     "text": [
      "+----------------+-------------------+------------+--------------------+--------+-------+-------------------+-----------+-----------------------+--------+-----------------------------+----------------------------+------+---------------------------+--------------------------+----+-------------------------+------------------------+-------------------+-----------------+--------------+-----------------+---------------+------+---------------------------+---------------------------+-----+-------------------+-----------------+--------------+-----------------+---------------+------+---------------------------+---------------------------+-----+-------------------+-----------------+--------------+-----------------+---------------+------+---------------------------+---------------------------+-----+-------------------+-----------------+--------------+-----------------+---------------+------+---------------------------+---------------------------+-----+-------------------+-----------------+--------------+-----------------+---------------+------+---------------------------+---------------------------+-----+-------------------+-----------------+--------------+-----------------+---------------+------+---------------------------+---------------------------+-----+-------------------+-----------------+--------------+-----------------+---------------+------+---------------------------+---------------------------+-----+-------------------+-----------------+--------------+-----------------+---------------+------+---------------------------+---------------------------+-----+-------------------+-----------------+--------------+-----------------+---------------+------+---------------------------+---------------------------+-----+--------------------+------------------+---------------+------------------+----------------+-------+----------------------------+----------------------------+------+--------------------+------------------+---------------+------------------+----------------+-------+----------------------------+----------------------------+------+--------------------+------------------+---------------+------------------+----------------+-------+----------------------------+----------------------------+------+--------------------+------------------+---------------+------------------+----------------+-------+----------------------------+----------------------------+------+--------------------+------------------+---------------+------------------+----------------+-------+----------------------------+----------------------------+------+--------------------+------------------+---------------+------------------+----------------+-------+----------------------------+----------------------------+------+--------------------+------------------+---------------+------------------+----------------+-------+----------------------------+----------------------------+------+--------------------+------------------+---------------+------------------+----------------+-------+----------------------------+----------------------------+------+--------------------+------------------+---------------+------------------+----------------+-------+----------------------------+----------------------------+------+\n",
      "|Code_département|Libellé_département|Code_commune|     Libellé_commune|Inscrits|Votants|Pourcentage_Votants|Abstentions|Pourcentage_Abstentions|Exprimés|Pourcentage_Exprimés/inscrits|Pourcentage_Exprimés/votants|Blancs|Pourcentage_Blancs/inscrits|Pourcentage_Blancs/votants|Nuls|Pourcentage_Nuls/inscrits|Pourcentage_Nuls/votants|Numéro_de_panneau_1|Nuance_candidat_1|Nom_candidat_1|Prénom_candidat_1|Sexe_candidat_1|Voix_1|Pourcentage_Voix/inscrits_1|Pourcentage_Voix/exprimés_1|Elu_1|Numéro_de_panneau_2|Nuance_candidat_2|Nom_candidat_2|Prénom_candidat_2|Sexe_candidat_2|Voix_2|Pourcentage_Voix/inscrits_2|Pourcentage_Voix/exprimés_2|Elu_2|Numéro_de_panneau_3|Nuance_candidat_3|Nom_candidat_3|Prénom_candidat_3|Sexe_candidat_3|Voix_3|Pourcentage_Voix/inscrits_3|Pourcentage_Voix/exprimés_3|Elu_3|Numéro_de_panneau_4|Nuance_candidat_4|Nom_candidat_4|Prénom_candidat_4|Sexe_candidat_4|Voix_4|Pourcentage_Voix/inscrits_4|Pourcentage_Voix/exprimés_4|Elu_4|Numéro_de_panneau_5|Nuance_candidat_5|Nom_candidat_5|Prénom_candidat_5|Sexe_candidat_5|Voix_5|Pourcentage_Voix/inscrits_5|Pourcentage_Voix/exprimés_5|Elu_5|Numéro_de_panneau_6|Nuance_candidat_6|Nom_candidat_6|Prénom_candidat_6|Sexe_candidat_6|Voix_6|Pourcentage_Voix/inscrits_6|Pourcentage_Voix/exprimés_6|Elu_6|Numéro_de_panneau_7|Nuance_candidat_7|Nom_candidat_7|Prénom_candidat_7|Sexe_candidat_7|Voix_7|Pourcentage_Voix/inscrits_7|Pourcentage_Voix/exprimés_7|Elu_7|Numéro_de_panneau_8|Nuance_candidat_8|Nom_candidat_8|Prénom_candidat_8|Sexe_candidat_8|Voix_8|Pourcentage_Voix/inscrits_8|Pourcentage_Voix/exprimés_8|Elu_8|Numéro_de_panneau_9|Nuance_candidat_9|Nom_candidat_9|Prénom_candidat_9|Sexe_candidat_9|Voix_9|Pourcentage_Voix/inscrits_9|Pourcentage_Voix/exprimés_9|Elu_9|Numéro_de_panneau_10|Nuance_candidat_10|Nom_candidat_10|Prénom_candidat_10|Sexe_candidat_10|Voix_10|Pourcentage_Voix/inscrits_10|Pourcentage_Voix/exprimés_10|Elu_10|Numéro_de_panneau_11|Nuance_candidat_11|Nom_candidat_11|Prénom_candidat_11|Sexe_candidat_11|Voix_11|Pourcentage_Voix/inscrits_11|Pourcentage_Voix/exprimés_11|Elu_11|Numéro_de_panneau_12|Nuance_candidat_12|Nom_candidat_12|Prénom_candidat_12|Sexe_candidat_12|Voix_12|Pourcentage_Voix/inscrits_12|Pourcentage_Voix/exprimés_12|Elu_12|Numéro_de_panneau_13|Nuance_candidat_13|Nom_candidat_13|Prénom_candidat_13|Sexe_candidat_13|Voix_13|Pourcentage_Voix/inscrits_13|Pourcentage_Voix/exprimés_13|Elu_13|Numéro_de_panneau_14|Nuance_candidat_14|Nom_candidat_14|Prénom_candidat_14|Sexe_candidat_14|Voix_14|Pourcentage_Voix/inscrits_14|Pourcentage_Voix/exprimés_14|Elu_14|Numéro_de_panneau_15|Nuance_candidat_15|Nom_candidat_15|Prénom_candidat_15|Sexe_candidat_15|Voix_15|Pourcentage_Voix/inscrits_15|Pourcentage_Voix/exprimés_15|Elu_15|Numéro_de_panneau_16|Nuance_candidat_16|Nom_candidat_16|Prénom_candidat_16|Sexe_candidat_16|Voix_16|Pourcentage_Voix/inscrits_16|Pourcentage_Voix/exprimés_16|Elu_16|Numéro_de_panneau_17|Nuance_candidat_17|Nom_candidat_17|Prénom_candidat_17|Sexe_candidat_17|Voix_17|Pourcentage_Voix/inscrits_17|Pourcentage_Voix/exprimés_17|Elu_17|Numéro_de_panneau_18|Nuance_candidat_18|Nom_candidat_18|Prénom_candidat_18|Sexe_candidat_18|Voix_18|Pourcentage_Voix/inscrits_18|Pourcentage_Voix/exprimés_18|Elu_18|\n",
      "+----------------+-------------------+------------+--------------------+--------+-------+-------------------+-----------+-----------------------+--------+-----------------------------+----------------------------+------+---------------------------+--------------------------+----+-------------------------+------------------------+-------------------+-----------------+--------------+-----------------+---------------+------+---------------------------+---------------------------+-----+-------------------+-----------------+--------------+-----------------+---------------+------+---------------------------+---------------------------+-----+-------------------+-----------------+--------------+-----------------+---------------+------+---------------------------+---------------------------+-----+-------------------+-----------------+--------------+-----------------+---------------+------+---------------------------+---------------------------+-----+-------------------+-----------------+--------------+-----------------+---------------+------+---------------------------+---------------------------+-----+-------------------+-----------------+--------------+-----------------+---------------+------+---------------------------+---------------------------+-----+-------------------+-----------------+--------------+-----------------+---------------+------+---------------------------+---------------------------+-----+-------------------+-----------------+--------------+-----------------+---------------+------+---------------------------+---------------------------+-----+-------------------+-----------------+--------------+-----------------+---------------+------+---------------------------+---------------------------+-----+--------------------+------------------+---------------+------------------+----------------+-------+----------------------------+----------------------------+------+--------------------+------------------+---------------+------------------+----------------+-------+----------------------------+----------------------------+------+--------------------+------------------+---------------+------------------+----------------+-------+----------------------------+----------------------------+------+--------------------+------------------+---------------+------------------+----------------+-------+----------------------------+----------------------------+------+--------------------+------------------+---------------+------------------+----------------+-------+----------------------------+----------------------------+------+--------------------+------------------+---------------+------------------+----------------+-------+----------------------------+----------------------------+------+--------------------+------------------+---------------+------------------+----------------+-------+----------------------------+----------------------------+------+--------------------+------------------+---------------+------------------+----------------+-------+----------------------------+----------------------------+------+--------------------+------------------+---------------+------------------+----------------+-------+----------------------------+----------------------------+------+\n",
      "|              01|                Ain|       01001|L'Abergement-Clém...|     662|    494|             74,62%|        168|                 25,38%|     476|                       71,90%|                      96,36%|    14|                      2,11%|                     2,83%|   4|                    0,60%|                   0,81%|                  5|              ENS|      COQUELET|       Christophe|       MASCULIN|   203|                     30,66%|                     42,65%| NULL|                  6|               RN|       BUISSON|           Jérôme|       MASCULIN|   273|                     41,24%|                     57,35%|  élu|               NULL|             NULL|          NULL|             NULL|           NULL|  NULL|                       NULL|                       NULL| NULL|               NULL|             NULL|          NULL|             NULL|           NULL|  NULL|                       NULL|                       NULL| NULL|               NULL|             NULL|          NULL|             NULL|           NULL|  NULL|                       NULL|                       NULL| NULL|               NULL|             NULL|          NULL|             NULL|           NULL|  NULL|                       NULL|                       NULL| NULL|               NULL|             NULL|          NULL|             NULL|           NULL|  NULL|                       NULL|                       NULL| NULL|               NULL|             NULL|          NULL|             NULL|           NULL|  NULL|                       NULL|                       NULL| NULL|               NULL|             NULL|          NULL|             NULL|           NULL|  NULL|                       NULL|                       NULL| NULL|                NULL|              NULL|           NULL|              NULL|            NULL|   NULL|                        NULL|                        NULL|  NULL|                NULL|              NULL|           NULL|              NULL|            NULL|   NULL|                        NULL|                        NULL|  NULL|                NULL|              NULL|           NULL|              NULL|            NULL|   NULL|                        NULL|                        NULL|  NULL|                NULL|              NULL|           NULL|              NULL|            NULL|   NULL|                        NULL|                        NULL|  NULL|                NULL|              NULL|           NULL|              NULL|            NULL|   NULL|                        NULL|                        NULL|  NULL|                NULL|              NULL|           NULL|              NULL|            NULL|   NULL|                        NULL|                        NULL|  NULL|                NULL|              NULL|           NULL|              NULL|            NULL|   NULL|                        NULL|                        NULL|  NULL|                NULL|              NULL|           NULL|              NULL|            NULL|   NULL|                        NULL|                        NULL|  NULL|                NULL|              NULL|           NULL|              NULL|            NULL|   NULL|                        NULL|                        NULL|  NULL|\n",
      "|              01|                Ain|       01002|L'Abergement-de-V...|     228|    187|             82,02%|         41|                 17,98%|     166|                       72,81%|                      88,77%|    17|                      7,46%|                     9,09%|   4|                    1,75%|                   2,14%|                  4|               UG|        PISANI|         Florence|        FEMININ|    93|                     40,79%|                     56,02%| NULL|                  8|              UXD|       CHAVENT|             Marc|       MASCULIN|    73|                     32,02%|                     43,98%|  élu|               NULL|             NULL|          NULL|             NULL|           NULL|  NULL|                       NULL|                       NULL| NULL|               NULL|             NULL|          NULL|             NULL|           NULL|  NULL|                       NULL|                       NULL| NULL|               NULL|             NULL|          NULL|             NULL|           NULL|  NULL|                       NULL|                       NULL| NULL|               NULL|             NULL|          NULL|             NULL|           NULL|  NULL|                       NULL|                       NULL| NULL|               NULL|             NULL|          NULL|             NULL|           NULL|  NULL|                       NULL|                       NULL| NULL|               NULL|             NULL|          NULL|             NULL|           NULL|  NULL|                       NULL|                       NULL| NULL|               NULL|             NULL|          NULL|             NULL|           NULL|  NULL|                       NULL|                       NULL| NULL|                NULL|              NULL|           NULL|              NULL|            NULL|   NULL|                        NULL|                        NULL|  NULL|                NULL|              NULL|           NULL|              NULL|            NULL|   NULL|                        NULL|                        NULL|  NULL|                NULL|              NULL|           NULL|              NULL|            NULL|   NULL|                        NULL|                        NULL|  NULL|                NULL|              NULL|           NULL|              NULL|            NULL|   NULL|                        NULL|                        NULL|  NULL|                NULL|              NULL|           NULL|              NULL|            NULL|   NULL|                        NULL|                        NULL|  NULL|                NULL|              NULL|           NULL|              NULL|            NULL|   NULL|                        NULL|                        NULL|  NULL|                NULL|              NULL|           NULL|              NULL|            NULL|   NULL|                        NULL|                        NULL|  NULL|                NULL|              NULL|           NULL|              NULL|            NULL|   NULL|                        NULL|                        NULL|  NULL|                NULL|              NULL|           NULL|              NULL|            NULL|   NULL|                        NULL|                        NULL|  NULL|\n",
      "|              01|                Ain|       01004|   Ambérieu-en-Bugey|    8745|   5887|             67,32%|       2858|                 32,68%|    5348|                       61,15%|                      90,84%|   403|                      4,61%|                     6,85%| 136|                    1,56%|                   2,31%|                  4|               UG|        PISANI|         Florence|        FEMININ|  2606|                     29,80%|                     48,73%| NULL|                  8|              UXD|       CHAVENT|             Marc|       MASCULIN|  2742|                     31,36%|                     51,27%|  élu|               NULL|             NULL|          NULL|             NULL|           NULL|  NULL|                       NULL|                       NULL| NULL|               NULL|             NULL|          NULL|             NULL|           NULL|  NULL|                       NULL|                       NULL| NULL|               NULL|             NULL|          NULL|             NULL|           NULL|  NULL|                       NULL|                       NULL| NULL|               NULL|             NULL|          NULL|             NULL|           NULL|  NULL|                       NULL|                       NULL| NULL|               NULL|             NULL|          NULL|             NULL|           NULL|  NULL|                       NULL|                       NULL| NULL|               NULL|             NULL|          NULL|             NULL|           NULL|  NULL|                       NULL|                       NULL| NULL|               NULL|             NULL|          NULL|             NULL|           NULL|  NULL|                       NULL|                       NULL| NULL|                NULL|              NULL|           NULL|              NULL|            NULL|   NULL|                        NULL|                        NULL|  NULL|                NULL|              NULL|           NULL|              NULL|            NULL|   NULL|                        NULL|                        NULL|  NULL|                NULL|              NULL|           NULL|              NULL|            NULL|   NULL|                        NULL|                        NULL|  NULL|                NULL|              NULL|           NULL|              NULL|            NULL|   NULL|                        NULL|                        NULL|  NULL|                NULL|              NULL|           NULL|              NULL|            NULL|   NULL|                        NULL|                        NULL|  NULL|                NULL|              NULL|           NULL|              NULL|            NULL|   NULL|                        NULL|                        NULL|  NULL|                NULL|              NULL|           NULL|              NULL|            NULL|   NULL|                        NULL|                        NULL|  NULL|                NULL|              NULL|           NULL|              NULL|            NULL|   NULL|                        NULL|                        NULL|  NULL|                NULL|              NULL|           NULL|              NULL|            NULL|   NULL|                        NULL|                        NULL|  NULL|\n",
      "|              01|                Ain|       01005| Ambérieux-en-Dombes|    1337|    979|             73,22%|        358|                 26,78%|     926|                       69,26%|                      94,59%|    46|                      3,44%|                     4,70%|   7|                    0,52%|                   0,72%|                  5|              ENS|      COQUELET|       Christophe|       MASCULIN|   388|                     29,02%|                     41,90%| NULL|                  6|               RN|       BUISSON|           Jérôme|       MASCULIN|   538|                     40,24%|                     58,10%|  élu|               NULL|             NULL|          NULL|             NULL|           NULL|  NULL|                       NULL|                       NULL| NULL|               NULL|             NULL|          NULL|             NULL|           NULL|  NULL|                       NULL|                       NULL| NULL|               NULL|             NULL|          NULL|             NULL|           NULL|  NULL|                       NULL|                       NULL| NULL|               NULL|             NULL|          NULL|             NULL|           NULL|  NULL|                       NULL|                       NULL| NULL|               NULL|             NULL|          NULL|             NULL|           NULL|  NULL|                       NULL|                       NULL| NULL|               NULL|             NULL|          NULL|             NULL|           NULL|  NULL|                       NULL|                       NULL| NULL|               NULL|             NULL|          NULL|             NULL|           NULL|  NULL|                       NULL|                       NULL| NULL|                NULL|              NULL|           NULL|              NULL|            NULL|   NULL|                        NULL|                        NULL|  NULL|                NULL|              NULL|           NULL|              NULL|            NULL|   NULL|                        NULL|                        NULL|  NULL|                NULL|              NULL|           NULL|              NULL|            NULL|   NULL|                        NULL|                        NULL|  NULL|                NULL|              NULL|           NULL|              NULL|            NULL|   NULL|                        NULL|                        NULL|  NULL|                NULL|              NULL|           NULL|              NULL|            NULL|   NULL|                        NULL|                        NULL|  NULL|                NULL|              NULL|           NULL|              NULL|            NULL|   NULL|                        NULL|                        NULL|  NULL|                NULL|              NULL|           NULL|              NULL|            NULL|   NULL|                        NULL|                        NULL|  NULL|                NULL|              NULL|           NULL|              NULL|            NULL|   NULL|                        NULL|                        NULL|  NULL|                NULL|              NULL|           NULL|              NULL|            NULL|   NULL|                        NULL|                        NULL|  NULL|\n",
      "|              01|                Ain|       01006|             Ambléon|      98|     65|             66,33%|         33|                 33,67%|      59|                       60,20%|                      90,77%|     6|                      6,12%|                     9,23%|   0|                    0,00%|                   0,00%|                  1|              ENS|      GIVERNET|             Olga|        FEMININ|    32|                     32,65%|                     54,24%|  élu|                  6|               RN|       DUBARRY|           Karine|        FEMININ|    27|                     27,55%|                     45,76%| NULL|               NULL|             NULL|          NULL|             NULL|           NULL|  NULL|                       NULL|                       NULL| NULL|               NULL|             NULL|          NULL|             NULL|           NULL|  NULL|                       NULL|                       NULL| NULL|               NULL|             NULL|          NULL|             NULL|           NULL|  NULL|                       NULL|                       NULL| NULL|               NULL|             NULL|          NULL|             NULL|           NULL|  NULL|                       NULL|                       NULL| NULL|               NULL|             NULL|          NULL|             NULL|           NULL|  NULL|                       NULL|                       NULL| NULL|               NULL|             NULL|          NULL|             NULL|           NULL|  NULL|                       NULL|                       NULL| NULL|               NULL|             NULL|          NULL|             NULL|           NULL|  NULL|                       NULL|                       NULL| NULL|                NULL|              NULL|           NULL|              NULL|            NULL|   NULL|                        NULL|                        NULL|  NULL|                NULL|              NULL|           NULL|              NULL|            NULL|   NULL|                        NULL|                        NULL|  NULL|                NULL|              NULL|           NULL|              NULL|            NULL|   NULL|                        NULL|                        NULL|  NULL|                NULL|              NULL|           NULL|              NULL|            NULL|   NULL|                        NULL|                        NULL|  NULL|                NULL|              NULL|           NULL|              NULL|            NULL|   NULL|                        NULL|                        NULL|  NULL|                NULL|              NULL|           NULL|              NULL|            NULL|   NULL|                        NULL|                        NULL|  NULL|                NULL|              NULL|           NULL|              NULL|            NULL|   NULL|                        NULL|                        NULL|  NULL|                NULL|              NULL|           NULL|              NULL|            NULL|   NULL|                        NULL|                        NULL|  NULL|                NULL|              NULL|           NULL|              NULL|            NULL|   NULL|                        NULL|                        NULL|  NULL|\n",
      "|              01|                Ain|       01007|            Ambronay|    2076|   1518|             73,12%|        558|                 26,88%|    1338|                       64,45%|                      88,14%|   137|                      6,60%|                     9,03%|  43|                    2,07%|                   2,83%|                  4|               UG|        PISANI|         Florence|        FEMININ|   534|                     25,72%|                     39,91%| NULL|                  8|              UXD|       CHAVENT|             Marc|       MASCULIN|   804|                     38,73%|                     60,09%|  élu|               NULL|             NULL|          NULL|             NULL|           NULL|  NULL|                       NULL|                       NULL| NULL|               NULL|             NULL|          NULL|             NULL|           NULL|  NULL|                       NULL|                       NULL| NULL|               NULL|             NULL|          NULL|             NULL|           NULL|  NULL|                       NULL|                       NULL| NULL|               NULL|             NULL|          NULL|             NULL|           NULL|  NULL|                       NULL|                       NULL| NULL|               NULL|             NULL|          NULL|             NULL|           NULL|  NULL|                       NULL|                       NULL| NULL|               NULL|             NULL|          NULL|             NULL|           NULL|  NULL|                       NULL|                       NULL| NULL|               NULL|             NULL|          NULL|             NULL|           NULL|  NULL|                       NULL|                       NULL| NULL|                NULL|              NULL|           NULL|              NULL|            NULL|   NULL|                        NULL|                        NULL|  NULL|                NULL|              NULL|           NULL|              NULL|            NULL|   NULL|                        NULL|                        NULL|  NULL|                NULL|              NULL|           NULL|              NULL|            NULL|   NULL|                        NULL|                        NULL|  NULL|                NULL|              NULL|           NULL|              NULL|            NULL|   NULL|                        NULL|                        NULL|  NULL|                NULL|              NULL|           NULL|              NULL|            NULL|   NULL|                        NULL|                        NULL|  NULL|                NULL|              NULL|           NULL|              NULL|            NULL|   NULL|                        NULL|                        NULL|  NULL|                NULL|              NULL|           NULL|              NULL|            NULL|   NULL|                        NULL|                        NULL|  NULL|                NULL|              NULL|           NULL|              NULL|            NULL|   NULL|                        NULL|                        NULL|  NULL|                NULL|              NULL|           NULL|              NULL|            NULL|   NULL|                        NULL|                        NULL|  NULL|\n",
      "|              01|                Ain|       01008|            Ambutrix|     568|    413|             72,71%|        155|                 27,29%|     402|                       70,77%|                      97,34%|     8|                      1,41%|                     1,94%|   3|                    0,53%|                   0,73%|                  1|               RN|       KOTARAC|           Andréa|       MASCULIN|   198|                     34,86%|                     49,25%| NULL|                  2|              ENS|        DAUBIÉ|           Romain|       MASCULIN|   204|                     35,92%|                     50,75%|  élu|               NULL|             NULL|          NULL|             NULL|           NULL|  NULL|                       NULL|                       NULL| NULL|               NULL|             NULL|          NULL|             NULL|           NULL|  NULL|                       NULL|                       NULL| NULL|               NULL|             NULL|          NULL|             NULL|           NULL|  NULL|                       NULL|                       NULL| NULL|               NULL|             NULL|          NULL|             NULL|           NULL|  NULL|                       NULL|                       NULL| NULL|               NULL|             NULL|          NULL|             NULL|           NULL|  NULL|                       NULL|                       NULL| NULL|               NULL|             NULL|          NULL|             NULL|           NULL|  NULL|                       NULL|                       NULL| NULL|               NULL|             NULL|          NULL|             NULL|           NULL|  NULL|                       NULL|                       NULL| NULL|                NULL|              NULL|           NULL|              NULL|            NULL|   NULL|                        NULL|                        NULL|  NULL|                NULL|              NULL|           NULL|              NULL|            NULL|   NULL|                        NULL|                        NULL|  NULL|                NULL|              NULL|           NULL|              NULL|            NULL|   NULL|                        NULL|                        NULL|  NULL|                NULL|              NULL|           NULL|              NULL|            NULL|   NULL|                        NULL|                        NULL|  NULL|                NULL|              NULL|           NULL|              NULL|            NULL|   NULL|                        NULL|                        NULL|  NULL|                NULL|              NULL|           NULL|              NULL|            NULL|   NULL|                        NULL|                        NULL|  NULL|                NULL|              NULL|           NULL|              NULL|            NULL|   NULL|                        NULL|                        NULL|  NULL|                NULL|              NULL|           NULL|              NULL|            NULL|   NULL|                        NULL|                        NULL|  NULL|                NULL|              NULL|           NULL|              NULL|            NULL|   NULL|                        NULL|                        NULL|  NULL|\n",
      "|              01|                Ain|       01009|    Andert-et-Condon|     287|    209|             72,82%|         78|                 27,18%|     196|                       68,29%|                      93,78%|    12|                      4,18%|                     5,74%|   1|                    0,35%|                   0,48%|                  1|              ENS|      GIVERNET|             Olga|        FEMININ|   110|                     38,33%|                     56,12%|  élu|                  6|               RN|       DUBARRY|           Karine|        FEMININ|    86|                     29,97%|                     43,88%| NULL|               NULL|             NULL|          NULL|             NULL|           NULL|  NULL|                       NULL|                       NULL| NULL|               NULL|             NULL|          NULL|             NULL|           NULL|  NULL|                       NULL|                       NULL| NULL|               NULL|             NULL|          NULL|             NULL|           NULL|  NULL|                       NULL|                       NULL| NULL|               NULL|             NULL|          NULL|             NULL|           NULL|  NULL|                       NULL|                       NULL| NULL|               NULL|             NULL|          NULL|             NULL|           NULL|  NULL|                       NULL|                       NULL| NULL|               NULL|             NULL|          NULL|             NULL|           NULL|  NULL|                       NULL|                       NULL| NULL|               NULL|             NULL|          NULL|             NULL|           NULL|  NULL|                       NULL|                       NULL| NULL|                NULL|              NULL|           NULL|              NULL|            NULL|   NULL|                        NULL|                        NULL|  NULL|                NULL|              NULL|           NULL|              NULL|            NULL|   NULL|                        NULL|                        NULL|  NULL|                NULL|              NULL|           NULL|              NULL|            NULL|   NULL|                        NULL|                        NULL|  NULL|                NULL|              NULL|           NULL|              NULL|            NULL|   NULL|                        NULL|                        NULL|  NULL|                NULL|              NULL|           NULL|              NULL|            NULL|   NULL|                        NULL|                        NULL|  NULL|                NULL|              NULL|           NULL|              NULL|            NULL|   NULL|                        NULL|                        NULL|  NULL|                NULL|              NULL|           NULL|              NULL|            NULL|   NULL|                        NULL|                        NULL|  NULL|                NULL|              NULL|           NULL|              NULL|            NULL|   NULL|                        NULL|                        NULL|  NULL|                NULL|              NULL|           NULL|              NULL|            NULL|   NULL|                        NULL|                        NULL|  NULL|\n",
      "|              01|                Ain|       01010|           Anglefort|     827|    558|             67,47%|        269|                 32,53%|     533|                       64,45%|                      95,52%|    18|                      2,18%|                     3,23%|   7|                    0,85%|                   1,25%|                  1|              ENS|      GIVERNET|             Olga|        FEMININ|   238|                     28,78%|                     44,65%|  élu|                  6|               RN|       DUBARRY|           Karine|        FEMININ|   295|                     35,67%|                     55,35%| NULL|               NULL|             NULL|          NULL|             NULL|           NULL|  NULL|                       NULL|                       NULL| NULL|               NULL|             NULL|          NULL|             NULL|           NULL|  NULL|                       NULL|                       NULL| NULL|               NULL|             NULL|          NULL|             NULL|           NULL|  NULL|                       NULL|                       NULL| NULL|               NULL|             NULL|          NULL|             NULL|           NULL|  NULL|                       NULL|                       NULL| NULL|               NULL|             NULL|          NULL|             NULL|           NULL|  NULL|                       NULL|                       NULL| NULL|               NULL|             NULL|          NULL|             NULL|           NULL|  NULL|                       NULL|                       NULL| NULL|               NULL|             NULL|          NULL|             NULL|           NULL|  NULL|                       NULL|                       NULL| NULL|                NULL|              NULL|           NULL|              NULL|            NULL|   NULL|                        NULL|                        NULL|  NULL|                NULL|              NULL|           NULL|              NULL|            NULL|   NULL|                        NULL|                        NULL|  NULL|                NULL|              NULL|           NULL|              NULL|            NULL|   NULL|                        NULL|                        NULL|  NULL|                NULL|              NULL|           NULL|              NULL|            NULL|   NULL|                        NULL|                        NULL|  NULL|                NULL|              NULL|           NULL|              NULL|            NULL|   NULL|                        NULL|                        NULL|  NULL|                NULL|              NULL|           NULL|              NULL|            NULL|   NULL|                        NULL|                        NULL|  NULL|                NULL|              NULL|           NULL|              NULL|            NULL|   NULL|                        NULL|                        NULL|  NULL|                NULL|              NULL|           NULL|              NULL|            NULL|   NULL|                        NULL|                        NULL|  NULL|                NULL|              NULL|           NULL|              NULL|            NULL|   NULL|                        NULL|                        NULL|  NULL|\n",
      "|              01|                Ain|       01011|            Apremont|     296|    229|             77,36%|         67|                 22,64%|     206|                       69,59%|                      89,96%|    20|                      6,76%|                     8,73%|   3|                    1,01%|                   1,31%|                  4|               UG|        PISANI|         Florence|        FEMININ|    70|                     23,65%|                     33,98%| NULL|                  8|              UXD|       CHAVENT|             Marc|       MASCULIN|   136|                     45,95%|                     66,02%|  élu|               NULL|             NULL|          NULL|             NULL|           NULL|  NULL|                       NULL|                       NULL| NULL|               NULL|             NULL|          NULL|             NULL|           NULL|  NULL|                       NULL|                       NULL| NULL|               NULL|             NULL|          NULL|             NULL|           NULL|  NULL|                       NULL|                       NULL| NULL|               NULL|             NULL|          NULL|             NULL|           NULL|  NULL|                       NULL|                       NULL| NULL|               NULL|             NULL|          NULL|             NULL|           NULL|  NULL|                       NULL|                       NULL| NULL|               NULL|             NULL|          NULL|             NULL|           NULL|  NULL|                       NULL|                       NULL| NULL|               NULL|             NULL|          NULL|             NULL|           NULL|  NULL|                       NULL|                       NULL| NULL|                NULL|              NULL|           NULL|              NULL|            NULL|   NULL|                        NULL|                        NULL|  NULL|                NULL|              NULL|           NULL|              NULL|            NULL|   NULL|                        NULL|                        NULL|  NULL|                NULL|              NULL|           NULL|              NULL|            NULL|   NULL|                        NULL|                        NULL|  NULL|                NULL|              NULL|           NULL|              NULL|            NULL|   NULL|                        NULL|                        NULL|  NULL|                NULL|              NULL|           NULL|              NULL|            NULL|   NULL|                        NULL|                        NULL|  NULL|                NULL|              NULL|           NULL|              NULL|            NULL|   NULL|                        NULL|                        NULL|  NULL|                NULL|              NULL|           NULL|              NULL|            NULL|   NULL|                        NULL|                        NULL|  NULL|                NULL|              NULL|           NULL|              NULL|            NULL|   NULL|                        NULL|                        NULL|  NULL|                NULL|              NULL|           NULL|              NULL|            NULL|   NULL|                        NULL|                        NULL|  NULL|\n",
      "+----------------+-------------------+------------+--------------------+--------+-------+-------------------+-----------+-----------------------+--------+-----------------------------+----------------------------+------+---------------------------+--------------------------+----+-------------------------+------------------------+-------------------+-----------------+--------------+-----------------+---------------+------+---------------------------+---------------------------+-----+-------------------+-----------------+--------------+-----------------+---------------+------+---------------------------+---------------------------+-----+-------------------+-----------------+--------------+-----------------+---------------+------+---------------------------+---------------------------+-----+-------------------+-----------------+--------------+-----------------+---------------+------+---------------------------+---------------------------+-----+-------------------+-----------------+--------------+-----------------+---------------+------+---------------------------+---------------------------+-----+-------------------+-----------------+--------------+-----------------+---------------+------+---------------------------+---------------------------+-----+-------------------+-----------------+--------------+-----------------+---------------+------+---------------------------+---------------------------+-----+-------------------+-----------------+--------------+-----------------+---------------+------+---------------------------+---------------------------+-----+-------------------+-----------------+--------------+-----------------+---------------+------+---------------------------+---------------------------+-----+--------------------+------------------+---------------+------------------+----------------+-------+----------------------------+----------------------------+------+--------------------+------------------+---------------+------------------+----------------+-------+----------------------------+----------------------------+------+--------------------+------------------+---------------+------------------+----------------+-------+----------------------------+----------------------------+------+--------------------+------------------+---------------+------------------+----------------+-------+----------------------------+----------------------------+------+--------------------+------------------+---------------+------------------+----------------+-------+----------------------------+----------------------------+------+--------------------+------------------+---------------+------------------+----------------+-------+----------------------------+----------------------------+------+--------------------+------------------+---------------+------------------+----------------+-------+----------------------------+----------------------------+------+--------------------+------------------+---------------+------------------+----------------+-------+----------------------------+----------------------------+------+--------------------+------------------+---------------+------------------+----------------+-------+----------------------------+----------------------------+------+\n",
      "only showing top 10 rows\n",
      "\n"
     ]
    }
   ],
   "source": [
    "df_res_2024_communes.show(10)"
   ]
  },
  {
   "cell_type": "code",
   "execution_count": 8,
   "metadata": {},
   "outputs": [
    {
     "name": "stdout",
     "output_type": "stream",
     "text": [
      "DataFrame Columns count : 180\n"
     ]
    }
   ],
   "source": [
    "cols = len(df_res_2024_communes.columns)\n",
    "print(f\"DataFrame Columns count : {cols}\")"
   ]
  },
  {
   "cell_type": "markdown",
   "metadata": {},
   "source": [
    "The dataset has 180 different columns with unique and repeated informations for different candidates:\n",
    "Unique columns:\n",
    "- Code_département\n",
    "- Libellé_département\n",
    "- Code_commune\n",
    "- Libellé_commune\n",
    "- Inscrits\n",
    "- Votants\n",
    "- Pourcentage_Votants\n",
    "- Abstentions\n",
    "- Pourcentage_Abstentions\n",
    "- Exprimés\n",
    "- Pourcentage_Exprimés/inscrits\n",
    "- Pourcentage_Exprimés/votants\n",
    "- Blancs\n",
    "- Pourcentage_Blancs/inscrits\n",
    "- Pourcentage_Blancs/votants\n",
    "- Nuls\n",
    "- Pourcentage_Nuls/inscrits\n",
    "- Pourcentage_Nuls/votants\n",
    "\n",
    "Repeated columns (X being a value between 1 and 18):\n",
    "\n",
    "- Numéro_de_panneau X\n",
    "- Nuance_candidat X\n",
    "- Nom_candidat X\n",
    "- Prénom_candidat X\n",
    "- Sexe_candidat X\n",
    "- Voix_X\n",
    "- Pourcentage_Voix/inscrits X\n",
    "- Pourcentage_Voix/exprimés X\n",
    "- Elu_X"
   ]
  },
  {
   "cell_type": "markdown",
   "metadata": {},
   "source": [
    "If you count the number of unique values and you add the repetition of the repeated columns you get:\\\n",
    "18 + (9*18) = 180 columns like expected "
   ]
  },
  {
   "cell_type": "markdown",
   "metadata": {},
   "source": [
    "Display the schema of the DataFrame\n",
    "\n",
    "Remarks:\n",
    "- All the fields of the schema are of the type string\n",
    "- All the fields of the schema are nullable\n",
    "\n",
    "We will have to transform some types of the values in the schema"
   ]
  },
  {
   "cell_type": "code",
   "execution_count": 9,
   "metadata": {},
   "outputs": [
    {
     "name": "stdout",
     "output_type": "stream",
     "text": [
      "root\n",
      " |-- Code_département: string (nullable = true)\n",
      " |-- Libellé_département: string (nullable = true)\n",
      " |-- Code_commune: string (nullable = true)\n",
      " |-- Libellé_commune: string (nullable = true)\n",
      " |-- Inscrits: string (nullable = true)\n",
      " |-- Votants: string (nullable = true)\n",
      " |-- Pourcentage_Votants: string (nullable = true)\n",
      " |-- Abstentions: string (nullable = true)\n",
      " |-- Pourcentage_Abstentions: string (nullable = true)\n",
      " |-- Exprimés: string (nullable = true)\n",
      " |-- Pourcentage_Exprimés/inscrits: string (nullable = true)\n",
      " |-- Pourcentage_Exprimés/votants: string (nullable = true)\n",
      " |-- Blancs: string (nullable = true)\n",
      " |-- Pourcentage_Blancs/inscrits: string (nullable = true)\n",
      " |-- Pourcentage_Blancs/votants: string (nullable = true)\n",
      " |-- Nuls: string (nullable = true)\n",
      " |-- Pourcentage_Nuls/inscrits: string (nullable = true)\n",
      " |-- Pourcentage_Nuls/votants: string (nullable = true)\n",
      " |-- Numéro_de_panneau_1: string (nullable = true)\n",
      " |-- Nuance_candidat_1: string (nullable = true)\n",
      " |-- Nom_candidat_1: string (nullable = true)\n",
      " |-- Prénom_candidat_1: string (nullable = true)\n",
      " |-- Sexe_candidat_1: string (nullable = true)\n",
      " |-- Voix_1: string (nullable = true)\n",
      " |-- Pourcentage_Voix/inscrits_1: string (nullable = true)\n",
      " |-- Pourcentage_Voix/exprimés_1: string (nullable = true)\n",
      " |-- Elu_1: string (nullable = true)\n",
      " |-- Numéro_de_panneau_2: string (nullable = true)\n",
      " |-- Nuance_candidat_2: string (nullable = true)\n",
      " |-- Nom_candidat_2: string (nullable = true)\n",
      " |-- Prénom_candidat_2: string (nullable = true)\n",
      " |-- Sexe_candidat_2: string (nullable = true)\n",
      " |-- Voix_2: string (nullable = true)\n",
      " |-- Pourcentage_Voix/inscrits_2: string (nullable = true)\n",
      " |-- Pourcentage_Voix/exprimés_2: string (nullable = true)\n",
      " |-- Elu_2: string (nullable = true)\n",
      " |-- Numéro_de_panneau_3: string (nullable = true)\n",
      " |-- Nuance_candidat_3: string (nullable = true)\n",
      " |-- Nom_candidat_3: string (nullable = true)\n",
      " |-- Prénom_candidat_3: string (nullable = true)\n",
      " |-- Sexe_candidat_3: string (nullable = true)\n",
      " |-- Voix_3: string (nullable = true)\n",
      " |-- Pourcentage_Voix/inscrits_3: string (nullable = true)\n",
      " |-- Pourcentage_Voix/exprimés_3: string (nullable = true)\n",
      " |-- Elu_3: string (nullable = true)\n",
      " |-- Numéro_de_panneau_4: string (nullable = true)\n",
      " |-- Nuance_candidat_4: string (nullable = true)\n",
      " |-- Nom_candidat_4: string (nullable = true)\n",
      " |-- Prénom_candidat_4: string (nullable = true)\n",
      " |-- Sexe_candidat_4: string (nullable = true)\n",
      " |-- Voix_4: string (nullable = true)\n",
      " |-- Pourcentage_Voix/inscrits_4: string (nullable = true)\n",
      " |-- Pourcentage_Voix/exprimés_4: string (nullable = true)\n",
      " |-- Elu_4: string (nullable = true)\n",
      " |-- Numéro_de_panneau_5: string (nullable = true)\n",
      " |-- Nuance_candidat_5: string (nullable = true)\n",
      " |-- Nom_candidat_5: string (nullable = true)\n",
      " |-- Prénom_candidat_5: string (nullable = true)\n",
      " |-- Sexe_candidat_5: string (nullable = true)\n",
      " |-- Voix_5: string (nullable = true)\n",
      " |-- Pourcentage_Voix/inscrits_5: string (nullable = true)\n",
      " |-- Pourcentage_Voix/exprimés_5: string (nullable = true)\n",
      " |-- Elu_5: string (nullable = true)\n",
      " |-- Numéro_de_panneau_6: string (nullable = true)\n",
      " |-- Nuance_candidat_6: string (nullable = true)\n",
      " |-- Nom_candidat_6: string (nullable = true)\n",
      " |-- Prénom_candidat_6: string (nullable = true)\n",
      " |-- Sexe_candidat_6: string (nullable = true)\n",
      " |-- Voix_6: string (nullable = true)\n",
      " |-- Pourcentage_Voix/inscrits_6: string (nullable = true)\n",
      " |-- Pourcentage_Voix/exprimés_6: string (nullable = true)\n",
      " |-- Elu_6: string (nullable = true)\n",
      " |-- Numéro_de_panneau_7: string (nullable = true)\n",
      " |-- Nuance_candidat_7: string (nullable = true)\n",
      " |-- Nom_candidat_7: string (nullable = true)\n",
      " |-- Prénom_candidat_7: string (nullable = true)\n",
      " |-- Sexe_candidat_7: string (nullable = true)\n",
      " |-- Voix_7: string (nullable = true)\n",
      " |-- Pourcentage_Voix/inscrits_7: string (nullable = true)\n",
      " |-- Pourcentage_Voix/exprimés_7: string (nullable = true)\n",
      " |-- Elu_7: string (nullable = true)\n",
      " |-- Numéro_de_panneau_8: string (nullable = true)\n",
      " |-- Nuance_candidat_8: string (nullable = true)\n",
      " |-- Nom_candidat_8: string (nullable = true)\n",
      " |-- Prénom_candidat_8: string (nullable = true)\n",
      " |-- Sexe_candidat_8: string (nullable = true)\n",
      " |-- Voix_8: string (nullable = true)\n",
      " |-- Pourcentage_Voix/inscrits_8: string (nullable = true)\n",
      " |-- Pourcentage_Voix/exprimés_8: string (nullable = true)\n",
      " |-- Elu_8: string (nullable = true)\n",
      " |-- Numéro_de_panneau_9: string (nullable = true)\n",
      " |-- Nuance_candidat_9: string (nullable = true)\n",
      " |-- Nom_candidat_9: string (nullable = true)\n",
      " |-- Prénom_candidat_9: string (nullable = true)\n",
      " |-- Sexe_candidat_9: string (nullable = true)\n",
      " |-- Voix_9: string (nullable = true)\n",
      " |-- Pourcentage_Voix/inscrits_9: string (nullable = true)\n",
      " |-- Pourcentage_Voix/exprimés_9: string (nullable = true)\n",
      " |-- Elu_9: string (nullable = true)\n",
      " |-- Numéro_de_panneau_10: string (nullable = true)\n",
      " |-- Nuance_candidat_10: string (nullable = true)\n",
      " |-- Nom_candidat_10: string (nullable = true)\n",
      " |-- Prénom_candidat_10: string (nullable = true)\n",
      " |-- Sexe_candidat_10: string (nullable = true)\n",
      " |-- Voix_10: string (nullable = true)\n",
      " |-- Pourcentage_Voix/inscrits_10: string (nullable = true)\n",
      " |-- Pourcentage_Voix/exprimés_10: string (nullable = true)\n",
      " |-- Elu_10: string (nullable = true)\n",
      " |-- Numéro_de_panneau_11: string (nullable = true)\n",
      " |-- Nuance_candidat_11: string (nullable = true)\n",
      " |-- Nom_candidat_11: string (nullable = true)\n",
      " |-- Prénom_candidat_11: string (nullable = true)\n",
      " |-- Sexe_candidat_11: string (nullable = true)\n",
      " |-- Voix_11: string (nullable = true)\n",
      " |-- Pourcentage_Voix/inscrits_11: string (nullable = true)\n",
      " |-- Pourcentage_Voix/exprimés_11: string (nullable = true)\n",
      " |-- Elu_11: string (nullable = true)\n",
      " |-- Numéro_de_panneau_12: string (nullable = true)\n",
      " |-- Nuance_candidat_12: string (nullable = true)\n",
      " |-- Nom_candidat_12: string (nullable = true)\n",
      " |-- Prénom_candidat_12: string (nullable = true)\n",
      " |-- Sexe_candidat_12: string (nullable = true)\n",
      " |-- Voix_12: string (nullable = true)\n",
      " |-- Pourcentage_Voix/inscrits_12: string (nullable = true)\n",
      " |-- Pourcentage_Voix/exprimés_12: string (nullable = true)\n",
      " |-- Elu_12: string (nullable = true)\n",
      " |-- Numéro_de_panneau_13: string (nullable = true)\n",
      " |-- Nuance_candidat_13: string (nullable = true)\n",
      " |-- Nom_candidat_13: string (nullable = true)\n",
      " |-- Prénom_candidat_13: string (nullable = true)\n",
      " |-- Sexe_candidat_13: string (nullable = true)\n",
      " |-- Voix_13: string (nullable = true)\n",
      " |-- Pourcentage_Voix/inscrits_13: string (nullable = true)\n",
      " |-- Pourcentage_Voix/exprimés_13: string (nullable = true)\n",
      " |-- Elu_13: string (nullable = true)\n",
      " |-- Numéro_de_panneau_14: string (nullable = true)\n",
      " |-- Nuance_candidat_14: string (nullable = true)\n",
      " |-- Nom_candidat_14: string (nullable = true)\n",
      " |-- Prénom_candidat_14: string (nullable = true)\n",
      " |-- Sexe_candidat_14: string (nullable = true)\n",
      " |-- Voix_14: string (nullable = true)\n",
      " |-- Pourcentage_Voix/inscrits_14: string (nullable = true)\n",
      " |-- Pourcentage_Voix/exprimés_14: string (nullable = true)\n",
      " |-- Elu_14: string (nullable = true)\n",
      " |-- Numéro_de_panneau_15: string (nullable = true)\n",
      " |-- Nuance_candidat_15: string (nullable = true)\n",
      " |-- Nom_candidat_15: string (nullable = true)\n",
      " |-- Prénom_candidat_15: string (nullable = true)\n",
      " |-- Sexe_candidat_15: string (nullable = true)\n",
      " |-- Voix_15: string (nullable = true)\n",
      " |-- Pourcentage_Voix/inscrits_15: string (nullable = true)\n",
      " |-- Pourcentage_Voix/exprimés_15: string (nullable = true)\n",
      " |-- Elu_15: string (nullable = true)\n",
      " |-- Numéro_de_panneau_16: string (nullable = true)\n",
      " |-- Nuance_candidat_16: string (nullable = true)\n",
      " |-- Nom_candidat_16: string (nullable = true)\n",
      " |-- Prénom_candidat_16: string (nullable = true)\n",
      " |-- Sexe_candidat_16: string (nullable = true)\n",
      " |-- Voix_16: string (nullable = true)\n",
      " |-- Pourcentage_Voix/inscrits_16: string (nullable = true)\n",
      " |-- Pourcentage_Voix/exprimés_16: string (nullable = true)\n",
      " |-- Elu_16: string (nullable = true)\n",
      " |-- Numéro_de_panneau_17: string (nullable = true)\n",
      " |-- Nuance_candidat_17: string (nullable = true)\n",
      " |-- Nom_candidat_17: string (nullable = true)\n",
      " |-- Prénom_candidat_17: string (nullable = true)\n",
      " |-- Sexe_candidat_17: string (nullable = true)\n",
      " |-- Voix_17: string (nullable = true)\n",
      " |-- Pourcentage_Voix/inscrits_17: string (nullable = true)\n",
      " |-- Pourcentage_Voix/exprimés_17: string (nullable = true)\n",
      " |-- Elu_17: string (nullable = true)\n",
      " |-- Numéro_de_panneau_18: string (nullable = true)\n",
      " |-- Nuance_candidat_18: string (nullable = true)\n",
      " |-- Nom_candidat_18: string (nullable = true)\n",
      " |-- Prénom_candidat_18: string (nullable = true)\n",
      " |-- Sexe_candidat_18: string (nullable = true)\n",
      " |-- Voix_18: string (nullable = true)\n",
      " |-- Pourcentage_Voix/inscrits_18: string (nullable = true)\n",
      " |-- Pourcentage_Voix/exprimés_18: string (nullable = true)\n",
      " |-- Elu_18: string (nullable = true)\n",
      "\n"
     ]
    }
   ],
   "source": [
    "# Print the schema of the DataFrame\n",
    "df_res_2024_communes.printSchema()\n"
   ]
  },
  {
   "cell_type": "markdown",
   "metadata": {},
   "source": [
    "Number of rows"
   ]
  },
  {
   "cell_type": "code",
   "execution_count": 10,
   "metadata": {},
   "outputs": [
    {
     "data": {
      "text/plain": [
       "31392"
      ]
     },
     "execution_count": 10,
     "metadata": {},
     "output_type": "execute_result"
    }
   ],
   "source": [
    "df_res_2024_communes.count()"
   ]
  },
  {
   "cell_type": "markdown",
   "metadata": {},
   "source": [
    "Create the list of the features that needs to be transformed into int"
   ]
  },
  {
   "cell_type": "code",
   "execution_count": 11,
   "metadata": {},
   "outputs": [],
   "source": [
    "integer_features = {\n",
    "    \"Code_département\": IntegerType(),\n",
    "    \"Code_commune\": IntegerType(),\n",
    "    \"Inscrits\": IntegerType(),\n",
    "    \"Votants\": IntegerType(),\n",
    "    \"Abstentions\": IntegerType(),\n",
    "    \"Exprimés\":IntegerType(),\n",
    "    \"Blancs\": IntegerType(),\n",
    "    \"Nuls\": IntegerType(), \n",
    "}"
   ]
  },
  {
   "cell_type": "markdown",
   "metadata": {},
   "source": [
    "Update the integer features dictionnary to add the repeated columns which need to be updated"
   ]
  },
  {
   "cell_type": "code",
   "execution_count": 12,
   "metadata": {},
   "outputs": [],
   "source": [
    "for i in range(1, 19, 1):\n",
    "    integer_features[f\"Numéro_de_panneau_{i}\"] = IntegerType()\n",
    "    integer_features[f\"Voix_{i}\"] = IntegerType()"
   ]
  },
  {
   "cell_type": "code",
   "execution_count": 13,
   "metadata": {},
   "outputs": [
    {
     "data": {
      "text/plain": [
       "{'Code_département': IntegerType(),\n",
       " 'Code_commune': IntegerType(),\n",
       " 'Inscrits': IntegerType(),\n",
       " 'Votants': IntegerType(),\n",
       " 'Abstentions': IntegerType(),\n",
       " 'Exprimés': IntegerType(),\n",
       " 'Blancs': IntegerType(),\n",
       " 'Nuls': IntegerType(),\n",
       " 'Numéro_de_panneau_1': IntegerType(),\n",
       " 'Voix_1': IntegerType(),\n",
       " 'Numéro_de_panneau_2': IntegerType(),\n",
       " 'Voix_2': IntegerType(),\n",
       " 'Numéro_de_panneau_3': IntegerType(),\n",
       " 'Voix_3': IntegerType(),\n",
       " 'Numéro_de_panneau_4': IntegerType(),\n",
       " 'Voix_4': IntegerType(),\n",
       " 'Numéro_de_panneau_5': IntegerType(),\n",
       " 'Voix_5': IntegerType(),\n",
       " 'Numéro_de_panneau_6': IntegerType(),\n",
       " 'Voix_6': IntegerType(),\n",
       " 'Numéro_de_panneau_7': IntegerType(),\n",
       " 'Voix_7': IntegerType(),\n",
       " 'Numéro_de_panneau_8': IntegerType(),\n",
       " 'Voix_8': IntegerType(),\n",
       " 'Numéro_de_panneau_9': IntegerType(),\n",
       " 'Voix_9': IntegerType(),\n",
       " 'Numéro_de_panneau_10': IntegerType(),\n",
       " 'Voix_10': IntegerType(),\n",
       " 'Numéro_de_panneau_11': IntegerType(),\n",
       " 'Voix_11': IntegerType(),\n",
       " 'Numéro_de_panneau_12': IntegerType(),\n",
       " 'Voix_12': IntegerType(),\n",
       " 'Numéro_de_panneau_13': IntegerType(),\n",
       " 'Voix_13': IntegerType(),\n",
       " 'Numéro_de_panneau_14': IntegerType(),\n",
       " 'Voix_14': IntegerType(),\n",
       " 'Numéro_de_panneau_15': IntegerType(),\n",
       " 'Voix_15': IntegerType(),\n",
       " 'Numéro_de_panneau_16': IntegerType(),\n",
       " 'Voix_16': IntegerType(),\n",
       " 'Numéro_de_panneau_17': IntegerType(),\n",
       " 'Voix_17': IntegerType(),\n",
       " 'Numéro_de_panneau_18': IntegerType(),\n",
       " 'Voix_18': IntegerType()}"
      ]
     },
     "execution_count": 13,
     "metadata": {},
     "output_type": "execute_result"
    }
   ],
   "source": [
    "integer_features"
   ]
  },
  {
   "cell_type": "markdown",
   "metadata": {},
   "source": [
    "Change the types of all the features within the column"
   ]
  },
  {
   "cell_type": "code",
   "execution_count": 14,
   "metadata": {},
   "outputs": [],
   "source": [
    "for features, types in integer_features.items():\n",
    "    df_res_2024_communes = df_res_2024_communes.withColumn(features, df_res_2024_communes[features].cast(types))"
   ]
  },
  {
   "cell_type": "markdown",
   "metadata": {},
   "source": [
    "Change the types of the float values"
   ]
  },
  {
   "cell_type": "code",
   "execution_count": 15,
   "metadata": {},
   "outputs": [],
   "source": [
    "float_features = {\n",
    "    \"Pourcentage_Votants\": FloatType(),\n",
    "    \"Pourcentage_Abstentions\": FloatType(),\n",
    "    \"Pourcentage_Exprimés/inscrits\": FloatType(),\n",
    "    \"Pourcentage_Exprimés/votants\": FloatType(),\n",
    "    \"Pourcentage_Blancs/inscrits\": FloatType(),\n",
    "    \"Pourcentage_Blancs/votants\": FloatType(),\n",
    "    \"Pourcentage_Nuls/inscrits\": FloatType(),\n",
    "    \"Pourcentage_Nuls/votants\": FloatType(),\n",
    "}"
   ]
  },
  {
   "cell_type": "code",
   "execution_count": 16,
   "metadata": {},
   "outputs": [],
   "source": [
    "for i in range(1, 19, 1):\n",
    "    float_features[f\"Pourcentage_Voix/inscrits_{i}\"] = FloatType()\n",
    "    float_features[f\"Pourcentage_Voix/exprimés_{i}\"] = FloatType()"
   ]
  },
  {
   "cell_type": "code",
   "execution_count": 17,
   "metadata": {},
   "outputs": [
    {
     "data": {
      "text/plain": [
       "{'Pourcentage_Votants': FloatType(),\n",
       " 'Pourcentage_Abstentions': FloatType(),\n",
       " 'Pourcentage_Exprimés/inscrits': FloatType(),\n",
       " 'Pourcentage_Exprimés/votants': FloatType(),\n",
       " 'Pourcentage_Blancs/inscrits': FloatType(),\n",
       " 'Pourcentage_Blancs/votants': FloatType(),\n",
       " 'Pourcentage_Nuls/inscrits': FloatType(),\n",
       " 'Pourcentage_Nuls/votants': FloatType(),\n",
       " 'Pourcentage_Voix/inscrits_1': FloatType(),\n",
       " 'Pourcentage_Voix/exprimés_1': FloatType(),\n",
       " 'Pourcentage_Voix/inscrits_2': FloatType(),\n",
       " 'Pourcentage_Voix/exprimés_2': FloatType(),\n",
       " 'Pourcentage_Voix/inscrits_3': FloatType(),\n",
       " 'Pourcentage_Voix/exprimés_3': FloatType(),\n",
       " 'Pourcentage_Voix/inscrits_4': FloatType(),\n",
       " 'Pourcentage_Voix/exprimés_4': FloatType(),\n",
       " 'Pourcentage_Voix/inscrits_5': FloatType(),\n",
       " 'Pourcentage_Voix/exprimés_5': FloatType(),\n",
       " 'Pourcentage_Voix/inscrits_6': FloatType(),\n",
       " 'Pourcentage_Voix/exprimés_6': FloatType(),\n",
       " 'Pourcentage_Voix/inscrits_7': FloatType(),\n",
       " 'Pourcentage_Voix/exprimés_7': FloatType(),\n",
       " 'Pourcentage_Voix/inscrits_8': FloatType(),\n",
       " 'Pourcentage_Voix/exprimés_8': FloatType(),\n",
       " 'Pourcentage_Voix/inscrits_9': FloatType(),\n",
       " 'Pourcentage_Voix/exprimés_9': FloatType(),\n",
       " 'Pourcentage_Voix/inscrits_10': FloatType(),\n",
       " 'Pourcentage_Voix/exprimés_10': FloatType(),\n",
       " 'Pourcentage_Voix/inscrits_11': FloatType(),\n",
       " 'Pourcentage_Voix/exprimés_11': FloatType(),\n",
       " 'Pourcentage_Voix/inscrits_12': FloatType(),\n",
       " 'Pourcentage_Voix/exprimés_12': FloatType(),\n",
       " 'Pourcentage_Voix/inscrits_13': FloatType(),\n",
       " 'Pourcentage_Voix/exprimés_13': FloatType(),\n",
       " 'Pourcentage_Voix/inscrits_14': FloatType(),\n",
       " 'Pourcentage_Voix/exprimés_14': FloatType(),\n",
       " 'Pourcentage_Voix/inscrits_15': FloatType(),\n",
       " 'Pourcentage_Voix/exprimés_15': FloatType(),\n",
       " 'Pourcentage_Voix/inscrits_16': FloatType(),\n",
       " 'Pourcentage_Voix/exprimés_16': FloatType(),\n",
       " 'Pourcentage_Voix/inscrits_17': FloatType(),\n",
       " 'Pourcentage_Voix/exprimés_17': FloatType(),\n",
       " 'Pourcentage_Voix/inscrits_18': FloatType(),\n",
       " 'Pourcentage_Voix/exprimés_18': FloatType()}"
      ]
     },
     "execution_count": 17,
     "metadata": {},
     "output_type": "execute_result"
    }
   ],
   "source": [
    "float_features"
   ]
  },
  {
   "cell_type": "markdown",
   "metadata": {},
   "source": [
    "Clean the pourcentage features that have the string type"
   ]
  },
  {
   "cell_type": "code",
   "execution_count": 18,
   "metadata": {},
   "outputs": [],
   "source": [
    "for features, types in float_features.items():\n",
    "\n",
    "    df_res_2024_communes = df_res_2024_communes.withColumn(\n",
    "        features,\n",
    "        regexp_replace(col(features), \"[^0-9,]\", \"\")  # Remove all other characters that digits and ,\n",
    "    ).withColumn(\n",
    "        features,\n",
    "        regexp_replace(col(features), \",\", \".\")\n",
    "    ).withColumn(\n",
    "        features,\n",
    "        col(features).cast(types)\n",
    "    )"
   ]
  },
  {
   "cell_type": "code",
   "execution_count": 19,
   "metadata": {},
   "outputs": [
    {
     "name": "stdout",
     "output_type": "stream",
     "text": [
      "root\n",
      " |-- Code_département: integer (nullable = true)\n",
      " |-- Libellé_département: string (nullable = true)\n",
      " |-- Code_commune: integer (nullable = true)\n",
      " |-- Libellé_commune: string (nullable = true)\n",
      " |-- Inscrits: integer (nullable = true)\n",
      " |-- Votants: integer (nullable = true)\n",
      " |-- Pourcentage_Votants: float (nullable = true)\n",
      " |-- Abstentions: integer (nullable = true)\n",
      " |-- Pourcentage_Abstentions: float (nullable = true)\n",
      " |-- Exprimés: integer (nullable = true)\n",
      " |-- Pourcentage_Exprimés/inscrits: float (nullable = true)\n",
      " |-- Pourcentage_Exprimés/votants: float (nullable = true)\n",
      " |-- Blancs: integer (nullable = true)\n",
      " |-- Pourcentage_Blancs/inscrits: float (nullable = true)\n",
      " |-- Pourcentage_Blancs/votants: float (nullable = true)\n",
      " |-- Nuls: integer (nullable = true)\n",
      " |-- Pourcentage_Nuls/inscrits: float (nullable = true)\n",
      " |-- Pourcentage_Nuls/votants: float (nullable = true)\n",
      " |-- Numéro_de_panneau_1: integer (nullable = true)\n",
      " |-- Nuance_candidat_1: string (nullable = true)\n",
      " |-- Nom_candidat_1: string (nullable = true)\n",
      " |-- Prénom_candidat_1: string (nullable = true)\n",
      " |-- Sexe_candidat_1: string (nullable = true)\n",
      " |-- Voix_1: integer (nullable = true)\n",
      " |-- Pourcentage_Voix/inscrits_1: float (nullable = true)\n",
      " |-- Pourcentage_Voix/exprimés_1: float (nullable = true)\n",
      " |-- Elu_1: string (nullable = true)\n",
      " |-- Numéro_de_panneau_2: integer (nullable = true)\n",
      " |-- Nuance_candidat_2: string (nullable = true)\n",
      " |-- Nom_candidat_2: string (nullable = true)\n",
      " |-- Prénom_candidat_2: string (nullable = true)\n",
      " |-- Sexe_candidat_2: string (nullable = true)\n",
      " |-- Voix_2: integer (nullable = true)\n",
      " |-- Pourcentage_Voix/inscrits_2: float (nullable = true)\n",
      " |-- Pourcentage_Voix/exprimés_2: float (nullable = true)\n",
      " |-- Elu_2: string (nullable = true)\n",
      " |-- Numéro_de_panneau_3: integer (nullable = true)\n",
      " |-- Nuance_candidat_3: string (nullable = true)\n",
      " |-- Nom_candidat_3: string (nullable = true)\n",
      " |-- Prénom_candidat_3: string (nullable = true)\n",
      " |-- Sexe_candidat_3: string (nullable = true)\n",
      " |-- Voix_3: integer (nullable = true)\n",
      " |-- Pourcentage_Voix/inscrits_3: float (nullable = true)\n",
      " |-- Pourcentage_Voix/exprimés_3: float (nullable = true)\n",
      " |-- Elu_3: string (nullable = true)\n",
      " |-- Numéro_de_panneau_4: integer (nullable = true)\n",
      " |-- Nuance_candidat_4: string (nullable = true)\n",
      " |-- Nom_candidat_4: string (nullable = true)\n",
      " |-- Prénom_candidat_4: string (nullable = true)\n",
      " |-- Sexe_candidat_4: string (nullable = true)\n",
      " |-- Voix_4: integer (nullable = true)\n",
      " |-- Pourcentage_Voix/inscrits_4: float (nullable = true)\n",
      " |-- Pourcentage_Voix/exprimés_4: float (nullable = true)\n",
      " |-- Elu_4: string (nullable = true)\n",
      " |-- Numéro_de_panneau_5: integer (nullable = true)\n",
      " |-- Nuance_candidat_5: string (nullable = true)\n",
      " |-- Nom_candidat_5: string (nullable = true)\n",
      " |-- Prénom_candidat_5: string (nullable = true)\n",
      " |-- Sexe_candidat_5: string (nullable = true)\n",
      " |-- Voix_5: integer (nullable = true)\n",
      " |-- Pourcentage_Voix/inscrits_5: float (nullable = true)\n",
      " |-- Pourcentage_Voix/exprimés_5: float (nullable = true)\n",
      " |-- Elu_5: string (nullable = true)\n",
      " |-- Numéro_de_panneau_6: integer (nullable = true)\n",
      " |-- Nuance_candidat_6: string (nullable = true)\n",
      " |-- Nom_candidat_6: string (nullable = true)\n",
      " |-- Prénom_candidat_6: string (nullable = true)\n",
      " |-- Sexe_candidat_6: string (nullable = true)\n",
      " |-- Voix_6: integer (nullable = true)\n",
      " |-- Pourcentage_Voix/inscrits_6: float (nullable = true)\n",
      " |-- Pourcentage_Voix/exprimés_6: float (nullable = true)\n",
      " |-- Elu_6: string (nullable = true)\n",
      " |-- Numéro_de_panneau_7: integer (nullable = true)\n",
      " |-- Nuance_candidat_7: string (nullable = true)\n",
      " |-- Nom_candidat_7: string (nullable = true)\n",
      " |-- Prénom_candidat_7: string (nullable = true)\n",
      " |-- Sexe_candidat_7: string (nullable = true)\n",
      " |-- Voix_7: integer (nullable = true)\n",
      " |-- Pourcentage_Voix/inscrits_7: float (nullable = true)\n",
      " |-- Pourcentage_Voix/exprimés_7: float (nullable = true)\n",
      " |-- Elu_7: string (nullable = true)\n",
      " |-- Numéro_de_panneau_8: integer (nullable = true)\n",
      " |-- Nuance_candidat_8: string (nullable = true)\n",
      " |-- Nom_candidat_8: string (nullable = true)\n",
      " |-- Prénom_candidat_8: string (nullable = true)\n",
      " |-- Sexe_candidat_8: string (nullable = true)\n",
      " |-- Voix_8: integer (nullable = true)\n",
      " |-- Pourcentage_Voix/inscrits_8: float (nullable = true)\n",
      " |-- Pourcentage_Voix/exprimés_8: float (nullable = true)\n",
      " |-- Elu_8: string (nullable = true)\n",
      " |-- Numéro_de_panneau_9: integer (nullable = true)\n",
      " |-- Nuance_candidat_9: string (nullable = true)\n",
      " |-- Nom_candidat_9: string (nullable = true)\n",
      " |-- Prénom_candidat_9: string (nullable = true)\n",
      " |-- Sexe_candidat_9: string (nullable = true)\n",
      " |-- Voix_9: integer (nullable = true)\n",
      " |-- Pourcentage_Voix/inscrits_9: float (nullable = true)\n",
      " |-- Pourcentage_Voix/exprimés_9: float (nullable = true)\n",
      " |-- Elu_9: string (nullable = true)\n",
      " |-- Numéro_de_panneau_10: integer (nullable = true)\n",
      " |-- Nuance_candidat_10: string (nullable = true)\n",
      " |-- Nom_candidat_10: string (nullable = true)\n",
      " |-- Prénom_candidat_10: string (nullable = true)\n",
      " |-- Sexe_candidat_10: string (nullable = true)\n",
      " |-- Voix_10: integer (nullable = true)\n",
      " |-- Pourcentage_Voix/inscrits_10: float (nullable = true)\n",
      " |-- Pourcentage_Voix/exprimés_10: float (nullable = true)\n",
      " |-- Elu_10: string (nullable = true)\n",
      " |-- Numéro_de_panneau_11: integer (nullable = true)\n",
      " |-- Nuance_candidat_11: string (nullable = true)\n",
      " |-- Nom_candidat_11: string (nullable = true)\n",
      " |-- Prénom_candidat_11: string (nullable = true)\n",
      " |-- Sexe_candidat_11: string (nullable = true)\n",
      " |-- Voix_11: integer (nullable = true)\n",
      " |-- Pourcentage_Voix/inscrits_11: float (nullable = true)\n",
      " |-- Pourcentage_Voix/exprimés_11: float (nullable = true)\n",
      " |-- Elu_11: string (nullable = true)\n",
      " |-- Numéro_de_panneau_12: integer (nullable = true)\n",
      " |-- Nuance_candidat_12: string (nullable = true)\n",
      " |-- Nom_candidat_12: string (nullable = true)\n",
      " |-- Prénom_candidat_12: string (nullable = true)\n",
      " |-- Sexe_candidat_12: string (nullable = true)\n",
      " |-- Voix_12: integer (nullable = true)\n",
      " |-- Pourcentage_Voix/inscrits_12: float (nullable = true)\n",
      " |-- Pourcentage_Voix/exprimés_12: float (nullable = true)\n",
      " |-- Elu_12: string (nullable = true)\n",
      " |-- Numéro_de_panneau_13: integer (nullable = true)\n",
      " |-- Nuance_candidat_13: string (nullable = true)\n",
      " |-- Nom_candidat_13: string (nullable = true)\n",
      " |-- Prénom_candidat_13: string (nullable = true)\n",
      " |-- Sexe_candidat_13: string (nullable = true)\n",
      " |-- Voix_13: integer (nullable = true)\n",
      " |-- Pourcentage_Voix/inscrits_13: float (nullable = true)\n",
      " |-- Pourcentage_Voix/exprimés_13: float (nullable = true)\n",
      " |-- Elu_13: string (nullable = true)\n",
      " |-- Numéro_de_panneau_14: integer (nullable = true)\n",
      " |-- Nuance_candidat_14: string (nullable = true)\n",
      " |-- Nom_candidat_14: string (nullable = true)\n",
      " |-- Prénom_candidat_14: string (nullable = true)\n",
      " |-- Sexe_candidat_14: string (nullable = true)\n",
      " |-- Voix_14: integer (nullable = true)\n",
      " |-- Pourcentage_Voix/inscrits_14: float (nullable = true)\n",
      " |-- Pourcentage_Voix/exprimés_14: float (nullable = true)\n",
      " |-- Elu_14: string (nullable = true)\n",
      " |-- Numéro_de_panneau_15: integer (nullable = true)\n",
      " |-- Nuance_candidat_15: string (nullable = true)\n",
      " |-- Nom_candidat_15: string (nullable = true)\n",
      " |-- Prénom_candidat_15: string (nullable = true)\n",
      " |-- Sexe_candidat_15: string (nullable = true)\n",
      " |-- Voix_15: integer (nullable = true)\n",
      " |-- Pourcentage_Voix/inscrits_15: float (nullable = true)\n",
      " |-- Pourcentage_Voix/exprimés_15: float (nullable = true)\n",
      " |-- Elu_15: string (nullable = true)\n",
      " |-- Numéro_de_panneau_16: integer (nullable = true)\n",
      " |-- Nuance_candidat_16: string (nullable = true)\n",
      " |-- Nom_candidat_16: string (nullable = true)\n",
      " |-- Prénom_candidat_16: string (nullable = true)\n",
      " |-- Sexe_candidat_16: string (nullable = true)\n",
      " |-- Voix_16: integer (nullable = true)\n",
      " |-- Pourcentage_Voix/inscrits_16: float (nullable = true)\n",
      " |-- Pourcentage_Voix/exprimés_16: float (nullable = true)\n",
      " |-- Elu_16: string (nullable = true)\n",
      " |-- Numéro_de_panneau_17: integer (nullable = true)\n",
      " |-- Nuance_candidat_17: string (nullable = true)\n",
      " |-- Nom_candidat_17: string (nullable = true)\n",
      " |-- Prénom_candidat_17: string (nullable = true)\n",
      " |-- Sexe_candidat_17: string (nullable = true)\n",
      " |-- Voix_17: integer (nullable = true)\n",
      " |-- Pourcentage_Voix/inscrits_17: float (nullable = true)\n",
      " |-- Pourcentage_Voix/exprimés_17: float (nullable = true)\n",
      " |-- Elu_17: string (nullable = true)\n",
      " |-- Numéro_de_panneau_18: integer (nullable = true)\n",
      " |-- Nuance_candidat_18: string (nullable = true)\n",
      " |-- Nom_candidat_18: string (nullable = true)\n",
      " |-- Prénom_candidat_18: string (nullable = true)\n",
      " |-- Sexe_candidat_18: string (nullable = true)\n",
      " |-- Voix_18: integer (nullable = true)\n",
      " |-- Pourcentage_Voix/inscrits_18: float (nullable = true)\n",
      " |-- Pourcentage_Voix/exprimés_18: float (nullable = true)\n",
      " |-- Elu_18: string (nullable = true)\n",
      "\n"
     ]
    }
   ],
   "source": [
    "# Updates schema\n",
    "df_res_2024_communes.printSchema()"
   ]
  },
  {
   "cell_type": "code",
   "execution_count": 20,
   "metadata": {},
   "outputs": [
    {
     "name": "stdout",
     "output_type": "stream",
     "text": [
      "+----------------+-------------------+------------+--------------------+--------+-------+-------------------+-----------+-----------------------+--------+-----------------------------+----------------------------+------+---------------------------+--------------------------+----+-------------------------+------------------------+-------------------+-----------------+--------------+-----------------+---------------+------+---------------------------+---------------------------+-----+-------------------+-----------------+--------------+-----------------+---------------+------+---------------------------+---------------------------+-----+-------------------+-----------------+--------------+-----------------+---------------+------+---------------------------+---------------------------+-----+-------------------+-----------------+--------------+-----------------+---------------+------+---------------------------+---------------------------+-----+-------------------+-----------------+--------------+-----------------+---------------+------+---------------------------+---------------------------+-----+-------------------+-----------------+--------------+-----------------+---------------+------+---------------------------+---------------------------+-----+-------------------+-----------------+--------------+-----------------+---------------+------+---------------------------+---------------------------+-----+-------------------+-----------------+--------------+-----------------+---------------+------+---------------------------+---------------------------+-----+-------------------+-----------------+--------------+-----------------+---------------+------+---------------------------+---------------------------+-----+--------------------+------------------+---------------+------------------+----------------+-------+----------------------------+----------------------------+------+--------------------+------------------+---------------+------------------+----------------+-------+----------------------------+----------------------------+------+--------------------+------------------+---------------+------------------+----------------+-------+----------------------------+----------------------------+------+--------------------+------------------+---------------+------------------+----------------+-------+----------------------------+----------------------------+------+--------------------+------------------+---------------+------------------+----------------+-------+----------------------------+----------------------------+------+--------------------+------------------+---------------+------------------+----------------+-------+----------------------------+----------------------------+------+--------------------+------------------+---------------+------------------+----------------+-------+----------------------------+----------------------------+------+--------------------+------------------+---------------+------------------+----------------+-------+----------------------------+----------------------------+------+--------------------+------------------+---------------+------------------+----------------+-------+----------------------------+----------------------------+------+\n",
      "|Code_département|Libellé_département|Code_commune|     Libellé_commune|Inscrits|Votants|Pourcentage_Votants|Abstentions|Pourcentage_Abstentions|Exprimés|Pourcentage_Exprimés/inscrits|Pourcentage_Exprimés/votants|Blancs|Pourcentage_Blancs/inscrits|Pourcentage_Blancs/votants|Nuls|Pourcentage_Nuls/inscrits|Pourcentage_Nuls/votants|Numéro_de_panneau_1|Nuance_candidat_1|Nom_candidat_1|Prénom_candidat_1|Sexe_candidat_1|Voix_1|Pourcentage_Voix/inscrits_1|Pourcentage_Voix/exprimés_1|Elu_1|Numéro_de_panneau_2|Nuance_candidat_2|Nom_candidat_2|Prénom_candidat_2|Sexe_candidat_2|Voix_2|Pourcentage_Voix/inscrits_2|Pourcentage_Voix/exprimés_2|Elu_2|Numéro_de_panneau_3|Nuance_candidat_3|Nom_candidat_3|Prénom_candidat_3|Sexe_candidat_3|Voix_3|Pourcentage_Voix/inscrits_3|Pourcentage_Voix/exprimés_3|Elu_3|Numéro_de_panneau_4|Nuance_candidat_4|Nom_candidat_4|Prénom_candidat_4|Sexe_candidat_4|Voix_4|Pourcentage_Voix/inscrits_4|Pourcentage_Voix/exprimés_4|Elu_4|Numéro_de_panneau_5|Nuance_candidat_5|Nom_candidat_5|Prénom_candidat_5|Sexe_candidat_5|Voix_5|Pourcentage_Voix/inscrits_5|Pourcentage_Voix/exprimés_5|Elu_5|Numéro_de_panneau_6|Nuance_candidat_6|Nom_candidat_6|Prénom_candidat_6|Sexe_candidat_6|Voix_6|Pourcentage_Voix/inscrits_6|Pourcentage_Voix/exprimés_6|Elu_6|Numéro_de_panneau_7|Nuance_candidat_7|Nom_candidat_7|Prénom_candidat_7|Sexe_candidat_7|Voix_7|Pourcentage_Voix/inscrits_7|Pourcentage_Voix/exprimés_7|Elu_7|Numéro_de_panneau_8|Nuance_candidat_8|Nom_candidat_8|Prénom_candidat_8|Sexe_candidat_8|Voix_8|Pourcentage_Voix/inscrits_8|Pourcentage_Voix/exprimés_8|Elu_8|Numéro_de_panneau_9|Nuance_candidat_9|Nom_candidat_9|Prénom_candidat_9|Sexe_candidat_9|Voix_9|Pourcentage_Voix/inscrits_9|Pourcentage_Voix/exprimés_9|Elu_9|Numéro_de_panneau_10|Nuance_candidat_10|Nom_candidat_10|Prénom_candidat_10|Sexe_candidat_10|Voix_10|Pourcentage_Voix/inscrits_10|Pourcentage_Voix/exprimés_10|Elu_10|Numéro_de_panneau_11|Nuance_candidat_11|Nom_candidat_11|Prénom_candidat_11|Sexe_candidat_11|Voix_11|Pourcentage_Voix/inscrits_11|Pourcentage_Voix/exprimés_11|Elu_11|Numéro_de_panneau_12|Nuance_candidat_12|Nom_candidat_12|Prénom_candidat_12|Sexe_candidat_12|Voix_12|Pourcentage_Voix/inscrits_12|Pourcentage_Voix/exprimés_12|Elu_12|Numéro_de_panneau_13|Nuance_candidat_13|Nom_candidat_13|Prénom_candidat_13|Sexe_candidat_13|Voix_13|Pourcentage_Voix/inscrits_13|Pourcentage_Voix/exprimés_13|Elu_13|Numéro_de_panneau_14|Nuance_candidat_14|Nom_candidat_14|Prénom_candidat_14|Sexe_candidat_14|Voix_14|Pourcentage_Voix/inscrits_14|Pourcentage_Voix/exprimés_14|Elu_14|Numéro_de_panneau_15|Nuance_candidat_15|Nom_candidat_15|Prénom_candidat_15|Sexe_candidat_15|Voix_15|Pourcentage_Voix/inscrits_15|Pourcentage_Voix/exprimés_15|Elu_15|Numéro_de_panneau_16|Nuance_candidat_16|Nom_candidat_16|Prénom_candidat_16|Sexe_candidat_16|Voix_16|Pourcentage_Voix/inscrits_16|Pourcentage_Voix/exprimés_16|Elu_16|Numéro_de_panneau_17|Nuance_candidat_17|Nom_candidat_17|Prénom_candidat_17|Sexe_candidat_17|Voix_17|Pourcentage_Voix/inscrits_17|Pourcentage_Voix/exprimés_17|Elu_17|Numéro_de_panneau_18|Nuance_candidat_18|Nom_candidat_18|Prénom_candidat_18|Sexe_candidat_18|Voix_18|Pourcentage_Voix/inscrits_18|Pourcentage_Voix/exprimés_18|Elu_18|\n",
      "+----------------+-------------------+------------+--------------------+--------+-------+-------------------+-----------+-----------------------+--------+-----------------------------+----------------------------+------+---------------------------+--------------------------+----+-------------------------+------------------------+-------------------+-----------------+--------------+-----------------+---------------+------+---------------------------+---------------------------+-----+-------------------+-----------------+--------------+-----------------+---------------+------+---------------------------+---------------------------+-----+-------------------+-----------------+--------------+-----------------+---------------+------+---------------------------+---------------------------+-----+-------------------+-----------------+--------------+-----------------+---------------+------+---------------------------+---------------------------+-----+-------------------+-----------------+--------------+-----------------+---------------+------+---------------------------+---------------------------+-----+-------------------+-----------------+--------------+-----------------+---------------+------+---------------------------+---------------------------+-----+-------------------+-----------------+--------------+-----------------+---------------+------+---------------------------+---------------------------+-----+-------------------+-----------------+--------------+-----------------+---------------+------+---------------------------+---------------------------+-----+-------------------+-----------------+--------------+-----------------+---------------+------+---------------------------+---------------------------+-----+--------------------+------------------+---------------+------------------+----------------+-------+----------------------------+----------------------------+------+--------------------+------------------+---------------+------------------+----------------+-------+----------------------------+----------------------------+------+--------------------+------------------+---------------+------------------+----------------+-------+----------------------------+----------------------------+------+--------------------+------------------+---------------+------------------+----------------+-------+----------------------------+----------------------------+------+--------------------+------------------+---------------+------------------+----------------+-------+----------------------------+----------------------------+------+--------------------+------------------+---------------+------------------+----------------+-------+----------------------------+----------------------------+------+--------------------+------------------+---------------+------------------+----------------+-------+----------------------------+----------------------------+------+--------------------+------------------+---------------+------------------+----------------+-------+----------------------------+----------------------------+------+--------------------+------------------+---------------+------------------+----------------+-------+----------------------------+----------------------------+------+\n",
      "|               1|                Ain|        1001|L'Abergement-Clém...|     662|    494|              74.62|        168|                  25.38|     476|                         71.9|                       96.36|    14|                       2.11|                      2.83|   4|                      0.6|                    0.81|                  5|              ENS|      COQUELET|       Christophe|       MASCULIN|   203|                      30.66|                      42.65| NULL|                  6|               RN|       BUISSON|           Jérôme|       MASCULIN|   273|                      41.24|                      57.35|  élu|               NULL|             NULL|          NULL|             NULL|           NULL|  NULL|                       NULL|                       NULL| NULL|               NULL|             NULL|          NULL|             NULL|           NULL|  NULL|                       NULL|                       NULL| NULL|               NULL|             NULL|          NULL|             NULL|           NULL|  NULL|                       NULL|                       NULL| NULL|               NULL|             NULL|          NULL|             NULL|           NULL|  NULL|                       NULL|                       NULL| NULL|               NULL|             NULL|          NULL|             NULL|           NULL|  NULL|                       NULL|                       NULL| NULL|               NULL|             NULL|          NULL|             NULL|           NULL|  NULL|                       NULL|                       NULL| NULL|               NULL|             NULL|          NULL|             NULL|           NULL|  NULL|                       NULL|                       NULL| NULL|                NULL|              NULL|           NULL|              NULL|            NULL|   NULL|                        NULL|                        NULL|  NULL|                NULL|              NULL|           NULL|              NULL|            NULL|   NULL|                        NULL|                        NULL|  NULL|                NULL|              NULL|           NULL|              NULL|            NULL|   NULL|                        NULL|                        NULL|  NULL|                NULL|              NULL|           NULL|              NULL|            NULL|   NULL|                        NULL|                        NULL|  NULL|                NULL|              NULL|           NULL|              NULL|            NULL|   NULL|                        NULL|                        NULL|  NULL|                NULL|              NULL|           NULL|              NULL|            NULL|   NULL|                        NULL|                        NULL|  NULL|                NULL|              NULL|           NULL|              NULL|            NULL|   NULL|                        NULL|                        NULL|  NULL|                NULL|              NULL|           NULL|              NULL|            NULL|   NULL|                        NULL|                        NULL|  NULL|                NULL|              NULL|           NULL|              NULL|            NULL|   NULL|                        NULL|                        NULL|  NULL|\n",
      "|               1|                Ain|        1002|L'Abergement-de-V...|     228|    187|              82.02|         41|                  17.98|     166|                        72.81|                       88.77|    17|                       7.46|                      9.09|   4|                     1.75|                    2.14|                  4|               UG|        PISANI|         Florence|        FEMININ|    93|                      40.79|                      56.02| NULL|                  8|              UXD|       CHAVENT|             Marc|       MASCULIN|    73|                      32.02|                      43.98|  élu|               NULL|             NULL|          NULL|             NULL|           NULL|  NULL|                       NULL|                       NULL| NULL|               NULL|             NULL|          NULL|             NULL|           NULL|  NULL|                       NULL|                       NULL| NULL|               NULL|             NULL|          NULL|             NULL|           NULL|  NULL|                       NULL|                       NULL| NULL|               NULL|             NULL|          NULL|             NULL|           NULL|  NULL|                       NULL|                       NULL| NULL|               NULL|             NULL|          NULL|             NULL|           NULL|  NULL|                       NULL|                       NULL| NULL|               NULL|             NULL|          NULL|             NULL|           NULL|  NULL|                       NULL|                       NULL| NULL|               NULL|             NULL|          NULL|             NULL|           NULL|  NULL|                       NULL|                       NULL| NULL|                NULL|              NULL|           NULL|              NULL|            NULL|   NULL|                        NULL|                        NULL|  NULL|                NULL|              NULL|           NULL|              NULL|            NULL|   NULL|                        NULL|                        NULL|  NULL|                NULL|              NULL|           NULL|              NULL|            NULL|   NULL|                        NULL|                        NULL|  NULL|                NULL|              NULL|           NULL|              NULL|            NULL|   NULL|                        NULL|                        NULL|  NULL|                NULL|              NULL|           NULL|              NULL|            NULL|   NULL|                        NULL|                        NULL|  NULL|                NULL|              NULL|           NULL|              NULL|            NULL|   NULL|                        NULL|                        NULL|  NULL|                NULL|              NULL|           NULL|              NULL|            NULL|   NULL|                        NULL|                        NULL|  NULL|                NULL|              NULL|           NULL|              NULL|            NULL|   NULL|                        NULL|                        NULL|  NULL|                NULL|              NULL|           NULL|              NULL|            NULL|   NULL|                        NULL|                        NULL|  NULL|\n",
      "|               1|                Ain|        1004|   Ambérieu-en-Bugey|    8745|   5887|              67.32|       2858|                  32.68|    5348|                        61.15|                       90.84|   403|                       4.61|                      6.85| 136|                     1.56|                    2.31|                  4|               UG|        PISANI|         Florence|        FEMININ|  2606|                       29.8|                      48.73| NULL|                  8|              UXD|       CHAVENT|             Marc|       MASCULIN|  2742|                      31.36|                      51.27|  élu|               NULL|             NULL|          NULL|             NULL|           NULL|  NULL|                       NULL|                       NULL| NULL|               NULL|             NULL|          NULL|             NULL|           NULL|  NULL|                       NULL|                       NULL| NULL|               NULL|             NULL|          NULL|             NULL|           NULL|  NULL|                       NULL|                       NULL| NULL|               NULL|             NULL|          NULL|             NULL|           NULL|  NULL|                       NULL|                       NULL| NULL|               NULL|             NULL|          NULL|             NULL|           NULL|  NULL|                       NULL|                       NULL| NULL|               NULL|             NULL|          NULL|             NULL|           NULL|  NULL|                       NULL|                       NULL| NULL|               NULL|             NULL|          NULL|             NULL|           NULL|  NULL|                       NULL|                       NULL| NULL|                NULL|              NULL|           NULL|              NULL|            NULL|   NULL|                        NULL|                        NULL|  NULL|                NULL|              NULL|           NULL|              NULL|            NULL|   NULL|                        NULL|                        NULL|  NULL|                NULL|              NULL|           NULL|              NULL|            NULL|   NULL|                        NULL|                        NULL|  NULL|                NULL|              NULL|           NULL|              NULL|            NULL|   NULL|                        NULL|                        NULL|  NULL|                NULL|              NULL|           NULL|              NULL|            NULL|   NULL|                        NULL|                        NULL|  NULL|                NULL|              NULL|           NULL|              NULL|            NULL|   NULL|                        NULL|                        NULL|  NULL|                NULL|              NULL|           NULL|              NULL|            NULL|   NULL|                        NULL|                        NULL|  NULL|                NULL|              NULL|           NULL|              NULL|            NULL|   NULL|                        NULL|                        NULL|  NULL|                NULL|              NULL|           NULL|              NULL|            NULL|   NULL|                        NULL|                        NULL|  NULL|\n",
      "|               1|                Ain|        1005| Ambérieux-en-Dombes|    1337|    979|              73.22|        358|                  26.78|     926|                        69.26|                       94.59|    46|                       3.44|                       4.7|   7|                     0.52|                    0.72|                  5|              ENS|      COQUELET|       Christophe|       MASCULIN|   388|                      29.02|                       41.9| NULL|                  6|               RN|       BUISSON|           Jérôme|       MASCULIN|   538|                      40.24|                       58.1|  élu|               NULL|             NULL|          NULL|             NULL|           NULL|  NULL|                       NULL|                       NULL| NULL|               NULL|             NULL|          NULL|             NULL|           NULL|  NULL|                       NULL|                       NULL| NULL|               NULL|             NULL|          NULL|             NULL|           NULL|  NULL|                       NULL|                       NULL| NULL|               NULL|             NULL|          NULL|             NULL|           NULL|  NULL|                       NULL|                       NULL| NULL|               NULL|             NULL|          NULL|             NULL|           NULL|  NULL|                       NULL|                       NULL| NULL|               NULL|             NULL|          NULL|             NULL|           NULL|  NULL|                       NULL|                       NULL| NULL|               NULL|             NULL|          NULL|             NULL|           NULL|  NULL|                       NULL|                       NULL| NULL|                NULL|              NULL|           NULL|              NULL|            NULL|   NULL|                        NULL|                        NULL|  NULL|                NULL|              NULL|           NULL|              NULL|            NULL|   NULL|                        NULL|                        NULL|  NULL|                NULL|              NULL|           NULL|              NULL|            NULL|   NULL|                        NULL|                        NULL|  NULL|                NULL|              NULL|           NULL|              NULL|            NULL|   NULL|                        NULL|                        NULL|  NULL|                NULL|              NULL|           NULL|              NULL|            NULL|   NULL|                        NULL|                        NULL|  NULL|                NULL|              NULL|           NULL|              NULL|            NULL|   NULL|                        NULL|                        NULL|  NULL|                NULL|              NULL|           NULL|              NULL|            NULL|   NULL|                        NULL|                        NULL|  NULL|                NULL|              NULL|           NULL|              NULL|            NULL|   NULL|                        NULL|                        NULL|  NULL|                NULL|              NULL|           NULL|              NULL|            NULL|   NULL|                        NULL|                        NULL|  NULL|\n",
      "|               1|                Ain|        1006|             Ambléon|      98|     65|              66.33|         33|                  33.67|      59|                         60.2|                       90.77|     6|                       6.12|                      9.23|   0|                      0.0|                     0.0|                  1|              ENS|      GIVERNET|             Olga|        FEMININ|    32|                      32.65|                      54.24|  élu|                  6|               RN|       DUBARRY|           Karine|        FEMININ|    27|                      27.55|                      45.76| NULL|               NULL|             NULL|          NULL|             NULL|           NULL|  NULL|                       NULL|                       NULL| NULL|               NULL|             NULL|          NULL|             NULL|           NULL|  NULL|                       NULL|                       NULL| NULL|               NULL|             NULL|          NULL|             NULL|           NULL|  NULL|                       NULL|                       NULL| NULL|               NULL|             NULL|          NULL|             NULL|           NULL|  NULL|                       NULL|                       NULL| NULL|               NULL|             NULL|          NULL|             NULL|           NULL|  NULL|                       NULL|                       NULL| NULL|               NULL|             NULL|          NULL|             NULL|           NULL|  NULL|                       NULL|                       NULL| NULL|               NULL|             NULL|          NULL|             NULL|           NULL|  NULL|                       NULL|                       NULL| NULL|                NULL|              NULL|           NULL|              NULL|            NULL|   NULL|                        NULL|                        NULL|  NULL|                NULL|              NULL|           NULL|              NULL|            NULL|   NULL|                        NULL|                        NULL|  NULL|                NULL|              NULL|           NULL|              NULL|            NULL|   NULL|                        NULL|                        NULL|  NULL|                NULL|              NULL|           NULL|              NULL|            NULL|   NULL|                        NULL|                        NULL|  NULL|                NULL|              NULL|           NULL|              NULL|            NULL|   NULL|                        NULL|                        NULL|  NULL|                NULL|              NULL|           NULL|              NULL|            NULL|   NULL|                        NULL|                        NULL|  NULL|                NULL|              NULL|           NULL|              NULL|            NULL|   NULL|                        NULL|                        NULL|  NULL|                NULL|              NULL|           NULL|              NULL|            NULL|   NULL|                        NULL|                        NULL|  NULL|                NULL|              NULL|           NULL|              NULL|            NULL|   NULL|                        NULL|                        NULL|  NULL|\n",
      "|               1|                Ain|        1007|            Ambronay|    2076|   1518|              73.12|        558|                  26.88|    1338|                        64.45|                       88.14|   137|                        6.6|                      9.03|  43|                     2.07|                    2.83|                  4|               UG|        PISANI|         Florence|        FEMININ|   534|                      25.72|                      39.91| NULL|                  8|              UXD|       CHAVENT|             Marc|       MASCULIN|   804|                      38.73|                      60.09|  élu|               NULL|             NULL|          NULL|             NULL|           NULL|  NULL|                       NULL|                       NULL| NULL|               NULL|             NULL|          NULL|             NULL|           NULL|  NULL|                       NULL|                       NULL| NULL|               NULL|             NULL|          NULL|             NULL|           NULL|  NULL|                       NULL|                       NULL| NULL|               NULL|             NULL|          NULL|             NULL|           NULL|  NULL|                       NULL|                       NULL| NULL|               NULL|             NULL|          NULL|             NULL|           NULL|  NULL|                       NULL|                       NULL| NULL|               NULL|             NULL|          NULL|             NULL|           NULL|  NULL|                       NULL|                       NULL| NULL|               NULL|             NULL|          NULL|             NULL|           NULL|  NULL|                       NULL|                       NULL| NULL|                NULL|              NULL|           NULL|              NULL|            NULL|   NULL|                        NULL|                        NULL|  NULL|                NULL|              NULL|           NULL|              NULL|            NULL|   NULL|                        NULL|                        NULL|  NULL|                NULL|              NULL|           NULL|              NULL|            NULL|   NULL|                        NULL|                        NULL|  NULL|                NULL|              NULL|           NULL|              NULL|            NULL|   NULL|                        NULL|                        NULL|  NULL|                NULL|              NULL|           NULL|              NULL|            NULL|   NULL|                        NULL|                        NULL|  NULL|                NULL|              NULL|           NULL|              NULL|            NULL|   NULL|                        NULL|                        NULL|  NULL|                NULL|              NULL|           NULL|              NULL|            NULL|   NULL|                        NULL|                        NULL|  NULL|                NULL|              NULL|           NULL|              NULL|            NULL|   NULL|                        NULL|                        NULL|  NULL|                NULL|              NULL|           NULL|              NULL|            NULL|   NULL|                        NULL|                        NULL|  NULL|\n",
      "|               1|                Ain|        1008|            Ambutrix|     568|    413|              72.71|        155|                  27.29|     402|                        70.77|                       97.34|     8|                       1.41|                      1.94|   3|                     0.53|                    0.73|                  1|               RN|       KOTARAC|           Andréa|       MASCULIN|   198|                      34.86|                      49.25| NULL|                  2|              ENS|        DAUBIÉ|           Romain|       MASCULIN|   204|                      35.92|                      50.75|  élu|               NULL|             NULL|          NULL|             NULL|           NULL|  NULL|                       NULL|                       NULL| NULL|               NULL|             NULL|          NULL|             NULL|           NULL|  NULL|                       NULL|                       NULL| NULL|               NULL|             NULL|          NULL|             NULL|           NULL|  NULL|                       NULL|                       NULL| NULL|               NULL|             NULL|          NULL|             NULL|           NULL|  NULL|                       NULL|                       NULL| NULL|               NULL|             NULL|          NULL|             NULL|           NULL|  NULL|                       NULL|                       NULL| NULL|               NULL|             NULL|          NULL|             NULL|           NULL|  NULL|                       NULL|                       NULL| NULL|               NULL|             NULL|          NULL|             NULL|           NULL|  NULL|                       NULL|                       NULL| NULL|                NULL|              NULL|           NULL|              NULL|            NULL|   NULL|                        NULL|                        NULL|  NULL|                NULL|              NULL|           NULL|              NULL|            NULL|   NULL|                        NULL|                        NULL|  NULL|                NULL|              NULL|           NULL|              NULL|            NULL|   NULL|                        NULL|                        NULL|  NULL|                NULL|              NULL|           NULL|              NULL|            NULL|   NULL|                        NULL|                        NULL|  NULL|                NULL|              NULL|           NULL|              NULL|            NULL|   NULL|                        NULL|                        NULL|  NULL|                NULL|              NULL|           NULL|              NULL|            NULL|   NULL|                        NULL|                        NULL|  NULL|                NULL|              NULL|           NULL|              NULL|            NULL|   NULL|                        NULL|                        NULL|  NULL|                NULL|              NULL|           NULL|              NULL|            NULL|   NULL|                        NULL|                        NULL|  NULL|                NULL|              NULL|           NULL|              NULL|            NULL|   NULL|                        NULL|                        NULL|  NULL|\n",
      "|               1|                Ain|        1009|    Andert-et-Condon|     287|    209|              72.82|         78|                  27.18|     196|                        68.29|                       93.78|    12|                       4.18|                      5.74|   1|                     0.35|                    0.48|                  1|              ENS|      GIVERNET|             Olga|        FEMININ|   110|                      38.33|                      56.12|  élu|                  6|               RN|       DUBARRY|           Karine|        FEMININ|    86|                      29.97|                      43.88| NULL|               NULL|             NULL|          NULL|             NULL|           NULL|  NULL|                       NULL|                       NULL| NULL|               NULL|             NULL|          NULL|             NULL|           NULL|  NULL|                       NULL|                       NULL| NULL|               NULL|             NULL|          NULL|             NULL|           NULL|  NULL|                       NULL|                       NULL| NULL|               NULL|             NULL|          NULL|             NULL|           NULL|  NULL|                       NULL|                       NULL| NULL|               NULL|             NULL|          NULL|             NULL|           NULL|  NULL|                       NULL|                       NULL| NULL|               NULL|             NULL|          NULL|             NULL|           NULL|  NULL|                       NULL|                       NULL| NULL|               NULL|             NULL|          NULL|             NULL|           NULL|  NULL|                       NULL|                       NULL| NULL|                NULL|              NULL|           NULL|              NULL|            NULL|   NULL|                        NULL|                        NULL|  NULL|                NULL|              NULL|           NULL|              NULL|            NULL|   NULL|                        NULL|                        NULL|  NULL|                NULL|              NULL|           NULL|              NULL|            NULL|   NULL|                        NULL|                        NULL|  NULL|                NULL|              NULL|           NULL|              NULL|            NULL|   NULL|                        NULL|                        NULL|  NULL|                NULL|              NULL|           NULL|              NULL|            NULL|   NULL|                        NULL|                        NULL|  NULL|                NULL|              NULL|           NULL|              NULL|            NULL|   NULL|                        NULL|                        NULL|  NULL|                NULL|              NULL|           NULL|              NULL|            NULL|   NULL|                        NULL|                        NULL|  NULL|                NULL|              NULL|           NULL|              NULL|            NULL|   NULL|                        NULL|                        NULL|  NULL|                NULL|              NULL|           NULL|              NULL|            NULL|   NULL|                        NULL|                        NULL|  NULL|\n",
      "|               1|                Ain|        1010|           Anglefort|     827|    558|              67.47|        269|                  32.53|     533|                        64.45|                       95.52|    18|                       2.18|                      3.23|   7|                     0.85|                    1.25|                  1|              ENS|      GIVERNET|             Olga|        FEMININ|   238|                      28.78|                      44.65|  élu|                  6|               RN|       DUBARRY|           Karine|        FEMININ|   295|                      35.67|                      55.35| NULL|               NULL|             NULL|          NULL|             NULL|           NULL|  NULL|                       NULL|                       NULL| NULL|               NULL|             NULL|          NULL|             NULL|           NULL|  NULL|                       NULL|                       NULL| NULL|               NULL|             NULL|          NULL|             NULL|           NULL|  NULL|                       NULL|                       NULL| NULL|               NULL|             NULL|          NULL|             NULL|           NULL|  NULL|                       NULL|                       NULL| NULL|               NULL|             NULL|          NULL|             NULL|           NULL|  NULL|                       NULL|                       NULL| NULL|               NULL|             NULL|          NULL|             NULL|           NULL|  NULL|                       NULL|                       NULL| NULL|               NULL|             NULL|          NULL|             NULL|           NULL|  NULL|                       NULL|                       NULL| NULL|                NULL|              NULL|           NULL|              NULL|            NULL|   NULL|                        NULL|                        NULL|  NULL|                NULL|              NULL|           NULL|              NULL|            NULL|   NULL|                        NULL|                        NULL|  NULL|                NULL|              NULL|           NULL|              NULL|            NULL|   NULL|                        NULL|                        NULL|  NULL|                NULL|              NULL|           NULL|              NULL|            NULL|   NULL|                        NULL|                        NULL|  NULL|                NULL|              NULL|           NULL|              NULL|            NULL|   NULL|                        NULL|                        NULL|  NULL|                NULL|              NULL|           NULL|              NULL|            NULL|   NULL|                        NULL|                        NULL|  NULL|                NULL|              NULL|           NULL|              NULL|            NULL|   NULL|                        NULL|                        NULL|  NULL|                NULL|              NULL|           NULL|              NULL|            NULL|   NULL|                        NULL|                        NULL|  NULL|                NULL|              NULL|           NULL|              NULL|            NULL|   NULL|                        NULL|                        NULL|  NULL|\n",
      "|               1|                Ain|        1011|            Apremont|     296|    229|              77.36|         67|                  22.64|     206|                        69.59|                       89.96|    20|                       6.76|                      8.73|   3|                     1.01|                    1.31|                  4|               UG|        PISANI|         Florence|        FEMININ|    70|                      23.65|                      33.98| NULL|                  8|              UXD|       CHAVENT|             Marc|       MASCULIN|   136|                      45.95|                      66.02|  élu|               NULL|             NULL|          NULL|             NULL|           NULL|  NULL|                       NULL|                       NULL| NULL|               NULL|             NULL|          NULL|             NULL|           NULL|  NULL|                       NULL|                       NULL| NULL|               NULL|             NULL|          NULL|             NULL|           NULL|  NULL|                       NULL|                       NULL| NULL|               NULL|             NULL|          NULL|             NULL|           NULL|  NULL|                       NULL|                       NULL| NULL|               NULL|             NULL|          NULL|             NULL|           NULL|  NULL|                       NULL|                       NULL| NULL|               NULL|             NULL|          NULL|             NULL|           NULL|  NULL|                       NULL|                       NULL| NULL|               NULL|             NULL|          NULL|             NULL|           NULL|  NULL|                       NULL|                       NULL| NULL|                NULL|              NULL|           NULL|              NULL|            NULL|   NULL|                        NULL|                        NULL|  NULL|                NULL|              NULL|           NULL|              NULL|            NULL|   NULL|                        NULL|                        NULL|  NULL|                NULL|              NULL|           NULL|              NULL|            NULL|   NULL|                        NULL|                        NULL|  NULL|                NULL|              NULL|           NULL|              NULL|            NULL|   NULL|                        NULL|                        NULL|  NULL|                NULL|              NULL|           NULL|              NULL|            NULL|   NULL|                        NULL|                        NULL|  NULL|                NULL|              NULL|           NULL|              NULL|            NULL|   NULL|                        NULL|                        NULL|  NULL|                NULL|              NULL|           NULL|              NULL|            NULL|   NULL|                        NULL|                        NULL|  NULL|                NULL|              NULL|           NULL|              NULL|            NULL|   NULL|                        NULL|                        NULL|  NULL|                NULL|              NULL|           NULL|              NULL|            NULL|   NULL|                        NULL|                        NULL|  NULL|\n",
      "|               1|                Ain|        1012|               Aranc|     299|    218|              72.91|         81|                  27.09|     192|                        64.21|                       88.07|    23|                       7.69|                     10.55|   3|                      1.0|                    1.38|                  4|               UG|        PISANI|         Florence|        FEMININ|    92|                      30.77|                      47.92| NULL|                  8|              UXD|       CHAVENT|             Marc|       MASCULIN|   100|                      33.44|                      52.08|  élu|               NULL|             NULL|          NULL|             NULL|           NULL|  NULL|                       NULL|                       NULL| NULL|               NULL|             NULL|          NULL|             NULL|           NULL|  NULL|                       NULL|                       NULL| NULL|               NULL|             NULL|          NULL|             NULL|           NULL|  NULL|                       NULL|                       NULL| NULL|               NULL|             NULL|          NULL|             NULL|           NULL|  NULL|                       NULL|                       NULL| NULL|               NULL|             NULL|          NULL|             NULL|           NULL|  NULL|                       NULL|                       NULL| NULL|               NULL|             NULL|          NULL|             NULL|           NULL|  NULL|                       NULL|                       NULL| NULL|               NULL|             NULL|          NULL|             NULL|           NULL|  NULL|                       NULL|                       NULL| NULL|                NULL|              NULL|           NULL|              NULL|            NULL|   NULL|                        NULL|                        NULL|  NULL|                NULL|              NULL|           NULL|              NULL|            NULL|   NULL|                        NULL|                        NULL|  NULL|                NULL|              NULL|           NULL|              NULL|            NULL|   NULL|                        NULL|                        NULL|  NULL|                NULL|              NULL|           NULL|              NULL|            NULL|   NULL|                        NULL|                        NULL|  NULL|                NULL|              NULL|           NULL|              NULL|            NULL|   NULL|                        NULL|                        NULL|  NULL|                NULL|              NULL|           NULL|              NULL|            NULL|   NULL|                        NULL|                        NULL|  NULL|                NULL|              NULL|           NULL|              NULL|            NULL|   NULL|                        NULL|                        NULL|  NULL|                NULL|              NULL|           NULL|              NULL|            NULL|   NULL|                        NULL|                        NULL|  NULL|                NULL|              NULL|           NULL|              NULL|            NULL|   NULL|                        NULL|                        NULL|  NULL|\n",
      "|               1|                Ain|        1013|             Arandas|     125|     99|               79.2|         26|                   20.8|      90|                         72.0|                       90.91|     7|                        5.6|                      7.07|   2|                      1.6|                    2.02|                  4|               UG|        PISANI|         Florence|        FEMININ|    25|                       20.0|                      27.78| NULL|                  8|              UXD|       CHAVENT|             Marc|       MASCULIN|    65|                       52.0|                      72.22|  élu|               NULL|             NULL|          NULL|             NULL|           NULL|  NULL|                       NULL|                       NULL| NULL|               NULL|             NULL|          NULL|             NULL|           NULL|  NULL|                       NULL|                       NULL| NULL|               NULL|             NULL|          NULL|             NULL|           NULL|  NULL|                       NULL|                       NULL| NULL|               NULL|             NULL|          NULL|             NULL|           NULL|  NULL|                       NULL|                       NULL| NULL|               NULL|             NULL|          NULL|             NULL|           NULL|  NULL|                       NULL|                       NULL| NULL|               NULL|             NULL|          NULL|             NULL|           NULL|  NULL|                       NULL|                       NULL| NULL|               NULL|             NULL|          NULL|             NULL|           NULL|  NULL|                       NULL|                       NULL| NULL|                NULL|              NULL|           NULL|              NULL|            NULL|   NULL|                        NULL|                        NULL|  NULL|                NULL|              NULL|           NULL|              NULL|            NULL|   NULL|                        NULL|                        NULL|  NULL|                NULL|              NULL|           NULL|              NULL|            NULL|   NULL|                        NULL|                        NULL|  NULL|                NULL|              NULL|           NULL|              NULL|            NULL|   NULL|                        NULL|                        NULL|  NULL|                NULL|              NULL|           NULL|              NULL|            NULL|   NULL|                        NULL|                        NULL|  NULL|                NULL|              NULL|           NULL|              NULL|            NULL|   NULL|                        NULL|                        NULL|  NULL|                NULL|              NULL|           NULL|              NULL|            NULL|   NULL|                        NULL|                        NULL|  NULL|                NULL|              NULL|           NULL|              NULL|            NULL|   NULL|                        NULL|                        NULL|  NULL|                NULL|              NULL|           NULL|              NULL|            NULL|   NULL|                        NULL|                        NULL|  NULL|\n",
      "|               1|                Ain|        1014|              Arbent|    2253|   1481|              65.73|        772|                  34.27|    1330|                        59.03|                        89.8|   134|                       5.95|                      9.05|  17|                     0.75|                    1.15|                  4|               UG|        PISANI|         Florence|        FEMININ|   634|                      28.14|                      47.67| NULL|                  8|              UXD|       CHAVENT|             Marc|       MASCULIN|   696|                      30.89|                      52.33|  élu|               NULL|             NULL|          NULL|             NULL|           NULL|  NULL|                       NULL|                       NULL| NULL|               NULL|             NULL|          NULL|             NULL|           NULL|  NULL|                       NULL|                       NULL| NULL|               NULL|             NULL|          NULL|             NULL|           NULL|  NULL|                       NULL|                       NULL| NULL|               NULL|             NULL|          NULL|             NULL|           NULL|  NULL|                       NULL|                       NULL| NULL|               NULL|             NULL|          NULL|             NULL|           NULL|  NULL|                       NULL|                       NULL| NULL|               NULL|             NULL|          NULL|             NULL|           NULL|  NULL|                       NULL|                       NULL| NULL|               NULL|             NULL|          NULL|             NULL|           NULL|  NULL|                       NULL|                       NULL| NULL|                NULL|              NULL|           NULL|              NULL|            NULL|   NULL|                        NULL|                        NULL|  NULL|                NULL|              NULL|           NULL|              NULL|            NULL|   NULL|                        NULL|                        NULL|  NULL|                NULL|              NULL|           NULL|              NULL|            NULL|   NULL|                        NULL|                        NULL|  NULL|                NULL|              NULL|           NULL|              NULL|            NULL|   NULL|                        NULL|                        NULL|  NULL|                NULL|              NULL|           NULL|              NULL|            NULL|   NULL|                        NULL|                        NULL|  NULL|                NULL|              NULL|           NULL|              NULL|            NULL|   NULL|                        NULL|                        NULL|  NULL|                NULL|              NULL|           NULL|              NULL|            NULL|   NULL|                        NULL|                        NULL|  NULL|                NULL|              NULL|           NULL|              NULL|            NULL|   NULL|                        NULL|                        NULL|  NULL|                NULL|              NULL|           NULL|              NULL|            NULL|   NULL|                        NULL|                        NULL|  NULL|\n",
      "|               1|                Ain|        1015|     Arboys en Bugey|     562|    395|              70.28|        167|                  29.72|     368|                        65.48|                       93.16|    20|                       3.56|                      5.06|   7|                     1.25|                    1.77|                  1|              ENS|      GIVERNET|             Olga|        FEMININ|   209|                      37.19|                      56.79|  élu|                  6|               RN|       DUBARRY|           Karine|        FEMININ|   159|                      28.29|                      43.21| NULL|               NULL|             NULL|          NULL|             NULL|           NULL|  NULL|                       NULL|                       NULL| NULL|               NULL|             NULL|          NULL|             NULL|           NULL|  NULL|                       NULL|                       NULL| NULL|               NULL|             NULL|          NULL|             NULL|           NULL|  NULL|                       NULL|                       NULL| NULL|               NULL|             NULL|          NULL|             NULL|           NULL|  NULL|                       NULL|                       NULL| NULL|               NULL|             NULL|          NULL|             NULL|           NULL|  NULL|                       NULL|                       NULL| NULL|               NULL|             NULL|          NULL|             NULL|           NULL|  NULL|                       NULL|                       NULL| NULL|               NULL|             NULL|          NULL|             NULL|           NULL|  NULL|                       NULL|                       NULL| NULL|                NULL|              NULL|           NULL|              NULL|            NULL|   NULL|                        NULL|                        NULL|  NULL|                NULL|              NULL|           NULL|              NULL|            NULL|   NULL|                        NULL|                        NULL|  NULL|                NULL|              NULL|           NULL|              NULL|            NULL|   NULL|                        NULL|                        NULL|  NULL|                NULL|              NULL|           NULL|              NULL|            NULL|   NULL|                        NULL|                        NULL|  NULL|                NULL|              NULL|           NULL|              NULL|            NULL|   NULL|                        NULL|                        NULL|  NULL|                NULL|              NULL|           NULL|              NULL|            NULL|   NULL|                        NULL|                        NULL|  NULL|                NULL|              NULL|           NULL|              NULL|            NULL|   NULL|                        NULL|                        NULL|  NULL|                NULL|              NULL|           NULL|              NULL|            NULL|   NULL|                        NULL|                        NULL|  NULL|                NULL|              NULL|           NULL|              NULL|            NULL|   NULL|                        NULL|                        NULL|  NULL|\n",
      "|               1|                Ain|        1016|             Arbigny|     332|    239|              71.99|         93|                  28.01|     230|                        69.28|                       96.23|     8|                       2.41|                      3.35|   1|                      0.3|                    0.42|                  2|               RN|        MAÎTRE|       Christophe|       MASCULIN|   122|                      36.75|                      53.04| NULL|                  3|               LR|        BRETON|           Xavier|       MASCULIN|   108|                      32.53|                      46.96|  élu|               NULL|             NULL|          NULL|             NULL|           NULL|  NULL|                       NULL|                       NULL| NULL|               NULL|             NULL|          NULL|             NULL|           NULL|  NULL|                       NULL|                       NULL| NULL|               NULL|             NULL|          NULL|             NULL|           NULL|  NULL|                       NULL|                       NULL| NULL|               NULL|             NULL|          NULL|             NULL|           NULL|  NULL|                       NULL|                       NULL| NULL|               NULL|             NULL|          NULL|             NULL|           NULL|  NULL|                       NULL|                       NULL| NULL|               NULL|             NULL|          NULL|             NULL|           NULL|  NULL|                       NULL|                       NULL| NULL|               NULL|             NULL|          NULL|             NULL|           NULL|  NULL|                       NULL|                       NULL| NULL|                NULL|              NULL|           NULL|              NULL|            NULL|   NULL|                        NULL|                        NULL|  NULL|                NULL|              NULL|           NULL|              NULL|            NULL|   NULL|                        NULL|                        NULL|  NULL|                NULL|              NULL|           NULL|              NULL|            NULL|   NULL|                        NULL|                        NULL|  NULL|                NULL|              NULL|           NULL|              NULL|            NULL|   NULL|                        NULL|                        NULL|  NULL|                NULL|              NULL|           NULL|              NULL|            NULL|   NULL|                        NULL|                        NULL|  NULL|                NULL|              NULL|           NULL|              NULL|            NULL|   NULL|                        NULL|                        NULL|  NULL|                NULL|              NULL|           NULL|              NULL|            NULL|   NULL|                        NULL|                        NULL|  NULL|                NULL|              NULL|           NULL|              NULL|            NULL|   NULL|                        NULL|                        NULL|  NULL|                NULL|              NULL|           NULL|              NULL|            NULL|   NULL|                        NULL|                        NULL|  NULL|\n",
      "|               1|                Ain|        1017|               Argis|     324|    221|              68.21|        103|                  31.79|     197|                         60.8|                       89.14|    18|                       5.56|                      8.14|   6|                     1.85|                    2.71|                  4|               UG|        PISANI|         Florence|        FEMININ|    75|                      23.15|                      38.07| NULL|                  8|              UXD|       CHAVENT|             Marc|       MASCULIN|   122|                      37.65|                      61.93|  élu|               NULL|             NULL|          NULL|             NULL|           NULL|  NULL|                       NULL|                       NULL| NULL|               NULL|             NULL|          NULL|             NULL|           NULL|  NULL|                       NULL|                       NULL| NULL|               NULL|             NULL|          NULL|             NULL|           NULL|  NULL|                       NULL|                       NULL| NULL|               NULL|             NULL|          NULL|             NULL|           NULL|  NULL|                       NULL|                       NULL| NULL|               NULL|             NULL|          NULL|             NULL|           NULL|  NULL|                       NULL|                       NULL| NULL|               NULL|             NULL|          NULL|             NULL|           NULL|  NULL|                       NULL|                       NULL| NULL|               NULL|             NULL|          NULL|             NULL|           NULL|  NULL|                       NULL|                       NULL| NULL|                NULL|              NULL|           NULL|              NULL|            NULL|   NULL|                        NULL|                        NULL|  NULL|                NULL|              NULL|           NULL|              NULL|            NULL|   NULL|                        NULL|                        NULL|  NULL|                NULL|              NULL|           NULL|              NULL|            NULL|   NULL|                        NULL|                        NULL|  NULL|                NULL|              NULL|           NULL|              NULL|            NULL|   NULL|                        NULL|                        NULL|  NULL|                NULL|              NULL|           NULL|              NULL|            NULL|   NULL|                        NULL|                        NULL|  NULL|                NULL|              NULL|           NULL|              NULL|            NULL|   NULL|                        NULL|                        NULL|  NULL|                NULL|              NULL|           NULL|              NULL|            NULL|   NULL|                        NULL|                        NULL|  NULL|                NULL|              NULL|           NULL|              NULL|            NULL|   NULL|                        NULL|                        NULL|  NULL|                NULL|              NULL|           NULL|              NULL|            NULL|   NULL|                        NULL|                        NULL|  NULL|\n",
      "|               1|                Ain|        1019|               Armix|      37|     31|              83.78|          6|                  16.22|      27|                        72.97|                        87.1|     3|                       8.11|                      9.68|   1|                      2.7|                    3.23|                  4|               UG|        PISANI|         Florence|        FEMININ|    13|                      35.14|                      48.15| NULL|                  8|              UXD|       CHAVENT|             Marc|       MASCULIN|    14|                      37.84|                      51.85|  élu|               NULL|             NULL|          NULL|             NULL|           NULL|  NULL|                       NULL|                       NULL| NULL|               NULL|             NULL|          NULL|             NULL|           NULL|  NULL|                       NULL|                       NULL| NULL|               NULL|             NULL|          NULL|             NULL|           NULL|  NULL|                       NULL|                       NULL| NULL|               NULL|             NULL|          NULL|             NULL|           NULL|  NULL|                       NULL|                       NULL| NULL|               NULL|             NULL|          NULL|             NULL|           NULL|  NULL|                       NULL|                       NULL| NULL|               NULL|             NULL|          NULL|             NULL|           NULL|  NULL|                       NULL|                       NULL| NULL|               NULL|             NULL|          NULL|             NULL|           NULL|  NULL|                       NULL|                       NULL| NULL|                NULL|              NULL|           NULL|              NULL|            NULL|   NULL|                        NULL|                        NULL|  NULL|                NULL|              NULL|           NULL|              NULL|            NULL|   NULL|                        NULL|                        NULL|  NULL|                NULL|              NULL|           NULL|              NULL|            NULL|   NULL|                        NULL|                        NULL|  NULL|                NULL|              NULL|           NULL|              NULL|            NULL|   NULL|                        NULL|                        NULL|  NULL|                NULL|              NULL|           NULL|              NULL|            NULL|   NULL|                        NULL|                        NULL|  NULL|                NULL|              NULL|           NULL|              NULL|            NULL|   NULL|                        NULL|                        NULL|  NULL|                NULL|              NULL|           NULL|              NULL|            NULL|   NULL|                        NULL|                        NULL|  NULL|                NULL|              NULL|           NULL|              NULL|            NULL|   NULL|                        NULL|                        NULL|  NULL|                NULL|              NULL|           NULL|              NULL|            NULL|   NULL|                        NULL|                        NULL|  NULL|\n",
      "|               1|                Ain|        1021|     Ars-sur-Formans|    1088|    843|              77.48|        245|                  22.52|     814|                        74.82|                       96.56|    28|                       2.57|                      3.32|   1|                     0.09|                    0.12|                  1|               RN|       KOTARAC|           Andréa|       MASCULIN|   391|                      35.94|                      48.03| NULL|                  2|              ENS|        DAUBIÉ|           Romain|       MASCULIN|   423|                      38.88|                      51.97|  élu|               NULL|             NULL|          NULL|             NULL|           NULL|  NULL|                       NULL|                       NULL| NULL|               NULL|             NULL|          NULL|             NULL|           NULL|  NULL|                       NULL|                       NULL| NULL|               NULL|             NULL|          NULL|             NULL|           NULL|  NULL|                       NULL|                       NULL| NULL|               NULL|             NULL|          NULL|             NULL|           NULL|  NULL|                       NULL|                       NULL| NULL|               NULL|             NULL|          NULL|             NULL|           NULL|  NULL|                       NULL|                       NULL| NULL|               NULL|             NULL|          NULL|             NULL|           NULL|  NULL|                       NULL|                       NULL| NULL|               NULL|             NULL|          NULL|             NULL|           NULL|  NULL|                       NULL|                       NULL| NULL|                NULL|              NULL|           NULL|              NULL|            NULL|   NULL|                        NULL|                        NULL|  NULL|                NULL|              NULL|           NULL|              NULL|            NULL|   NULL|                        NULL|                        NULL|  NULL|                NULL|              NULL|           NULL|              NULL|            NULL|   NULL|                        NULL|                        NULL|  NULL|                NULL|              NULL|           NULL|              NULL|            NULL|   NULL|                        NULL|                        NULL|  NULL|                NULL|              NULL|           NULL|              NULL|            NULL|   NULL|                        NULL|                        NULL|  NULL|                NULL|              NULL|           NULL|              NULL|            NULL|   NULL|                        NULL|                        NULL|  NULL|                NULL|              NULL|           NULL|              NULL|            NULL|   NULL|                        NULL|                        NULL|  NULL|                NULL|              NULL|           NULL|              NULL|            NULL|   NULL|                        NULL|                        NULL|  NULL|                NULL|              NULL|           NULL|              NULL|            NULL|   NULL|                        NULL|                        NULL|  NULL|\n",
      "|               1|                Ain|        1022|            Artemare|     898|    600|              66.82|        298|                  33.18|     532|                        59.24|                       88.67|    55|                       6.12|                      9.17|  13|                     1.45|                    2.17|                  4|               UG|        PISANI|         Florence|        FEMININ|   169|                      18.82|                      31.77| NULL|                  8|              UXD|       CHAVENT|             Marc|       MASCULIN|   363|                      40.42|                      68.23|  élu|               NULL|             NULL|          NULL|             NULL|           NULL|  NULL|                       NULL|                       NULL| NULL|               NULL|             NULL|          NULL|             NULL|           NULL|  NULL|                       NULL|                       NULL| NULL|               NULL|             NULL|          NULL|             NULL|           NULL|  NULL|                       NULL|                       NULL| NULL|               NULL|             NULL|          NULL|             NULL|           NULL|  NULL|                       NULL|                       NULL| NULL|               NULL|             NULL|          NULL|             NULL|           NULL|  NULL|                       NULL|                       NULL| NULL|               NULL|             NULL|          NULL|             NULL|           NULL|  NULL|                       NULL|                       NULL| NULL|               NULL|             NULL|          NULL|             NULL|           NULL|  NULL|                       NULL|                       NULL| NULL|                NULL|              NULL|           NULL|              NULL|            NULL|   NULL|                        NULL|                        NULL|  NULL|                NULL|              NULL|           NULL|              NULL|            NULL|   NULL|                        NULL|                        NULL|  NULL|                NULL|              NULL|           NULL|              NULL|            NULL|   NULL|                        NULL|                        NULL|  NULL|                NULL|              NULL|           NULL|              NULL|            NULL|   NULL|                        NULL|                        NULL|  NULL|                NULL|              NULL|           NULL|              NULL|            NULL|   NULL|                        NULL|                        NULL|  NULL|                NULL|              NULL|           NULL|              NULL|            NULL|   NULL|                        NULL|                        NULL|  NULL|                NULL|              NULL|           NULL|              NULL|            NULL|   NULL|                        NULL|                        NULL|  NULL|                NULL|              NULL|           NULL|              NULL|            NULL|   NULL|                        NULL|                        NULL|  NULL|                NULL|              NULL|           NULL|              NULL|            NULL|   NULL|                        NULL|                        NULL|  NULL|\n",
      "|               1|                Ain|        1023|  Asnières-sur-Saône|      61|     52|              85.25|          9|                  14.75|      52|                        85.25|                       100.0|     0|                        0.0|                       0.0|   0|                      0.0|                     0.0|                  5|              ENS|      COQUELET|       Christophe|       MASCULIN|    13|                      21.31|                       25.0| NULL|                  6|               RN|       BUISSON|           Jérôme|       MASCULIN|    39|                      63.93|                       75.0|  élu|               NULL|             NULL|          NULL|             NULL|           NULL|  NULL|                       NULL|                       NULL| NULL|               NULL|             NULL|          NULL|             NULL|           NULL|  NULL|                       NULL|                       NULL| NULL|               NULL|             NULL|          NULL|             NULL|           NULL|  NULL|                       NULL|                       NULL| NULL|               NULL|             NULL|          NULL|             NULL|           NULL|  NULL|                       NULL|                       NULL| NULL|               NULL|             NULL|          NULL|             NULL|           NULL|  NULL|                       NULL|                       NULL| NULL|               NULL|             NULL|          NULL|             NULL|           NULL|  NULL|                       NULL|                       NULL| NULL|               NULL|             NULL|          NULL|             NULL|           NULL|  NULL|                       NULL|                       NULL| NULL|                NULL|              NULL|           NULL|              NULL|            NULL|   NULL|                        NULL|                        NULL|  NULL|                NULL|              NULL|           NULL|              NULL|            NULL|   NULL|                        NULL|                        NULL|  NULL|                NULL|              NULL|           NULL|              NULL|            NULL|   NULL|                        NULL|                        NULL|  NULL|                NULL|              NULL|           NULL|              NULL|            NULL|   NULL|                        NULL|                        NULL|  NULL|                NULL|              NULL|           NULL|              NULL|            NULL|   NULL|                        NULL|                        NULL|  NULL|                NULL|              NULL|           NULL|              NULL|            NULL|   NULL|                        NULL|                        NULL|  NULL|                NULL|              NULL|           NULL|              NULL|            NULL|   NULL|                        NULL|                        NULL|  NULL|                NULL|              NULL|           NULL|              NULL|            NULL|   NULL|                        NULL|                        NULL|  NULL|                NULL|              NULL|           NULL|              NULL|            NULL|   NULL|                        NULL|                        NULL|  NULL|\n",
      "+----------------+-------------------+------------+--------------------+--------+-------+-------------------+-----------+-----------------------+--------+-----------------------------+----------------------------+------+---------------------------+--------------------------+----+-------------------------+------------------------+-------------------+-----------------+--------------+-----------------+---------------+------+---------------------------+---------------------------+-----+-------------------+-----------------+--------------+-----------------+---------------+------+---------------------------+---------------------------+-----+-------------------+-----------------+--------------+-----------------+---------------+------+---------------------------+---------------------------+-----+-------------------+-----------------+--------------+-----------------+---------------+------+---------------------------+---------------------------+-----+-------------------+-----------------+--------------+-----------------+---------------+------+---------------------------+---------------------------+-----+-------------------+-----------------+--------------+-----------------+---------------+------+---------------------------+---------------------------+-----+-------------------+-----------------+--------------+-----------------+---------------+------+---------------------------+---------------------------+-----+-------------------+-----------------+--------------+-----------------+---------------+------+---------------------------+---------------------------+-----+-------------------+-----------------+--------------+-----------------+---------------+------+---------------------------+---------------------------+-----+--------------------+------------------+---------------+------------------+----------------+-------+----------------------------+----------------------------+------+--------------------+------------------+---------------+------------------+----------------+-------+----------------------------+----------------------------+------+--------------------+------------------+---------------+------------------+----------------+-------+----------------------------+----------------------------+------+--------------------+------------------+---------------+------------------+----------------+-------+----------------------------+----------------------------+------+--------------------+------------------+---------------+------------------+----------------+-------+----------------------------+----------------------------+------+--------------------+------------------+---------------+------------------+----------------+-------+----------------------------+----------------------------+------+--------------------+------------------+---------------+------------------+----------------+-------+----------------------------+----------------------------+------+--------------------+------------------+---------------+------------------+----------------+-------+----------------------------+----------------------------+------+--------------------+------------------+---------------+------------------+----------------+-------+----------------------------+----------------------------+------+\n",
      "only showing top 20 rows\n",
      "\n"
     ]
    }
   ],
   "source": [
    "df_res_2024_communes.show()"
   ]
  },
  {
   "cell_type": "markdown",
   "metadata": {},
   "source": [
    "We still have the Elu columns to handle\\\n",
    "We will transform them into boolean values as élu is True and the NULL values are False"
   ]
  },
  {
   "cell_type": "code",
   "execution_count": 21,
   "metadata": {},
   "outputs": [],
   "source": [
    "# Create the list of the Elu column' names\n",
    "elu_columns = [f\"Elu_{i}\" for i in range(1, 19, 1)]"
   ]
  },
  {
   "cell_type": "code",
   "execution_count": 22,
   "metadata": {},
   "outputs": [],
   "source": [
    "for columns in elu_columns:\n",
    "    df_res_2024_communes = df_res_2024_communes.withColumn(\n",
    "    columns, when(col(columns) == \"élu\", True).otherwise(False)\n",
    ")"
   ]
  },
  {
   "cell_type": "markdown",
   "metadata": {},
   "source": [
    "Count the number of columns with Null values in a specific column"
   ]
  },
  {
   "cell_type": "code",
   "execution_count": 23,
   "metadata": {},
   "outputs": [
    {
     "name": "stdout",
     "output_type": "stream",
     "text": [
      "+----------+\n",
      "|null_count|\n",
      "+----------+\n",
      "|       575|\n",
      "+----------+\n",
      "\n"
     ]
    }
   ],
   "source": [
    "from pyspark.sql.functions import isnull, sum, col, when\n",
    "\n",
    "null_count_df = df_res_2024_communes.select(\n",
    "    sum(when(isnull(col(\"Code_commune\")), 1).otherwise(0)).alias(\"null_count\")\n",
    ")\n",
    "\n",
    "null_count_df.show()  # Display the result"
   ]
  },
  {
   "cell_type": "code",
   "execution_count": 24,
   "metadata": {},
   "outputs": [
    {
     "name": "stdout",
     "output_type": "stream",
     "text": [
      "+----------+\n",
      "|null_count|\n",
      "+----------+\n",
      "|       575|\n",
      "+----------+\n",
      "\n"
     ]
    }
   ],
   "source": [
    "from pyspark.sql.functions import isnull, sum, col, when\n",
    "\n",
    "null_count_df = df_res_2024_communes.select(\n",
    "    sum(when(isnull(col(\"Code_département\")), 1).otherwise(0)).alias(\"null_count\")\n",
    ")\n",
    "\n",
    "null_count_df.show()  # Display the result"
   ]
  },
  {
   "cell_type": "markdown",
   "metadata": {},
   "source": [
    "We have to handle this missing values for the Code_Commune and Code_departement features\\\n",
    "Missing values:\n",
    " -  Code_Commune: 575\n",
    " -  Code_département: 575"
   ]
  },
  {
   "cell_type": "code",
   "execution_count": 34,
   "metadata": {},
   "outputs": [],
   "source": [
    "# Create a dictionnary with the missing departement codes:\n",
    "Code_departement = {\n",
    "    \"Corse-du-Sud\": '2A',\n",
    "    \"Haute-Corse\": '2B',\n",
    "    \"Français établis hors de France\": 99,\n",
    "    \"Saint-Barthélemy\": 977, \n",
    "    \"Saint-Martin\": 978, \n",
    "}\n",
    "\n",
    "# For Saint-Barthélemy and Saint-Martin we will base the condition on the Libellé_commune feature\n",
    "# For the other missing departements we will base the condition on the Libellé_département feature\n"
   ]
  },
  {
   "cell_type": "code",
   "execution_count": 32,
   "metadata": {},
   "outputs": [],
   "source": [
    "for key, value in Code_departement.items():\n",
    "    df_res_2024_communes = df_res_2024_communes.withColumn(\n",
    "        \"Code_département\",\n",
    "        when(col(\"Libellé_département\") == key, value).otherwise(col(\"Code_département\"))\n",
    "    )"
   ]
  },
  {
   "cell_type": "code",
   "execution_count": 35,
   "metadata": {},
   "outputs": [],
   "source": [
    "for key, value in Code_departement.items():\n",
    "    df_res_2024_communes = df_res_2024_communes.withColumn(\n",
    "        \"Code_département\",\n",
    "        when(col(\"Libellé_commune\") == key, value).otherwise(col(\"Code_département\"))\n",
    "    )"
   ]
  },
  {
   "cell_type": "code",
   "execution_count": 36,
   "metadata": {},
   "outputs": [
    {
     "name": "stdout",
     "output_type": "stream",
     "text": [
      "+----------+\n",
      "|null_count|\n",
      "+----------+\n",
      "|         0|\n",
      "+----------+\n",
      "\n"
     ]
    }
   ],
   "source": [
    "from pyspark.sql.functions import isnull, sum, col, when\n",
    "\n",
    "null_count_df = df_res_2024_communes.select(\n",
    "    sum(when(isnull(col(\"Code_département\")), 1).otherwise(0)).alias(\"null_count\")\n",
    ")\n",
    "\n",
    "null_count_df.show()  # Display the result"
   ]
  },
  {
   "cell_type": "code",
   "execution_count": 37,
   "metadata": {},
   "outputs": [
    {
     "name": "stdout",
     "output_type": "stream",
     "text": [
      "+----------------+\n",
      "|Code_département|\n",
      "+----------------+\n",
      "|              2B|\n",
      "|              2B|\n",
      "|              2B|\n",
      "|              2B|\n",
      "|              2B|\n",
      "|              2B|\n",
      "|              2B|\n",
      "|              2B|\n",
      "|              2B|\n",
      "|              2B|\n",
      "|              2B|\n",
      "|              2B|\n",
      "|              2B|\n",
      "|              2B|\n",
      "|              2B|\n",
      "|              2B|\n",
      "|              2B|\n",
      "|              2B|\n",
      "|              2B|\n",
      "|              2B|\n",
      "+----------------+\n",
      "only showing top 20 rows\n",
      "\n"
     ]
    }
   ],
   "source": [
    "# Assuming your DataFrame is named df_res_2024_communes\n",
    "target_libelle_departement = \"Haute-Corse\" \n",
    "\n",
    "df_res_2024_communes.filter(col(\"Libellé_département\") == target_libelle_departement) \\\n",
    "                     .select(\"Code_département\") \\\n",
    "                     .show()"
   ]
  },
  {
   "cell_type": "code",
   "execution_count": null,
   "metadata": {},
   "outputs": [],
   "source": [
    "# Updates schema\n",
    "df_res_2024_communes.printSchema()"
   ]
  },
  {
   "cell_type": "code",
   "execution_count": null,
   "metadata": {},
   "outputs": [],
   "source": [
    "print(df_res_2024_communes.dtypes)"
   ]
  },
  {
   "cell_type": "markdown",
   "metadata": {},
   "source": [
    "Convert the DataFrame in Pandas"
   ]
  },
  {
   "cell_type": "code",
   "execution_count": 29,
   "metadata": {},
   "outputs": [],
   "source": [
    "pd_df = df_res_2024_communes.select(\"*\").toPandas()"
   ]
  },
  {
   "cell_type": "code",
   "execution_count": null,
   "metadata": {},
   "outputs": [],
   "source": [
    "type(pd_df)"
   ]
  },
  {
   "cell_type": "code",
   "execution_count": null,
   "metadata": {},
   "outputs": [],
   "source": [
    "print(pd_df[\"Code_département\"])"
   ]
  },
  {
   "cell_type": "code",
   "execution_count": null,
   "metadata": {},
   "outputs": [],
   "source": [
    "df.dtypes"
   ]
  },
  {
   "cell_type": "markdown",
   "metadata": {},
   "source": [
    "Write the DataFrame into csv"
   ]
  },
  {
   "cell_type": "code",
   "execution_count": 30,
   "metadata": {},
   "outputs": [],
   "source": [
    "pd_df.to_csv(\"../Clean_Data/2024/clean_dataset_legislative_2024.csv\", sep=\";\", header=True, index=False)"
   ]
  },
  {
   "cell_type": "markdown",
   "metadata": {},
   "source": [
    "Read the csv file"
   ]
  },
  {
   "cell_type": "code",
   "execution_count": null,
   "metadata": {},
   "outputs": [],
   "source": [
    "df = pd.read_csv(\"../Clean_Data/2024/clean_dataset_legislative_2024.csv\", sep=\";\")"
   ]
  },
  {
   "cell_type": "code",
   "execution_count": null,
   "metadata": {},
   "outputs": [],
   "source": [
    "df.head(5)"
   ]
  },
  {
   "cell_type": "code",
   "execution_count": null,
   "metadata": {},
   "outputs": [],
   "source": [
    "df.Code_département.dtype"
   ]
  }
 ],
 "metadata": {
  "kernelspec": {
   "display_name": "py_env_analysis",
   "language": "python",
   "name": "python3"
  },
  "language_info": {
   "codemirror_mode": {
    "name": "ipython",
    "version": 3
   },
   "file_extension": ".py",
   "mimetype": "text/x-python",
   "name": "python",
   "nbconvert_exporter": "python",
   "pygments_lexer": "ipython3",
   "version": "3.11.9"
  }
 },
 "nbformat": 4,
 "nbformat_minor": 2
}
